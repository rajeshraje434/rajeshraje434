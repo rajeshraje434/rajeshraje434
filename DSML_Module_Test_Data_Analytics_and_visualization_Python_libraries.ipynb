{
  "nbformat": 4,
  "nbformat_minor": 0,
  "metadata": {
    "colab": {
      "provenance": [],
      "authorship_tag": "ABX9TyMW9kZMIvsRU3VGVbpZcF6f",
      "include_colab_link": true
    },
    "kernelspec": {
      "name": "python3",
      "display_name": "Python 3"
    },
    "language_info": {
      "name": "python"
    }
  },
  "cells": [
    {
      "cell_type": "markdown",
      "metadata": {
        "id": "view-in-github",
        "colab_type": "text"
      },
      "source": [
        "<a href=\"https://colab.research.google.com/github/rajeshraje434/rajeshraje434/blob/main/DSML_Module_Test_Data_Analytics_and_visualization_Python_libraries.ipynb\" target=\"_parent\"><img src=\"https://colab.research.google.com/assets/colab-badge.svg\" alt=\"Open In Colab\"/></a>"
      ]
    },
    {
      "cell_type": "code",
      "execution_count": 5,
      "metadata": {
        "colab": {
          "base_uri": "https://localhost:8080/"
        },
        "id": "XJy3nfxIKll6",
        "outputId": "52310e02-5671-4f6e-e79e-c076c0468240"
      },
      "outputs": [
        {
          "output_type": "stream",
          "name": "stdout",
          "text": [
            "The range with the maximum number of total bills is: (10, 20]\n"
          ]
        }
      ],
      "source": [
        "# Question 3\n",
        "import pandas as pd\n",
        "import seaborn as sns\n",
        "\n",
        "# Load the 'tips' dataset\n",
        "df = sns.load_dataset('tips')\n",
        "\n",
        "# Find the range in which the maximum number of total bills are there\n",
        "total_bill_ranges = pd.cut(df['total_bill'], bins=[10, 20, 30, 40, 50])\n",
        "range_with_max_count = total_bill_ranges.value_counts().idxmax()\n",
        "\n",
        "print(\"The range with the maximum number of total bills is:\", range_with_max_count)\n"
      ]
    },
    {
      "cell_type": "code",
      "source": [
        "#  Question 4\n",
        "import numpy as np\n",
        "\n",
        "# Create an array from 1 to 20\n",
        "original_array = np.arange(1, 21)\n",
        "\n",
        "# Square the even numbers and leave the odd numbers unchanged\n",
        "modified_array = np.where(original_array % 2 == 0, original_array**2, original_array)\n",
        "\n",
        "# Reshape the array into 10 rows and 2 columns\n",
        "reshaped_array = modified_array.reshape(10, 2)\n",
        "\n",
        "# Find the sum of the last column\n",
        "sum_of_last_column = np.sum(reshaped_array[:, 1])\n",
        "\n",
        "print(\"Sum of the last column:\", sum_of_last_column)\n"
      ],
      "metadata": {
        "colab": {
          "base_uri": "https://localhost:8080/"
        },
        "id": "MaNoXXv1LI-T",
        "outputId": "d798a7a8-e610-40aa-c487-9968373aeee9"
      },
      "execution_count": 6,
      "outputs": [
        {
          "output_type": "stream",
          "name": "stdout",
          "text": [
            "Sum of the last column: 1540\n"
          ]
        }
      ]
    },
    {
      "cell_type": "code",
      "source": [
        "# Question 5\n",
        "import numpy as np\n",
        "\n",
        "# Create an array from 1 to 10\n",
        "original_array = np.arange(1, 11)\n",
        "\n",
        "# Extract even and odd numbers\n",
        "even_numbers = original_array[original_array % 2 == 0]\n",
        "odd_numbers = original_array[original_array % 2 != 0]\n",
        "\n",
        "# Stack the two separated arrays vertically\n",
        "stacked_array = np.vstack((even_numbers, odd_numbers))\n",
        "\n",
        "# Find the shape of the resulted array\n",
        "resulted_shape = stacked_array.shape\n",
        "\n",
        "print(\"Shape of the resulted array:\", resulted_shape)\n"
      ],
      "metadata": {
        "colab": {
          "base_uri": "https://localhost:8080/"
        },
        "id": "_WdrtZCzLfr4",
        "outputId": "606a798d-0391-438e-ddf0-ae19bca2953b"
      },
      "execution_count": 7,
      "outputs": [
        {
          "output_type": "stream",
          "name": "stdout",
          "text": [
            "Shape of the resulted array: (2, 5)\n"
          ]
        }
      ]
    },
    {
      "cell_type": "code",
      "source": [
        "# Question 6\n",
        "import numpy as np\n",
        "\n",
        "# Create an array from 0 to 9\n",
        "original_array = np.arange(10)\n",
        "\n",
        "# Separate even and odd numbers\n",
        "even_numbers = original_array[original_array % 2 == 0]\n",
        "odd_numbers = original_array[original_array % 2 != 0]\n",
        "\n",
        "# Stack even numbers before odd numbers horizontally\n",
        "new_array = np.hstack((even_numbers, odd_numbers))\n",
        "\n",
        "# Reshape the new array into 2 rows and 5 columns\n",
        "reshaped_array = new_array.reshape(2, 5)\n",
        "\n",
        "# Find the mean of the numbers in the first row of the reshaped array\n",
        "mean_of_first_row = np.mean(reshaped_array[0])\n",
        "\n",
        "print(\"Mean of the numbers in the first row:\", mean_of_first_row)\n"
      ],
      "metadata": {
        "colab": {
          "base_uri": "https://localhost:8080/"
        },
        "id": "LjUe6NNVMxLq",
        "outputId": "4a972231-4317-4339-98d5-668e8ba83763"
      },
      "execution_count": 8,
      "outputs": [
        {
          "output_type": "stream",
          "name": "stdout",
          "text": [
            "Mean of the numbers in the first row: 4.0\n"
          ]
        }
      ]
    },
    {
      "cell_type": "code",
      "source": [
        "# Question 7\n",
        "import seaborn as sns\n",
        "\n",
        "# Load the 'tips' dataset\n",
        "df = sns.load_dataset('tips')\n",
        "\n",
        "# Filter the rows where total bill is greater than 20 and tip is greater than 4\n",
        "filtered_df = df[(df['total_bill'] > 20) & (df['tip'] > 4)]\n",
        "\n",
        "# Get the number of rows in the filtered DataFrame\n",
        "num_rows = filtered_df.shape[0]\n",
        "\n",
        "print(\"Number of rows with total bill > 20 and tip > 4:\", num_rows)\n"
      ],
      "metadata": {
        "colab": {
          "base_uri": "https://localhost:8080/"
        },
        "id": "38Zhk8vOOQBK",
        "outputId": "293e24cf-1834-4f55-e10e-9c1ec95eb094"
      },
      "execution_count": 14,
      "outputs": [
        {
          "output_type": "stream",
          "name": "stdout",
          "text": [
            "Number of rows with total bill > 20 and tip > 4: 37\n"
          ]
        }
      ]
    },
    {
      "cell_type": "code",
      "source": [
        "import pandas as pd\n",
        "\n",
        "# Load the dataset from the provided link\n",
        "link = \"https://d2beiqkhq929f0.cloudfront.net/public_assets/assets/000/033/327/original/flights.csv?1683012330\"\n",
        "df = pd.read_csv(link)"
      ],
      "metadata": {
        "id": "0YKX4069PQAk"
      },
      "execution_count": 18,
      "outputs": []
    },
    {
      "cell_type": "code",
      "source": [
        "# Question 8\n",
        "import pandas as pd\n",
        "\n",
        "# Load the dataset from the provided link\n",
        "link = \"https://d2beiqkhq929f0.cloudfront.net/public_assets/assets/000/033/327/original/flights.csv?1683012330\"\n",
        "df = pd.read_csv(link)\n",
        "\n",
        "# Group the data by year and month and sum the passengers\n",
        "passengers_by_month = df.groupby(['year', 'month'])['passengers'].sum()\n",
        "\n",
        "# Find the year and month with the highest number of passengers\n",
        "max_passengers_month = passengers_by_month.idxmax()\n",
        "\n",
        "print(\"Year and month with the highest number of passengers:\", max_passengers_month)\n"
      ],
      "metadata": {
        "colab": {
          "base_uri": "https://localhost:8080/"
        },
        "id": "IM9AM7VGRC-N",
        "outputId": "a112b312-7703-4c6c-b3b5-3d97949864c9"
      },
      "execution_count": 17,
      "outputs": [
        {
          "output_type": "stream",
          "name": "stdout",
          "text": [
            "Year and month with the highest number of passengers: (1960, 'Jul')\n"
          ]
        }
      ]
    },
    {
      "cell_type": "code",
      "source": [],
      "metadata": {
        "id": "RB_nu8J6RZWe"
      },
      "execution_count": null,
      "outputs": []
    }
  ]
}