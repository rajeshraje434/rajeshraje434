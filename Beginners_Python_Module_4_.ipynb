{
  "nbformat": 4,
  "nbformat_minor": 0,
  "metadata": {
    "colab": {
      "provenance": [],
      "authorship_tag": "ABX9TyMtrHevRBOSBiJiuAr0RvBp",
      "include_colab_link": true
    },
    "kernelspec": {
      "name": "python3",
      "display_name": "Python 3"
    },
    "language_info": {
      "name": "python"
    }
  },
  "cells": [
    {
      "cell_type": "markdown",
      "metadata": {
        "id": "view-in-github",
        "colab_type": "text"
      },
      "source": [
        "<a href=\"https://colab.research.google.com/github/rajeshraje434/rajeshraje434/blob/main/Beginners_Python_Module_4_.ipynb\" target=\"_parent\"><img src=\"https://colab.research.google.com/assets/colab-badge.svg\" alt=\"Open In Colab\"/></a>"
      ]
    },
    {
      "cell_type": "markdown",
      "source": [
        "### **Beginners Python Module 4**"
      ],
      "metadata": {
        "id": "ZzQewZZJKWpe"
      }
    },
    {
      "cell_type": "code",
      "execution_count": null,
      "metadata": {
        "colab": {
          "base_uri": "https://localhost:8080/"
        },
        "id": "RrniYOtLC_Eg",
        "outputId": "e5615fab-04b5-4aac-b116-c5c505e7f488"
      },
      "outputs": [
        {
          "output_type": "stream",
          "name": "stdout",
          "text": [
            "what is your weight:86.5\n",
            "your weight in grams: 86500.0\n"
          ]
        }
      ],
      "source": [
        "weight_kgs=input(\"what is your weight:\")\n",
        "weight_kgs=float(weight_kgs)\n",
        "print(\"your weight in grams:\", weight_kgs *1000)"
      ]
    },
    {
      "cell_type": "code",
      "source": [
        "A=int(input(\"a:\"))\n",
        "B=int(input(\"b:\"))\n",
        "total = A+B\n",
        "print(\"Total:\",total)\n",
        "avg=total/2\n",
        "print(\"average:\", avg)"
      ],
      "metadata": {
        "colab": {
          "base_uri": "https://localhost:8080/"
        },
        "id": "wFobzFK0FRKX",
        "outputId": "cb0c13d9-6859-4ef4-d5f9-09c8be20fbec"
      },
      "execution_count": null,
      "outputs": [
        {
          "output_type": "stream",
          "name": "stdout",
          "text": [
            "a:10\n",
            "b:20\n",
            "Total: 30\n",
            "average: 15.0\n"
          ]
        }
      ]
    },
    {
      "cell_type": "code",
      "source": [
        "age=20\n",
        "criminal=False\n",
        "print(age>=22 and not criminal)"
      ],
      "metadata": {
        "colab": {
          "base_uri": "https://localhost:8080/"
        },
        "id": "Jj3U4umngupG",
        "outputId": "020d0aeb-58e1-47d2-b4b8-8706b8a972ea"
      },
      "execution_count": null,
      "outputs": [
        {
          "output_type": "stream",
          "name": "stdout",
          "text": [
            "False\n"
          ]
        }
      ]
    },
    {
      "cell_type": "code",
      "source": [
        "print(True == 1)"
      ],
      "metadata": {
        "colab": {
          "base_uri": "https://localhost:8080/"
        },
        "id": "Q72INspS6G_Y",
        "outputId": "e6687ba8-048b-4fad-82fe-7febd71127bd"
      },
      "execution_count": null,
      "outputs": [
        {
          "output_type": "stream",
          "name": "stdout",
          "text": [
            "True\n"
          ]
        }
      ]
    },
    {
      "cell_type": "code",
      "source": [
        "print(\"1\" == 1)"
      ],
      "metadata": {
        "id": "QFBypHEE6qTY",
        "outputId": "f48a694a-7e39-4b51-8837-42b39486ea83",
        "colab": {
          "base_uri": "https://localhost:8080/"
        }
      },
      "execution_count": null,
      "outputs": [
        {
          "output_type": "stream",
          "name": "stdout",
          "text": [
            "False\n"
          ]
        }
      ]
    },
    {
      "cell_type": "code",
      "source": [],
      "metadata": {
        "id": "b0Wi1Mbarn8R"
      },
      "execution_count": null,
      "outputs": []
    },
    {
      "cell_type": "code",
      "source": [],
      "metadata": {
        "id": "SGTkwgBhrnUr"
      },
      "execution_count": null,
      "outputs": []
    },
    {
      "cell_type": "code",
      "source": [
        "value = int(input())\n",
        "cube = value**3\n",
        "if cube>50:\n",
        "  print(\"that is huge\")\n",
        "else:\n",
        "  print(\"that is tiny\")\n",
        "print(\"exicution COMPLETE\")"
      ],
      "metadata": {
        "colab": {
          "base_uri": "https://localhost:8080/"
        },
        "id": "WI3Y6iNSprIo",
        "outputId": "81bd1522-e0a1-4c8a-ceab-4fdf3f4a7b36"
      },
      "execution_count": null,
      "outputs": [
        {
          "output_type": "stream",
          "name": "stdout",
          "text": [
            "5\n",
            "that is huge\n",
            "exicution COMPLETE\n"
          ]
        }
      ]
    },
    {
      "cell_type": "code",
      "source": [
        "password = input()\n",
        "Re_enter_password = input()\n",
        "if password == Re_enter_password:\n",
        "  print(\"passwords are good\")\n",
        "else:\n",
        "  print(\"issues with password\")"
      ],
      "metadata": {
        "colab": {
          "base_uri": "https://localhost:8080/"
        },
        "id": "fQ2nOvYarpeB",
        "outputId": "275bab72-c807-4e32-9c0d-cd61fd78415f"
      },
      "execution_count": null,
      "outputs": [
        {
          "output_type": "stream",
          "name": "stdout",
          "text": [
            "rh32\n",
            "rh23\n",
            "issues with password\n"
          ]
        }
      ]
    },
    {
      "cell_type": "code",
      "source": [
        "time=23\n",
        "if time>=9 and time<12:\n",
        "  print(\"good morning\")\n",
        "else:\n",
        "  if time>=12 and time<17:\n",
        "    print(\"good afternoon\")\n",
        "  else:\n",
        "    if time>=17 and time<22:\n",
        "      print(\"good evening\")\n",
        "    else:\n",
        "      print(\"good Night\")"
      ],
      "metadata": {
        "colab": {
          "base_uri": "https://localhost:8080/"
        },
        "id": "Ts092Pp0thz-",
        "outputId": "e4653302-48f5-4ab0-ceea-0770b967de4c"
      },
      "execution_count": null,
      "outputs": [
        {
          "output_type": "stream",
          "name": "stdout",
          "text": [
            "good Night\n"
          ]
        }
      ]
    },
    {
      "cell_type": "code",
      "source": [
        "time=11\n",
        "if time>=9 and time<12:\n",
        "  print(\"good morning\")\n",
        "elif time>=12 and time<17:\n",
        "    print(\"good afternoon\")\n",
        "elif time>=17 and time<22:\n",
        "      print(\"good evening\")\n",
        "else:\n",
        "    print(\"good Night\")"
      ],
      "metadata": {
        "colab": {
          "base_uri": "https://localhost:8080/"
        },
        "id": "meuTr0VuzOsb",
        "outputId": "90bd6961-cf6c-46fe-c2ad-2178ea82ed44"
      },
      "execution_count": null,
      "outputs": [
        {
          "output_type": "stream",
          "name": "stdout",
          "text": [
            "good morning\n"
          ]
        }
      ]
    },
    {
      "cell_type": "code",
      "source": [
        "integer = int(input()).\n",
        "if integer >0:\n",
        "    print(\"positive\")\n",
        "else:\n",
        "    print(\"Not positive\")"
      ],
      "metadata": {
        "colab": {
          "base_uri": "https://localhost:8080/"
        },
        "id": "Azcv3TUZzh7w",
        "outputId": "b7568ede-f986-4849-89ac-0a81ec2a8416"
      },
      "execution_count": null,
      "outputs": [
        {
          "output_type": "stream",
          "name": "stdout",
          "text": [
            "0\n",
            "Not positive\n"
          ]
        }
      ]
    },
    {
      "cell_type": "code",
      "source": [
        "Number = int(input())\n",
        "if Number >0:\n",
        "    print(\"Positive\")\n",
        "elif Number < 0:\n",
        "    print(\"Negative\")\n",
        "else:\n",
        "    print(\"Zero\")"
      ],
      "metadata": {
        "colab": {
          "base_uri": "https://localhost:8080/"
        },
        "id": "_jR9EiMc1g8l",
        "outputId": "e78ca472-2d11-481c-c3b3-cef28b922172"
      },
      "execution_count": null,
      "outputs": [
        {
          "output_type": "stream",
          "name": "stdout",
          "text": [
            "0\n",
            "Zero\n"
          ]
        }
      ]
    },
    {
      "cell_type": "code",
      "source": [
        "value = int(input())\n",
        "if value > 0 and value <=9 :\n",
        "    expression = value**5%50+20-6\n",
        "    if expression>15:\n",
        "        print(\"Black\")\n",
        "    else:\n",
        "        print(\"Blue\")\n",
        "else:\n",
        "    print(\"INVALID INPUT\")\n",
        "\n"
      ],
      "metadata": {
        "colab": {
          "base_uri": "https://localhost:8080/"
        },
        "id": "rPKriqjt2vG9",
        "outputId": "965b5231-40b7-4d8d-bf69-c43e422a6f05"
      },
      "execution_count": null,
      "outputs": [
        {
          "output_type": "stream",
          "name": "stdout",
          "text": [
            "5\n",
            "Black\n"
          ]
        }
      ]
    },
    {
      "cell_type": "code",
      "source": [
        "enter_language = input(\"what langiage do you like : \").lower()\n",
        "if enter_language == \"python\":\n",
        "    print(\"good choice\")\n",
        "else:\n",
        "    print(\"think again\")\n"
      ],
      "metadata": {
        "colab": {
          "base_uri": "https://localhost:8080/"
        },
        "id": "akHpWTNw6GON",
        "outputId": "ba5b5589-a674-45f6-ffc3-22a6074a7580"
      },
      "execution_count": null,
      "outputs": [
        {
          "output_type": "stream",
          "name": "stdout",
          "text": [
            "what langiage do you like : PYThon\n",
            "good choice\n"
          ]
        }
      ]
    },
    {
      "cell_type": "code",
      "source": [
        "numb = int(input())\n",
        "if numb%3==0:\n",
        "    print(\"FIZZ\")\n",
        "elif numb%5==0:\n",
        "    print(\"BUZZ\")\n",
        "elif numb%3==0 and numb%5==0:\n",
        "    print(\"FIZZBUZZ\")\n",
        "# what's wrong???"
      ],
      "metadata": {
        "colab": {
          "base_uri": "https://localhost:8080/"
        },
        "id": "bO6rs0g97Un9",
        "outputId": "79ab39f9-fa62-48f1-c619-d2bb510b1464"
      },
      "execution_count": null,
      "outputs": [
        {
          "output_type": "stream",
          "name": "stdout",
          "text": [
            "30\n",
            "FIZZ\n"
          ]
        }
      ]
    },
    {
      "cell_type": "code",
      "source": [
        "numb = int(input())\n",
        "if numb%3==0 and numb%5==0:\n",
        "    print(\"FIZZBUZZ\")\n",
        "elif numb%3==0:\n",
        "    print(\"FIZZ\")\n",
        "elif numb%5==0:\n",
        "    print(\"BUZZ\")\n"
      ],
      "metadata": {
        "colab": {
          "base_uri": "https://localhost:8080/"
        },
        "id": "ktyWSXZA9VCm",
        "outputId": "76980291-f6bd-45b1-82e8-7955ba9385e6"
      },
      "execution_count": null,
      "outputs": [
        {
          "output_type": "stream",
          "name": "stdout",
          "text": [
            "30\n",
            "FIZZBUZZ\n"
          ]
        }
      ]
    },
    {
      "cell_type": "code",
      "source": [
        "a=50\n",
        "if a>40:\n",
        "    print(\"A\")\n",
        "if a>30:\n",
        "    print(\"B\")\n",
        "if a>20:\n",
        "    print(\"C\")"
      ],
      "metadata": {
        "colab": {
          "base_uri": "https://localhost:8080/"
        },
        "id": "OQ4G5RER9jTP",
        "outputId": "56e85f79-a016-446d-df79-2161dd945cde"
      },
      "execution_count": null,
      "outputs": [
        {
          "output_type": "stream",
          "name": "stdout",
          "text": [
            "A\n",
            "B\n",
            "C\n"
          ]
        }
      ]
    },
    {
      "cell_type": "code",
      "source": [
        "a = int(input())\n",
        "if a>=2:\n",
        "    print(\"TRUE\")"
      ],
      "metadata": {
        "colab": {
          "base_uri": "https://localhost:8080/"
        },
        "id": "BVUeJXr6qIXX",
        "outputId": "0eadfdea-2f1e-4ad0-d672-20b1d8f28540"
      },
      "execution_count": null,
      "outputs": [
        {
          "name": "stdout",
          "output_type": "stream",
          "text": [
            "1\n"
          ]
        }
      ]
    },
    {
      "cell_type": "code",
      "source": [
        "a = int(input())\n",
        "if (a%2!=0):\n",
        "      print(\"TRUE\")"
      ],
      "metadata": {
        "colab": {
          "base_uri": "https://localhost:8080/"
        },
        "id": "Xpi2MVEPypQ8",
        "outputId": "c40f81b5-ae31-4347-d217-3ff201b4b0e8"
      },
      "execution_count": null,
      "outputs": [
        {
          "output_type": "stream",
          "name": "stdout",
          "text": [
            "5\n",
            "TRUE\n"
          ]
        }
      ]
    },
    {
      "cell_type": "code",
      "source": [
        "S = int(input(\"Selling price : \"))\n",
        "C = int(input(\"Cost price : \"))\n",
        "profit = S-C\n",
        "if C < S:\n",
        "    print(1)\n",
        "else:\n",
        "    print(-1)\n",
        "print(profit)\n"
      ],
      "metadata": {
        "colab": {
          "base_uri": "https://localhost:8080/"
        },
        "id": "kZ1buu7Fy4rM",
        "outputId": "433990f7-ecfc-44a4-c2c3-ab9bf29a673d"
      },
      "execution_count": null,
      "outputs": [
        {
          "output_type": "stream",
          "name": "stdout",
          "text": [
            "Selling price : 8\n",
            "Cost price : 9\n",
            "-1\n",
            "-1\n"
          ]
        }
      ]
    },
    {
      "cell_type": "code",
      "source": [
        "C = int(input(\"Cost price : \"))\n",
        "S = int(input(\"Selling price : \"))\n",
        "if C < S:\n",
        "    print(1)\n",
        "    print(S-C)\n",
        "else:\n",
        "    print(-1)\n",
        "    print(C-S)"
      ],
      "metadata": {
        "colab": {
          "base_uri": "https://localhost:8080/"
        },
        "id": "4Lg0ZuqN3fBq",
        "outputId": "3651016d-5d03-4af1-fb6d-d56ab0401bb7"
      },
      "execution_count": null,
      "outputs": [
        {
          "output_type": "stream",
          "name": "stdout",
          "text": [
            "Cost price : 3\n",
            "Selling price : 5\n",
            "1\n",
            "2\n"
          ]
        }
      ]
    },
    {
      "cell_type": "code",
      "source": [
        "C = int(input())\n",
        "S = int(input())\n",
        "\n",
        "profit = S - C\n",
        "\n",
        "if profit > 0:\n",
        "    print(1)\n",
        "else:\n",
        "    print(-1)\n",
        "\n",
        "print(abs(profit))\n"
      ],
      "metadata": {
        "colab": {
          "base_uri": "https://localhost:8080/"
        },
        "id": "5jLgGkV88ETx",
        "outputId": "e1586f49-1d4d-4b48-ffb3-dc6fa873ca5c"
      },
      "execution_count": null,
      "outputs": [
        {
          "output_type": "stream",
          "name": "stdout",
          "text": [
            "54869\n",
            "89874\n",
            "1\n",
            "35005\n"
          ]
        }
      ]
    },
    {
      "cell_type": "code",
      "source": [
        "A = int(input())\n",
        "B = int(input())\n",
        "print(min(A, B))"
      ],
      "metadata": {
        "colab": {
          "base_uri": "https://localhost:8080/"
        },
        "id": "4ciGsiT1y11M",
        "outputId": "3f8cb953-31d1-475d-a78f-075071b583a6"
      },
      "execution_count": null,
      "outputs": [
        {
          "output_type": "stream",
          "name": "stdout",
          "text": [
            "10987\n",
            "586\n",
            "586\n"
          ]
        }
      ]
    },
    {
      "cell_type": "code",
      "source": [
        "# if syntax is valid or not ->>>>> invalid_syntax\n",
        "\n",
        "x = 2\n",
        "if x==2:\n",
        "    x = 3\n",
        "x = 4\n",
        "else:\n",
        "    x = 5\n",
        "print(x)"
      ],
      "metadata": {
        "colab": {
          "base_uri": "https://localhost:8080/",
          "height": 130
        },
        "id": "4wjRjoiQiqQ7",
        "outputId": "7dd25b2f-ed70-4c68-9607-9bff76dfa830"
      },
      "execution_count": null,
      "outputs": [
        {
          "output_type": "error",
          "ename": "SyntaxError",
          "evalue": "ignored",
          "traceback": [
            "\u001b[0;36m  File \u001b[0;32m\"<ipython-input-45-f39cd7db9a9c>\"\u001b[0;36m, line \u001b[0;32m5\u001b[0m\n\u001b[0;31m    else:\u001b[0m\n\u001b[0m    ^\u001b[0m\n\u001b[0;31mSyntaxError\u001b[0m\u001b[0;31m:\u001b[0m invalid syntax\n"
          ]
        }
      ]
    },
    {
      "cell_type": "code",
      "source": [
        "\n",
        "#if statement is correct or not>>>.\n",
        "\n",
        "if x > 2:\n",
        "    x = x*2\n",
        "if x > 4:\n",
        "    x = 0\n",
        "print(x)\n"
      ],
      "metadata": {
        "colab": {
          "base_uri": "https://localhost:8080/",
          "height": 235
        },
        "id": "3SMJj1fSi1wT",
        "outputId": "e48b0ca2-db5b-4468-95ed-d18c34ea1e55"
      },
      "execution_count": null,
      "outputs": [
        {
          "output_type": "error",
          "ename": "NameError",
          "evalue": "ignored",
          "traceback": [
            "\u001b[0;31m---------------------------------------------------------------------------\u001b[0m",
            "\u001b[0;31mNameError\u001b[0m                                 Traceback (most recent call last)",
            "\u001b[0;32m<ipython-input-46-d4bcd860f618>\u001b[0m in \u001b[0;36m<cell line: 1>\u001b[0;34m()\u001b[0m\n\u001b[0;32m----> 1\u001b[0;31m \u001b[0;32mif\u001b[0m \u001b[0mx\u001b[0m \u001b[0;34m>\u001b[0m \u001b[0;36m2\u001b[0m\u001b[0;34m:\u001b[0m\u001b[0;34m\u001b[0m\u001b[0;34m\u001b[0m\u001b[0m\n\u001b[0m\u001b[1;32m      2\u001b[0m     \u001b[0mx\u001b[0m \u001b[0;34m=\u001b[0m \u001b[0mx\u001b[0m\u001b[0;34m*\u001b[0m\u001b[0;36m2\u001b[0m\u001b[0;34m\u001b[0m\u001b[0;34m\u001b[0m\u001b[0m\n\u001b[1;32m      3\u001b[0m \u001b[0;32mif\u001b[0m \u001b[0mx\u001b[0m \u001b[0;34m>\u001b[0m \u001b[0;36m4\u001b[0m\u001b[0;34m:\u001b[0m\u001b[0;34m\u001b[0m\u001b[0;34m\u001b[0m\u001b[0m\n\u001b[1;32m      4\u001b[0m     \u001b[0mx\u001b[0m \u001b[0;34m=\u001b[0m \u001b[0;36m0\u001b[0m\u001b[0;34m\u001b[0m\u001b[0;34m\u001b[0m\u001b[0m\n\u001b[1;32m      5\u001b[0m \u001b[0mprint\u001b[0m\u001b[0;34m(\u001b[0m\u001b[0mx\u001b[0m\u001b[0;34m)\u001b[0m\u001b[0;34m\u001b[0m\u001b[0;34m\u001b[0m\u001b[0m\n",
            "\u001b[0;31mNameError\u001b[0m: name 'x' is not defined"
          ]
        }
      ]
    },
    {
      "cell_type": "code",
      "source": [
        "    c=int(input())\n",
        "    s=int(input())\n",
        "    if s>c:\n",
        "        print(1)\n",
        "        print(\"Total profit:\",s-c)\n",
        "    else:\n",
        "        print(-1)\n",
        "        print(\"Total Loss=\",c-s)"
      ],
      "metadata": {
        "colab": {
          "base_uri": "https://localhost:8080/"
        },
        "id": "AvmZbuAvHXHr",
        "outputId": "e2a9eeed-90ce-4728-f92c-b7c558e02f59"
      },
      "execution_count": null,
      "outputs": [
        {
          "output_type": "stream",
          "name": "stdout",
          "text": [
            "11\n",
            "9\n",
            "-1\n",
            "Total Loss= 2\n"
          ]
        }
      ]
    },
    {
      "cell_type": "code",
      "source": [
        "x = int(input())\n",
        "if x > 2:\n",
        "    x = x*2\n",
        "if x > 4:\n",
        "    x = 0\n",
        "print(x)"
      ],
      "metadata": {
        "colab": {
          "base_uri": "https://localhost:8080/"
        },
        "id": "k23DvxQoLkI6",
        "outputId": "0c17ae8a-71ba-4c5f-bff4-832b2f7b6761"
      },
      "execution_count": null,
      "outputs": [
        {
          "output_type": "stream",
          "name": "stdout",
          "text": [
            "8520\n",
            "0\n"
          ]
        }
      ]
    },
    {
      "cell_type": "code",
      "source": [
        "ctc = int(input())\n",
        "if ctc<=10:\n",
        "    tax=ctc*0.1\n",
        "elif ctc<=15:\n",
        "    tax=10*0.1\n",
        "    tax=tax+(ctc-10)*0.2\n",
        "else:\n",
        "    tax=10*0.1\n",
        "    tax=(ctc-10)*0.5\n",
        "    tax=(ctc-15)*0.3\n",
        "print(tax)\n"
      ],
      "metadata": {
        "colab": {
          "base_uri": "https://localhost:8080/"
        },
        "id": "hvcUJY2R08KZ",
        "outputId": "0d5417e0-c3c4-4029-c299-f061ef92db38"
      },
      "execution_count": null,
      "outputs": [
        {
          "output_type": "stream",
          "name": "stdout",
          "text": [
            "20\n",
            "1.5\n"
          ]
        }
      ]
    },
    {
      "cell_type": "code",
      "source": [
        "city=input()\n",
        "if city==\"Delhi\":\n",
        "    print(\"Red Fort\")\n",
        "elif city==\"Agra\":\n",
        "    print(\"Taj Mahal\")\n",
        "elif city==\"Gurgaon\":\n",
        "    print(\"Cyber hub\")\n",
        "elif city==\"Mumbai\":\n",
        "    print(\"Gateway\")\n",
        "else:\n",
        "    print(\"I don't know\")"
      ],
      "metadata": {
        "colab": {
          "base_uri": "https://localhost:8080/"
        },
        "id": "rDwdR2Vz07_V",
        "outputId": "388fd4e2-89eb-4dab-b91b-c3bcddf6a2aa"
      },
      "execution_count": null,
      "outputs": [
        {
          "output_type": "stream",
          "name": "stdout",
          "text": [
            "Delhi\n",
            "Red Fort\n"
          ]
        }
      ]
    },
    {
      "cell_type": "code",
      "source": [
        "units = int(input())\n",
        "if units<100:\n",
        "    print(\"Free\")\n",
        "elif units<200:\n",
        "    print(units*2)\n",
        "else:\n",
        "    print(units*5)\n"
      ],
      "metadata": {
        "colab": {
          "base_uri": "https://localhost:8080/"
        },
        "id": "P_UIKVB_070u",
        "outputId": "b53a4704-260b-41e1-e867-217257232e98"
      },
      "execution_count": null,
      "outputs": [
        {
          "output_type": "stream",
          "name": "stdout",
          "text": [
            "200\n",
            "1000\n"
          ]
        }
      ]
    },
    {
      "cell_type": "code",
      "source": [
        "amount=int(input())\n",
        "if amount%200==0 or amount%500==0:\n",
        "    print(\"Dispatching Cash!\")\n",
        "else:\n",
        "    print(\"Denomination not avilable!\")"
      ],
      "metadata": {
        "colab": {
          "base_uri": "https://localhost:8080/"
        },
        "id": "jxQVXZqt07fZ",
        "outputId": "2e099509-a076-467b-9c54-5682138d6ab3"
      },
      "execution_count": null,
      "outputs": [
        {
          "output_type": "stream",
          "name": "stdout",
          "text": [
            "600\n",
            "Dispatching Cash!\n"
          ]
        }
      ]
    },
    {
      "cell_type": "code",
      "source": [
        "kms=int(input())\n",
        "stall_time=int(input())\n",
        "if kms<10:\n",
        "    fare=kms*10\n",
        "elif kms<10+40:\n",
        "    fare=10*10+(kms-10)*9\n",
        "elif kms<10+40+100:\n",
        "    fare=10*10+40*9+(kms-10-40)*8\n",
        "else:\n",
        "    fare=10*10+40*9+100*8+(kms-10-40-100)*6\n",
        "stall_fare = stall_time*5\n",
        "print(fare+stall_fare)\n"
      ],
      "metadata": {
        "colab": {
          "base_uri": "https://localhost:8080/"
        },
        "id": "m3oIQqGbLYTF",
        "outputId": "9766c844-da25-4ed4-f1fd-eb52d990c5c0"
      },
      "execution_count": null,
      "outputs": [
        {
          "output_type": "stream",
          "name": "stdout",
          "text": [
            "25\n",
            "5\n",
            "260\n"
          ]
        }
      ]
    },
    {
      "cell_type": "code",
      "source": [
        "if False:\n",
        "    print(\"Artificial Intelligence\")\n",
        "elif True:\n",
        "    print(\"Machine Learning\")\n",
        "elif True:\n",
        "    print(\"Data Science\")\n",
        "else:\n",
        "    print(\"Deep Learning\")"
      ],
      "metadata": {
        "colab": {
          "base_uri": "https://localhost:8080/"
        },
        "id": "jHuKTuCmOZpn",
        "outputId": "5e716c13-d5ad-4247-e46a-930cd1fd498c"
      },
      "execution_count": null,
      "outputs": [
        {
          "output_type": "stream",
          "name": "stdout",
          "text": [
            "Machine Learning\n"
          ]
        }
      ]
    },
    {
      "cell_type": "code",
      "source": [
        "a = 1\n",
        "b = 0\n",
        "c = 1\n",
        "if (a and b):\n",
        "    print(\"Scaler is awesome\")\n",
        "elif (a and c):\n",
        "    print(\"ML is fun\")\n",
        "if (a and b and c):\n",
        "    print(\"Python is amazing\")\n",
        "if (a or b or c):\n",
        "    print(\"I love DS\")\n"
      ],
      "metadata": {
        "colab": {
          "base_uri": "https://localhost:8080/"
        },
        "id": "NMLlxIgSPImm",
        "outputId": "9b8dc641-9eef-41f6-8cbc-d09f844b1328"
      },
      "execution_count": null,
      "outputs": [
        {
          "output_type": "stream",
          "name": "stdout",
          "text": [
            "ML is fun\n",
            "I love DS\n"
          ]
        }
      ]
    },
    {
      "cell_type": "code",
      "source": [
        "n = int(input())\n",
        "if n < 10 or n > 20:\n",
        "    print(-1)\n",
        "if n >= 10 and n <= 20:\n",
        "    m = int(input())\n",
        "    two_numbers_sum = n + m\n",
        "    print(two_numbers_sum)\n",
        "    if two_numbers_sum >= 100:\n",
        "        print(\"That is a large sum!\")\n",
        "\n",
        "\n"
      ],
      "metadata": {
        "colab": {
          "base_uri": "https://localhost:8080/"
        },
        "id": "cIPNyoxfX0c7",
        "outputId": "3bb3998f-18e0-4391-bdb1-323fa2b64c70"
      },
      "execution_count": null,
      "outputs": [
        {
          "output_type": "stream",
          "name": "stdout",
          "text": [
            "10\n",
            "25\n",
            "35\n"
          ]
        }
      ]
    },
    {
      "cell_type": "code",
      "source": [
        "year = int(input())\n",
        "if year%400==0:\n",
        "    print(1)\n",
        "elif year%4==0 and year%100 != 0:\n",
        "    print(1)\n",
        "else:\n",
        "    print(0)"
      ],
      "metadata": {
        "colab": {
          "base_uri": "https://localhost:8080/"
        },
        "id": "lor8gbHpenxz",
        "outputId": "44ec3336-53f5-415e-95d3-a14fc96a878f"
      },
      "execution_count": null,
      "outputs": [
        {
          "output_type": "stream",
          "name": "stdout",
          "text": [
            "2009\n",
            "0\n"
          ]
        }
      ]
    },
    {
      "cell_type": "code",
      "source": [
        "A = int(input())\n",
        "if A>=1 and A <=12:\n",
        "    if A == 2:\n",
        "        print(28)\n",
        "    elif A == 4 or A == 6 or A == 9 or A == 11:\n",
        "        print(30)\n",
        "    else:\n",
        "        print(31)"
      ],
      "metadata": {
        "colab": {
          "base_uri": "https://localhost:8080/"
        },
        "id": "UsoLZiXYk9xh",
        "outputId": "67b0f4ad-a065-427c-d2ac-bc9f74b9f953"
      },
      "execution_count": null,
      "outputs": [
        {
          "output_type": "stream",
          "name": "stdout",
          "text": [
            "3\n",
            "31\n"
          ]
        }
      ]
    },
    {
      "cell_type": "code",
      "source": [
        "english = int(input())\n",
        "maths = int(input())\n",
        "science = int(input())\n",
        "if science > 90 or (science > 75 and english > 75 and maths > 75):\n",
        "    print(\"science\")\n",
        "elif science > 60 and english > 60 and maths > 60 and science > 75 and english > 75 and maths > 75:\n",
        "    print(\"commerce\")\n",
        "else:\n",
        "    print(\"humanities\")"
      ],
      "metadata": {
        "colab": {
          "base_uri": "https://localhost:8080/"
        },
        "id": "HREgOMTsMLBQ",
        "outputId": "630ea163-d333-452e-b782-4bb6a46911ed"
      },
      "execution_count": null,
      "outputs": [
        {
          "output_type": "stream",
          "name": "stdout",
          "text": [
            "70\n",
            "70\n",
            "91\n",
            "science\n"
          ]
        }
      ]
    },
    {
      "cell_type": "code",
      "source": [
        "A = int(input())\n",
        "if A >= 1 and A <= 12:\n",
        "    if A == 1:\n",
        "        print(\"January\")\n",
        "    elif A == 2:\n",
        "        print(\"Febraury\")\n",
        "    elif A == 3:\n",
        "        print(\"March\")\n",
        "    elif A == 4:\n",
        "        print(\"APril\")\n",
        "    elif A == 5:\n",
        "        print(\"May\")\n",
        "    elif A == 6:\n",
        "        print(\"June\")\n",
        "    elif A == 7:\n",
        "        print(\"July\")\n",
        "    elif A == 8:\n",
        "        print(\"August\")\n",
        "    elif A == 9:\n",
        "        print(\"September\")\n",
        "    elif A == 10:\n",
        "        print(\"October\")\n",
        "    elif A == 11:\n",
        "        print(\"November\")\n",
        "    elif A == 12:\n",
        "        print(\"December\")"
      ],
      "metadata": {
        "colab": {
          "base_uri": "https://localhost:8080/"
        },
        "id": "QOTK2j98PgI1",
        "outputId": "1fd0bc10-6a73-4392-c964-6d0778f8607f"
      },
      "execution_count": null,
      "outputs": [
        {
          "output_type": "stream",
          "name": "stdout",
          "text": [
            "12\n",
            "December\n"
          ]
        }
      ]
    },
    {
      "cell_type": "code",
      "source": [
        "n = int(input())\n",
        "if 1000<=n<=2500:\n",
        "    if n>=2100:\n",
        "        category = \"grand master\"\n",
        "    elif n>=1900:\n",
        "        category = \"candidate master\"\n",
        "    elif n>=1600:\n",
        "        category = \"expert\"\n",
        "    elif n>=1400:\n",
        "        category = \"pupil\"\n",
        "    else:\n",
        "        category = \"newbie\"\n",
        "    if n%2==0:\n",
        "        category = category.upper()\n",
        "    else:\n",
        "        category = category.lower()\n",
        "    print(category)\n",
        "\n"
      ],
      "metadata": {
        "colab": {
          "base_uri": "https://localhost:8080/"
        },
        "id": "byfVB-MSPgFO",
        "outputId": "96f42f0f-22be-4278-dd0e-6fb73456aef4"
      },
      "execution_count": null,
      "outputs": [
        {
          "output_type": "stream",
          "name": "stdout",
          "text": [
            "1500\n",
            "PUPIL\n"
          ]
        }
      ]
    },
    {
      "cell_type": "code",
      "source": [
        "str1 = str(input())\n",
        "str2 = str(input())\n",
        "print(str1+\"$\"+str2)\n",
        "\n",
        "#or\n",
        "\n",
        "str1 = str(input())\n",
        "str2 = str(input())\n",
        "output = str1 + str2\n",
        "print(output)\n",
        "\n",
        "#or\n",
        "\n",
        "str1 = str(input())\n",
        "str2 = str(input())\n",
        "print(str1, str2, sep=\"$\")"
      ],
      "metadata": {
        "colab": {
          "base_uri": "https://localhost:8080/"
        },
        "id": "EREGaa8iPgAm",
        "outputId": "186ed0a9-247c-42c7-de6f-baa55e28d8b4"
      },
      "execution_count": null,
      "outputs": [
        {
          "output_type": "stream",
          "name": "stdout",
          "text": [
            "raje\n",
            "hari\n",
            "raje$hari\n",
            "raje\n",
            "hari\n",
            "rajehari\n",
            "raje\n",
            "hari\n",
            "raje$hari\n"
          ]
        }
      ]
    },
    {
      "cell_type": "code",
      "source": [
        "n = int(input())\n",
        "if n>=1*10**7:\n",
        "    certificatrion = \"diamond\"\n",
        "elif n>=1*10**6:\n",
        "    certificatrion = \"platinum\"\n",
        "elif n>=5*10**5:\n",
        "    certificatrion = \"gold\"\n",
        "else:\n",
        "    certificatrion = \"None\"\n",
        "print(certificatrion)"
      ],
      "metadata": {
        "colab": {
          "base_uri": "https://localhost:8080/"
        },
        "id": "f9uvLLUTPf0v",
        "outputId": "ef7fcc56-cdd2-44e4-f184-1b71d057fbbf"
      },
      "execution_count": null,
      "outputs": [
        {
          "output_type": "stream",
          "name": "stdout",
          "text": [
            "10022587\n",
            "diamond\n"
          ]
        }
      ]
    },
    {
      "cell_type": "code",
      "source": [
        "a = int(input())\n",
        "b = int(input())\n",
        "c = int(input())\n",
        "big = (-b+(b**2-4*a*c)**(1/2))/2*a\n",
        "small = (-b-(b**2-4*a*c)**(1/2))/2*a\n",
        "print(big, small)"
      ],
      "metadata": {
        "colab": {
          "base_uri": "https://localhost:8080/"
        },
        "id": "fTEo7w4Sdz2j",
        "outputId": "f0d4ea82-e31e-4384-a7c1-043d7b6f3638"
      },
      "execution_count": null,
      "outputs": [
        {
          "output_type": "stream",
          "name": "stdout",
          "text": [
            "4\n",
            "5\n",
            "4\n",
            "(-10+12.489995996796797j) (-10-12.489995996796797j)\n"
          ]
        }
      ]
    },
    {
      "cell_type": "code",
      "source": [
        "n = int(input())\n",
        "\n",
        "if n%2==0 or n%2!=0:\n",
        "    if n>0 or n<0:\n",
        "        print(\"Even-Positive\")\n",
        "    else:\n",
        "        print(\"Even-Negetive\")\n",
        "    else:\n",
        "        print(\"Odd-Positive\")\n",
        "    else:\n",
        "        print(\"Even-Negetive\")"
      ],
      "metadata": {
        "colab": {
          "base_uri": "https://localhost:8080/"
        },
        "id": "gwEsTppTjViz",
        "outputId": "dd47c10c-f970-4eab-ac8f-095f688ae10d"
      },
      "execution_count": null,
      "outputs": [
        {
          "output_type": "stream",
          "name": "stdout",
          "text": [
            "5\n",
            "Even-Positive\n",
            "Even-Negetive\n",
            "Odd-Positive\n",
            "Even-Negetive\n"
          ]
        }
      ]
    },
    {
      "cell_type": "code",
      "source": [
        "n = int(input())\n",
        "if n%2==0:\n",
        "    if n>0:\n",
        "        print(\"Even-Positive\")\n",
        "    else:\n",
        "        print(\"Even-Negetive\")\n",
        "if n%2!=0:\n",
        "    if n>0:\n",
        "        print(\"Odd-Positive\")\n",
        "    else:\n",
        "        print(\"Odd-Negetive\")"
      ],
      "metadata": {
        "colab": {
          "base_uri": "https://localhost:8080/"
        },
        "id": "Kd53URW8jVeQ",
        "outputId": "750d104b-c8f1-40b8-ae6a-7933a0fda213"
      },
      "execution_count": null,
      "outputs": [
        {
          "output_type": "stream",
          "name": "stdout",
          "text": [
            "-8943\n",
            "Odd-Negetive\n"
          ]
        }
      ]
    },
    {
      "cell_type": "code",
      "source": [
        "power = int(input())\n",
        "ghost = int(input())\n",
        "# 1 : loss, 0: win\n",
        "if power==1:\n",
        "    print(0) # win\n",
        "else:\n",
        "    if ghost==1:\n",
        "        print(1)\n",
        "    else:\n",
        "        print(0) # win\n",
        "\n",
        "# or\n",
        "\n",
        "power = int(input())\n",
        "ghost = int(input())\n",
        "# 1 : loss, 0: win\n",
        "if ghost==1: # checking if we are touching a ghost, i.e. about to loose\n",
        "    if power==1:\n",
        "        print(0) # win\n",
        "    else:\n",
        "        print(1)\n",
        "else:\n",
        "    print(0) # win"
      ],
      "metadata": {
        "id": "WCqYRSNPjVYa"
      },
      "execution_count": null,
      "outputs": []
    },
    {
      "cell_type": "code",
      "source": [
        "# 04-07-2023 ITERATION - WHILE LOOP\n",
        "print(\"# 04-07-2023 ITERATION - WHILE LOOP\")"
      ],
      "metadata": {
        "colab": {
          "base_uri": "https://localhost:8080/"
        },
        "id": "v13rYVBx4v4y",
        "outputId": "7ade55a0-3eb1-4599-f22d-2daf152f7eb7"
      },
      "execution_count": null,
      "outputs": [
        {
          "output_type": "stream",
          "name": "stdout",
          "text": [
            "# 04-07-2023 ITERATION - WHILE LOOP\n"
          ]
        }
      ]
    },
    {
      "cell_type": "code",
      "source": [
        "num=int(input())\n",
        "start=1\n",
        "while start<=num:\n",
        "    print(start)\n",
        "    start=start+2\n"
      ],
      "metadata": {
        "id": "2PE_pFkxjVQ4",
        "colab": {
          "base_uri": "https://localhost:8080/"
        },
        "outputId": "0d099785-ecaa-4187-8a21-5757d7b9c6b7"
      },
      "execution_count": null,
      "outputs": [
        {
          "output_type": "stream",
          "name": "stdout",
          "text": [
            "7\n",
            "1\n",
            "3\n",
            "5\n",
            "7\n"
          ]
        }
      ]
    },
    {
      "cell_type": "code",
      "source": [
        "num=int(input())\n",
        "if num<1:\n",
        "    print(\"Number is smaller than 1!\")\n",
        "start=1\n",
        "while start<=num:\n",
        "    print(start)\n",
        "    start=start+2\n",
        "\n",
        "    ######### or ########\n",
        "\n",
        "num=int(input())\n",
        "if num>1:\n",
        "    start=1\n",
        "while start<=num:\n",
        "    print(start)\n",
        "    start=start+2\n",
        "else:\n",
        "    print(\"Number is smaller than 1!\")\n",
        "\n"
      ],
      "metadata": {
        "colab": {
          "base_uri": "https://localhost:8080/"
        },
        "id": "aDoDgrZvuE4T",
        "outputId": "a4721b8e-a0fe-4d0d-939b-ead5ed17e64e"
      },
      "execution_count": null,
      "outputs": [
        {
          "output_type": "stream",
          "name": "stdout",
          "text": [
            "8\n",
            "1\n",
            "3\n",
            "5\n",
            "7\n",
            "-9\n",
            "Number is smaller than 1!\n"
          ]
        }
      ]
    },
    {
      "cell_type": "code",
      "source": [
        "A=int(input())\n",
        "B=int(input())\n",
        "while A <= B:\n",
        "    print(A,end=\" \")\n",
        "    A = A+3"
      ],
      "metadata": {
        "colab": {
          "base_uri": "https://localhost:8080/"
        },
        "id": "ql6DJLhRuE2a",
        "outputId": "70b98f91-15be-41d9-ccd7-b379d090ff36"
      },
      "execution_count": null,
      "outputs": [
        {
          "output_type": "stream",
          "name": "stdout",
          "text": [
            "1\n",
            "7\n",
            "1 4 7 "
          ]
        }
      ]
    },
    {
      "cell_type": "code",
      "source": [
        "A=int(input())\n",
        "B=int(input())\n",
        "while A<=B:\n",
        "    if A%2==0:\n",
        "        print(A, end=\" \")\n",
        "    A=A+1"
      ],
      "metadata": {
        "colab": {
          "base_uri": "https://localhost:8080/"
        },
        "id": "hi13eLuauEzV",
        "outputId": "6fe14f40-e8f7-4094-bf4a-da1df6adf30d"
      },
      "execution_count": null,
      "outputs": [
        {
          "output_type": "stream",
          "name": "stdout",
          "text": [
            "3\n",
            "9\n",
            "4 6 8 "
          ]
        }
      ]
    },
    {
      "cell_type": "code",
      "source": [
        "A=int(input())\n",
        "B=int(input())\n",
        "loop_count=0\n",
        "while A<=B:\n",
        "    if A%2==0:\n",
        "        print(A, end=\" \")\n",
        "    A=A+1\n",
        "    loop_count+=1\n",
        "print(\"The loop run:\", loop_count)"
      ],
      "metadata": {
        "colab": {
          "base_uri": "https://localhost:8080/"
        },
        "id": "moRNlztCuEwM",
        "outputId": "50923c34-feb7-4cd7-942a-a48fbaeb8964"
      },
      "execution_count": null,
      "outputs": [
        {
          "output_type": "stream",
          "name": "stdout",
          "text": [
            "5\n",
            "20\n",
            "6 8 10 12 14 16 18 20 The loop run: 16\n"
          ]
        }
      ]
    },
    {
      "cell_type": "code",
      "source": [
        "start=int(input())\n",
        "end=int(input())\n",
        "if start%2==0:\n",
        "    start=start\n",
        "else:\n",
        "    start=start+1\n",
        "loop_count = 0\n",
        "while start<=end:\n",
        "    print(start, end=\" \")\n",
        "    start=start+2\n",
        "    loop_count+=1\n",
        "print(\"The loop run:\", loop_count)\n"
      ],
      "metadata": {
        "colab": {
          "base_uri": "https://localhost:8080/"
        },
        "id": "kFRVOBGfuEtO",
        "outputId": "7b8e4e0d-252b-4881-a8f5-4aa47e85758b"
      },
      "execution_count": null,
      "outputs": [
        {
          "output_type": "stream",
          "name": "stdout",
          "text": [
            "5\n",
            "20\n",
            "6 8 10 12 14 16 18 20 The loop run: 8\n"
          ]
        }
      ]
    },
    {
      "cell_type": "code",
      "source": [
        "# password finding.\n",
        "# when password found we can stop the loop while using #break\n",
        "\n",
        "password = 9\n",
        "i = 0\n",
        "while i<=999:\n",
        "    print(\"trying\", i)\n",
        "    if i==password:\n",
        "        print(\"password found :\", i)\n",
        "        break\n",
        "    i+=1"
      ],
      "metadata": {
        "colab": {
          "base_uri": "https://localhost:8080/"
        },
        "id": "HfxVnCFBuEm0",
        "outputId": "1c749c20-fd44-46c5-9eee-ed247704954b"
      },
      "execution_count": null,
      "outputs": [
        {
          "output_type": "stream",
          "name": "stdout",
          "text": [
            "trying 0\n",
            "trying 1\n",
            "trying 2\n",
            "trying 3\n",
            "trying 4\n",
            "trying 5\n",
            "trying 6\n",
            "trying 7\n",
            "trying 8\n",
            "trying 9\n",
            "password found : 9\n"
          ]
        }
      ]
    },
    {
      "cell_type": "code",
      "source": [
        "table_of=int(input())\n",
        "i=1\n",
        "while i<=10:\n",
        "    print(table_of*i, end=\" \")\n",
        "    i+=1"
      ],
      "metadata": {
        "colab": {
          "base_uri": "https://localhost:8080/"
        },
        "id": "nwtlVmbQuEjM",
        "outputId": "33982b6c-e617-441b-e1a3-69d31403ac91"
      },
      "execution_count": null,
      "outputs": [
        {
          "output_type": "stream",
          "name": "stdout",
          "text": [
            "7\n",
            "7 14 21 28 35 42 49 56 63 70 "
          ]
        }
      ]
    },
    {
      "cell_type": "code",
      "source": [
        "total_test_cases = int(input(\"How many test cases you want to run: \"))\n",
        "test_cases_count = 1\n",
        "while test_cases_count<=total_test_cases:\n",
        "    table_of=int(input())\n",
        "    i=1\n",
        "    while i<=10:\n",
        "        print(table_of*i, end=\" \")\n",
        "        i+=1\n",
        "    print(\"\\n\\n\")\n",
        "    test_cases_count+=1\n"
      ],
      "metadata": {
        "colab": {
          "base_uri": "https://localhost:8080/"
        },
        "id": "-ig7y353uEf1",
        "outputId": "f3ddbf92-a0c8-46de-ed98-a4e54e23e296"
      },
      "execution_count": null,
      "outputs": [
        {
          "output_type": "stream",
          "name": "stdout",
          "text": [
            "How many test cases you want to run: 3\n",
            "2\n",
            "2 4 6 8 10 12 14 16 18 20 \n",
            "\n",
            "\n",
            "5\n",
            "5 10 15 20 25 30 35 40 45 50 \n",
            "\n",
            "\n",
            "8\n",
            "8 16 24 32 40 48 56 64 72 80 \n",
            "\n",
            "\n"
          ]
        }
      ]
    },
    {
      "cell_type": "code",
      "source": [
        "A=int(input())\n",
        "B=int(input())\n",
        "Result=A//B\n",
        "print(Result)"
      ],
      "metadata": {
        "id": "xSbYLocfuEcV",
        "colab": {
          "base_uri": "https://localhost:8080/"
        },
        "outputId": "a1761657-f933-4b78-c4b0-dec06f82aed0"
      },
      "execution_count": null,
      "outputs": [
        {
          "output_type": "stream",
          "name": "stdout",
          "text": [
            "9\n",
            "11\n",
            "0\n"
          ]
        }
      ]
    },
    {
      "cell_type": "code",
      "source": [
        "i=2\n",
        "while(i<=2*n):\n",
        "    if i%2==0:\n",
        "        print(i)\n",
        "    i+=1"
      ],
      "metadata": {
        "id": "yl2pg0pUuEYt",
        "colab": {
          "base_uri": "https://localhost:8080/",
          "height": 235
        },
        "outputId": "f6395b74-75a9-47e6-c648-6d1c5606dfb2"
      },
      "execution_count": null,
      "outputs": [
        {
          "output_type": "error",
          "ename": "NameError",
          "evalue": "ignored",
          "traceback": [
            "\u001b[0;31m---------------------------------------------------------------------------\u001b[0m",
            "\u001b[0;31mNameError\u001b[0m                                 Traceback (most recent call last)",
            "\u001b[0;32m<ipython-input-10-d812166abe09>\u001b[0m in \u001b[0;36m<cell line: 2>\u001b[0;34m()\u001b[0m\n\u001b[1;32m      1\u001b[0m \u001b[0mi\u001b[0m\u001b[0;34m=\u001b[0m\u001b[0;36m2\u001b[0m\u001b[0;34m\u001b[0m\u001b[0;34m\u001b[0m\u001b[0m\n\u001b[0;32m----> 2\u001b[0;31m \u001b[0;32mwhile\u001b[0m\u001b[0;34m(\u001b[0m\u001b[0mi\u001b[0m\u001b[0;34m<=\u001b[0m\u001b[0;36m2\u001b[0m\u001b[0;34m*\u001b[0m\u001b[0mn\u001b[0m\u001b[0;34m)\u001b[0m\u001b[0;34m:\u001b[0m\u001b[0;34m\u001b[0m\u001b[0;34m\u001b[0m\u001b[0m\n\u001b[0m\u001b[1;32m      3\u001b[0m     \u001b[0;32mif\u001b[0m \u001b[0mi\u001b[0m\u001b[0;34m%\u001b[0m\u001b[0;36m2\u001b[0m\u001b[0;34m==\u001b[0m\u001b[0;36m0\u001b[0m\u001b[0;34m:\u001b[0m\u001b[0;34m\u001b[0m\u001b[0;34m\u001b[0m\u001b[0m\n\u001b[1;32m      4\u001b[0m         \u001b[0mprint\u001b[0m\u001b[0;34m(\u001b[0m\u001b[0mi\u001b[0m\u001b[0;34m)\u001b[0m\u001b[0;34m\u001b[0m\u001b[0;34m\u001b[0m\u001b[0m\n\u001b[1;32m      5\u001b[0m     \u001b[0mi\u001b[0m\u001b[0;34m+=\u001b[0m\u001b[0;36m1\u001b[0m\u001b[0;34m\u001b[0m\u001b[0;34m\u001b[0m\u001b[0m\n",
            "\u001b[0;31mNameError\u001b[0m: name 'n' is not defined"
          ]
        }
      ]
    },
    {
      "cell_type": "code",
      "source": [
        "\n"
      ],
      "metadata": {
        "id": "_jajE8QyuEU1",
        "colab": {
          "base_uri": "https://localhost:8080/"
        },
        "outputId": "6845e71c-7fc2-4567-afbe-013b4839dcb7"
      },
      "execution_count": null,
      "outputs": [
        {
          "output_type": "stream",
          "name": "stdout",
          "text": [
            "22\n",
            "4 8 12 16 20\n"
          ]
        }
      ]
    },
    {
      "cell_type": "code",
      "source": [
        "N=int(input())\n",
        "for N in range(1, N):\n",
        "    print(N)"
      ],
      "metadata": {
        "colab": {
          "base_uri": "https://localhost:8080/"
        },
        "id": "2QqK0VYaCT8H",
        "outputId": "60c9d4d1-517a-42e6-af46-78dcec9da929"
      },
      "execution_count": null,
      "outputs": [
        {
          "output_type": "stream",
          "name": "stdout",
          "text": [
            "5\n",
            "1\n",
            "2\n",
            "3\n",
            "4\n"
          ]
        }
      ]
    },
    {
      "cell_type": "code",
      "source": [
        "N=int(input())\n",
        "sum=0\n",
        "for N in range(1, N+1):\n",
        "    sum=sum+1\n",
        "print(sum)\n"
      ],
      "metadata": {
        "colab": {
          "base_uri": "https://localhost:8080/"
        },
        "id": "6_VwtyrkCT4k",
        "outputId": "e61d2071-00d7-40b1-c078-ccfc7ff38b29"
      },
      "execution_count": null,
      "outputs": [
        {
          "output_type": "stream",
          "name": "stdout",
          "text": [
            "5\n",
            "5\n"
          ]
        }
      ]
    },
    {
      "cell_type": "code",
      "source": [
        "N = int(input())\n",
        "for i in range(N, 1-1, -1):\n",
        "    print(i, end=' ')\n"
      ],
      "metadata": {
        "colab": {
          "base_uri": "https://localhost:8080/"
        },
        "id": "rea-2thdCT0Y",
        "outputId": "1a030878-0200-48b5-bedd-e1dc26fc96a4"
      },
      "execution_count": null,
      "outputs": [
        {
          "output_type": "stream",
          "name": "stdout",
          "text": [
            "8\n",
            "8 7 6 5 4 3 2 1 "
          ]
        }
      ]
    },
    {
      "cell_type": "code",
      "source": [
        "x = 1\n",
        "for i in range(x):\n",
        "    x=x+1\n",
        "    print(i, end= \" \")"
      ],
      "metadata": {
        "colab": {
          "base_uri": "https://localhost:8080/"
        },
        "id": "fOtfkviyCTwp",
        "outputId": "a44e1b35-b2f6-443b-c4ba-21c9d4757460"
      },
      "execution_count": null,
      "outputs": [
        {
          "output_type": "stream",
          "name": "stdout",
          "text": [
            "0 "
          ]
        }
      ]
    },
    {
      "cell_type": "code",
      "source": [
        "print(\"start\")\n",
        "for i in range(10, 15):\n",
        "    for j in range(1, 10):\n",
        "        if j%2==0:\n",
        "            break\n",
        "        print(\"Running for i =\", i)\n",
        "        print(\"Running for j =\",j)\n",
        "print(\"end\")"
      ],
      "metadata": {
        "id": "g_8E0hHyCTs4",
        "colab": {
          "base_uri": "https://localhost:8080/"
        },
        "outputId": "e3c717fa-89d7-455f-cd6e-3dec2ceb1688"
      },
      "execution_count": null,
      "outputs": [
        {
          "output_type": "stream",
          "name": "stdout",
          "text": [
            "start\n",
            "Running for i = 10\n",
            "Running for j = 1\n",
            "Running for i = 11\n",
            "Running for j = 1\n",
            "Running for i = 12\n",
            "Running for j = 1\n",
            "Running for i = 13\n",
            "Running for j = 1\n",
            "Running for i = 14\n",
            "Running for j = 1\n",
            "end\n"
          ]
        }
      ]
    },
    {
      "cell_type": "code",
      "source": [
        "for i in range(1,16+3,3):\n",
        "    if i==16:\n",
        "        print(i, end=\" \")\n",
        "    else:\n",
        "        print(i, end=\", \")"
      ],
      "metadata": {
        "id": "2ECYmMg_CTpP",
        "colab": {
          "base_uri": "https://localhost:8080/"
        },
        "outputId": "fe926b25-8192-4a62-bae1-cf1604ef6129"
      },
      "execution_count": null,
      "outputs": [
        {
          "output_type": "stream",
          "name": "stdout",
          "text": [
            "1, 4, 7, 10, 13, 16 "
          ]
        }
      ]
    },
    {
      "cell_type": "code",
      "source": [
        "# is to find the loop that calculates the increment\n",
        "# start the number that is used as an output\n",
        "\n",
        "# For Loop\n",
        "\n",
        "number = 1\n",
        "\n",
        "for i in range (0,100, 2):\n",
        "    print(number, end=\" \")\n",
        "    number = number + i\n",
        "    if number > 43:\n",
        "        break\n",
        "    #print(i)\n"
      ],
      "metadata": {
        "id": "2BemUewtCTlU",
        "colab": {
          "base_uri": "https://localhost:8080/"
        },
        "outputId": "8e495789-677c-4601-e723-48bfbda2606d"
      },
      "execution_count": null,
      "outputs": [
        {
          "output_type": "stream",
          "name": "stdout",
          "text": [
            "1 1 3 7 13 21 31 43 "
          ]
        }
      ]
    },
    {
      "cell_type": "code",
      "source": [
        "#While Loop\n",
        "\n",
        "number = 1\n",
        "increment = 0\n",
        "while number <=43:\n",
        "    print(number, end=\" \")\n",
        "    number = number + increment\n",
        "    increment += 2"
      ],
      "metadata": {
        "colab": {
          "base_uri": "https://localhost:8080/"
        },
        "id": "bw7iOu4tdsXt",
        "outputId": "a3ce25af-5792-4d5b-c74e-273f90153268"
      },
      "execution_count": null,
      "outputs": [
        {
          "output_type": "stream",
          "name": "stdout",
          "text": [
            "1 1 3 7 13 21 31 43 "
          ]
        }
      ]
    },
    {
      "cell_type": "code",
      "source": [
        "user_entered=int(input())\n",
        "count = 0\n",
        "while user_entered != 5:\n",
        "    count += 1\n",
        "print(count)"
      ],
      "metadata": {
        "colab": {
          "base_uri": "https://localhost:8080/",
          "height": 252
        },
        "id": "3CaAkyIEfiVi",
        "outputId": "0c98d062-a28b-4721-8df6-426209fa6eeb"
      },
      "execution_count": null,
      "outputs": [
        {
          "name": "stdout",
          "output_type": "stream",
          "text": [
            "4\n"
          ]
        },
        {
          "output_type": "error",
          "ename": "KeyboardInterrupt",
          "evalue": "ignored",
          "traceback": [
            "\u001b[0;31m---------------------------------------------------------------------------\u001b[0m",
            "\u001b[0;31mKeyboardInterrupt\u001b[0m                         Traceback (most recent call last)",
            "\u001b[0;32m<ipython-input-32-8207335e8a63>\u001b[0m in \u001b[0;36m<cell line: 3>\u001b[0;34m()\u001b[0m\n\u001b[1;32m      1\u001b[0m \u001b[0muser_entered\u001b[0m\u001b[0;34m=\u001b[0m\u001b[0mint\u001b[0m\u001b[0;34m(\u001b[0m\u001b[0minput\u001b[0m\u001b[0;34m(\u001b[0m\u001b[0;34m)\u001b[0m\u001b[0;34m)\u001b[0m\u001b[0;34m\u001b[0m\u001b[0;34m\u001b[0m\u001b[0m\n\u001b[1;32m      2\u001b[0m \u001b[0mcount\u001b[0m \u001b[0;34m=\u001b[0m \u001b[0;36m0\u001b[0m\u001b[0;34m\u001b[0m\u001b[0;34m\u001b[0m\u001b[0m\n\u001b[0;32m----> 3\u001b[0;31m \u001b[0;32mwhile\u001b[0m \u001b[0muser_entered\u001b[0m \u001b[0;34m!=\u001b[0m \u001b[0;36m5\u001b[0m\u001b[0;34m:\u001b[0m\u001b[0;34m\u001b[0m\u001b[0;34m\u001b[0m\u001b[0m\n\u001b[0m\u001b[1;32m      4\u001b[0m     \u001b[0mcount\u001b[0m \u001b[0;34m+=\u001b[0m \u001b[0;36m1\u001b[0m\u001b[0;34m\u001b[0m\u001b[0;34m\u001b[0m\u001b[0m\n\u001b[1;32m      5\u001b[0m \u001b[0mprint\u001b[0m\u001b[0;34m(\u001b[0m\u001b[0mcount\u001b[0m\u001b[0;34m)\u001b[0m\u001b[0;34m\u001b[0m\u001b[0;34m\u001b[0m\u001b[0m\n",
            "\u001b[0;31mKeyboardInterrupt\u001b[0m: "
          ]
        }
      ]
    },
    {
      "cell_type": "code",
      "source": [
        "n = int(input())\n",
        "for i in range (n):\n",
        "    for j in range(n):\n",
        "        print(\"*\", end = \" \")\n",
        "    print()"
      ],
      "metadata": {
        "colab": {
          "base_uri": "https://localhost:8080/"
        },
        "id": "Fxy1K3KKgU87",
        "outputId": "ee73e9fb-6ad8-488c-d3e9-7c2ff3425cb8"
      },
      "execution_count": null,
      "outputs": [
        {
          "output_type": "stream",
          "name": "stdout",
          "text": [
            "5\n",
            "* * * * * \n",
            "* * * * * \n",
            "* * * * * \n",
            "* * * * * \n",
            "* * * * * \n"
          ]
        }
      ]
    },
    {
      "cell_type": "code",
      "source": [
        "#GCD (Gratest Common Divisor)\n",
        "#24 >> 1,2,3,4,6,8,12,24\n",
        "#16 >> 1,2,4,8,16\n",
        "## input\n",
        "#16\n",
        "#24\n",
        "## output\n",
        "#8\n",
        "\n",
        "\n"
      ],
      "metadata": {
        "id": "btnjrRdajjI0"
      },
      "execution_count": null,
      "outputs": []
    },
    {
      "cell_type": "code",
      "source": [
        "# get the input\n",
        "a = int(input())\n",
        "b = int(input())\n",
        "\n",
        "# find what is the minimum value\n",
        "\n",
        "if a>b:\n",
        "    minvalue = b\n",
        "else:\n",
        "    minvalue = a\n",
        "\n",
        "# create possible range\n",
        "\n",
        "for i in range (minvalue, 1-1, -1):\n",
        "\n",
        "    # condition\n",
        "    if a%i==0 and b%i==0:\n",
        "        print(\"GCD is :\", i)\n",
        "        break"
      ],
      "metadata": {
        "colab": {
          "base_uri": "https://localhost:8080/"
        },
        "id": "DBye7T_DmCU0",
        "outputId": "fcf72c4e-69c0-44c5-8f77-e33dc9c67f99"
      },
      "execution_count": null,
      "outputs": [
        {
          "output_type": "stream",
          "name": "stdout",
          "text": [
            "16\n",
            "24\n",
            "GCD is : 8\n"
          ]
        }
      ]
    },
    {
      "cell_type": "code",
      "source": [
        "t = int(input(\"T :\"))\n",
        "for j in range(t):\n",
        "    a = int(input(\"A :\"))\n",
        "    b = int(input(\"B :\"))\n",
        "    ans = 0\n",
        "    mi = min(a, b)\n",
        "    for i in range(1, mi+1):\n",
        "        if a%i==0 and b%i==0:\n",
        "            ans = i\n",
        "    print(ans)"
      ],
      "metadata": {
        "id": "Mg517yrxnVFF",
        "colab": {
          "base_uri": "https://localhost:8080/"
        },
        "outputId": "560d568d-57ed-4565-ed4b-afc53fa580b0"
      },
      "execution_count": null,
      "outputs": [
        {
          "output_type": "stream",
          "name": "stdout",
          "text": [
            "T :2\n",
            "A :46\n",
            "B :59\n",
            "1\n",
            "A :45\n",
            "B :13\n",
            "1\n"
          ]
        }
      ]
    },
    {
      "cell_type": "code",
      "source": [
        "t = int(input())\n",
        "for j in range(t):\n",
        "    A = int(input())\n",
        "    B = int(input())\n",
        "    G = 1\n",
        "    for i in range(1, min(A, B) + 1):\n",
        "        if A % i == 0 and B % i == 0:\n",
        "            G = i\n",
        "        L = (A * B) // G\n",
        "    print(L)"
      ],
      "metadata": {
        "colab": {
          "base_uri": "https://localhost:8080/"
        },
        "id": "rgYhZYhdnYHI",
        "outputId": "fba2e8df-10c8-4997-cbb5-0637d225d6a8"
      },
      "execution_count": null,
      "outputs": [
        {
          "output_type": "stream",
          "name": "stdout",
          "text": [
            "2\n",
            "5\n",
            "6\n",
            "30\n",
            "4\n",
            "6\n",
            "12\n"
          ]
        }
      ]
    },
    {
      "cell_type": "code",
      "source": [
        "tc = int(input())\n",
        "while tc > 0 :\n",
        "    tc -= 1\n",
        "    number = int(input())\n",
        "    revs_number = int(0)\n",
        "    while (number > 0):\n",
        "        revs_number = (revs_number * 10) + number % 10\n",
        "        number = number // 10\n",
        "    print(revs_number)"
      ],
      "metadata": {
        "colab": {
          "base_uri": "https://localhost:8080/"
        },
        "id": "Zxh5Rgozv_gs",
        "outputId": "a5e86795-37ec-409e-84df-caeddf49a7fa"
      },
      "execution_count": null,
      "outputs": [
        {
          "output_type": "stream",
          "name": "stdout",
          "text": [
            "2\n",
            "852\n",
            "258\n",
            "756232\n",
            "232657\n"
          ]
        }
      ]
    },
    {
      "cell_type": "code",
      "source": [
        "for i in range(1):\n",
        "    for j in range(2):\n",
        "        for k in range(1):\n",
        "            print(\"a\", end=\" \")\n",
        "        print(end=\"\")\n",
        "    print(\"c\")"
      ],
      "metadata": {
        "colab": {
          "base_uri": "https://localhost:8080/"
        },
        "id": "KbW5AJte4hTJ",
        "outputId": "8add5c7a-3562-4264-f0d0-1ee62670963f"
      },
      "execution_count": null,
      "outputs": [
        {
          "output_type": "stream",
          "name": "stdout",
          "text": [
            "a a c\n"
          ]
        }
      ]
    },
    {
      "cell_type": "code",
      "source": [
        "N = int(input())\n",
        "for i in range(N, 0, -1):\n",
        "    for j in range(1, i+1):\n",
        "        print(j, end=' ')\n",
        "    print()"
      ],
      "metadata": {
        "colab": {
          "base_uri": "https://localhost:8080/"
        },
        "id": "hH_jW00c4iGw",
        "outputId": "d57fd93d-8fe3-4766-b1da-23589cd2074a"
      },
      "execution_count": null,
      "outputs": [
        {
          "output_type": "stream",
          "name": "stdout",
          "text": [
            "4\n",
            "1 2 3 4 \n",
            "1 2 3 \n",
            "1 2 \n",
            "1 \n"
          ]
        }
      ]
    },
    {
      "cell_type": "code",
      "source": [
        "N = int(input())\n",
        "\n",
        "for i in range(1, N+1):\n",
        "    for j in range(1, i+1):\n",
        "        print(\"*\", end=\" \")\n",
        "    print()\n"
      ],
      "metadata": {
        "colab": {
          "base_uri": "https://localhost:8080/"
        },
        "id": "35jRVgJQ6PuR",
        "outputId": "c7729cea-6d72-4130-cf02-7b263207edd8"
      },
      "execution_count": null,
      "outputs": [
        {
          "output_type": "stream",
          "name": "stdout",
          "text": [
            "5\n",
            "* \n",
            "* * \n",
            "* * * \n",
            "* * * * \n",
            "* * * * * \n"
          ]
        }
      ]
    },
    {
      "cell_type": "code",
      "source": [
        "N = int(input())\n",
        "for i in range(1, N+1):\n",
        "    for j in range(1, i+1):\n",
        "        print(j, end=' ')\n",
        "    print()\n"
      ],
      "metadata": {
        "colab": {
          "base_uri": "https://localhost:8080/"
        },
        "id": "zK9Jojt-840l",
        "outputId": "4c852775-3ab2-433f-d2fd-2ed5ce6cd42c"
      },
      "execution_count": null,
      "outputs": [
        {
          "output_type": "stream",
          "name": "stdout",
          "text": [
            "4\n",
            "1 \n",
            "1 2 \n",
            "1 2 3 \n",
            "1 2 3 4 \n"
          ]
        }
      ]
    },
    {
      "cell_type": "code",
      "source": [
        "N = int(input())\n",
        "\n",
        "for i in range(1, N+1):\n",
        "    for j in range(1, i+1):\n",
        "        print(j, end='')\n",
        "        if j != i:\n",
        "            print(' ', end='')\n",
        "    print()\n"
      ],
      "metadata": {
        "colab": {
          "base_uri": "https://localhost:8080/"
        },
        "id": "JnkoJjM69o-L",
        "outputId": "464c263e-54d9-45ec-e722-bac03d6c0611"
      },
      "execution_count": null,
      "outputs": [
        {
          "output_type": "stream",
          "name": "stdout",
          "text": [
            "4\n",
            "1\n",
            "1 2\n",
            "1 2 3\n",
            "1 2 3 4\n"
          ]
        }
      ]
    },
    {
      "cell_type": "code",
      "source": [
        "N = int(input())\n",
        "for i in range(N):\n",
        "    if i == 0 or i == N-1:\n",
        "        print(\"*\" * N)\n",
        "    else:\n",
        "        print(\"*\" + ' ' * (N-2) + \"*\")\n",
        "\n",
        "\n",
        "# Need to find the diff??????????????????\n",
        "\n",
        "N = int(input())\n",
        "for i in range(N):\n",
        "    print(\"*\" , end = \"\")\n",
        "    print(\" \" * (N - 2), end = \"\")\n",
        "    print(\"*\" , end = \"\")\n",
        "    print()"
      ],
      "metadata": {
        "colab": {
          "base_uri": "https://localhost:8080/"
        },
        "id": "VCj4nXSB84uK",
        "outputId": "5d146d97-1925-4005-ca58-47e38ece6171"
      },
      "execution_count": null,
      "outputs": [
        {
          "output_type": "stream",
          "name": "stdout",
          "text": [
            "4\n",
            "****\n",
            "*  *\n",
            "*  *\n",
            "****\n",
            "4\n",
            "****\n",
            "*  *\n",
            "*  *\n",
            "****\n",
            "4\n",
            "*  *\n",
            "*  *\n",
            "*  *\n",
            "*  *\n"
          ]
        }
      ]
    },
    {
      "cell_type": "code",
      "source": [
        "N = int(input())\n",
        "for i in range(N):\n",
        "    for j in range(i+1):\n",
        "        print(\"*\", end=' ')\n",
        "    print()"
      ],
      "metadata": {
        "id": "hGMgTed--VZu",
        "colab": {
          "base_uri": "https://localhost:8080/"
        },
        "outputId": "a4cdb2ed-a9ed-4a57-a249-d0e70a81025d"
      },
      "execution_count": null,
      "outputs": [
        {
          "output_type": "stream",
          "name": "stdout",
          "text": [
            "4\n",
            "* \n",
            "* * \n",
            "* * * \n",
            "* * * * \n"
          ]
        }
      ]
    },
    {
      "cell_type": "code",
      "source": [
        "N = int(input())\n",
        "for i in range(N):\n",
        "    for j in range(N-i):\n",
        "        print(\"*\", end=\"\")\n",
        "    print()\n",
        "\n"
      ],
      "metadata": {
        "colab": {
          "base_uri": "https://localhost:8080/"
        },
        "id": "qdaDyIxnvEMT",
        "outputId": "41925319-096b-4cdc-e63d-414126632417"
      },
      "execution_count": null,
      "outputs": [
        {
          "output_type": "stream",
          "name": "stdout",
          "text": [
            "3\n",
            "***\n",
            "**\n",
            "*\n"
          ]
        }
      ]
    },
    {
      "cell_type": "code",
      "source": [
        "N = int(input())\n",
        "for i in range(N):\n",
        "    for j in range(N-i):\n",
        "        print(\" \", end=\"\")\n",
        "    for j in range(i+1):\n",
        "        print(\"*\", end=\"\")\n",
        "    print()"
      ],
      "metadata": {
        "colab": {
          "base_uri": "https://localhost:8080/"
        },
        "id": "e7qvZcPtw0xK",
        "outputId": "60b6df91-6532-4a92-cb07-ca255c5bea01"
      },
      "execution_count": null,
      "outputs": [
        {
          "output_type": "stream",
          "name": "stdout",
          "text": [
            "10\n",
            "          *\n",
            "         **\n",
            "        ***\n",
            "       ****\n",
            "      *****\n",
            "     ******\n",
            "    *******\n",
            "   ********\n",
            "  *********\n",
            " **********\n"
          ]
        }
      ]
    },
    {
      "cell_type": "code",
      "source": [
        "N = int(input())\n",
        "for i in range(N):\n",
        "    for j in range(i):\n",
        "        print(\" \", end=\"\")\n",
        "    for j in range(N-i):\n",
        "        print(\"*\", end=\"\")\n",
        "    print()"
      ],
      "metadata": {
        "colab": {
          "base_uri": "https://localhost:8080/"
        },
        "id": "QnLhi5N_zQi1",
        "outputId": "16d14dbe-2e1c-47e9-bf9c-75cf9148ce76"
      },
      "execution_count": null,
      "outputs": [
        {
          "output_type": "stream",
          "name": "stdout",
          "text": [
            "5\n",
            "*****\n",
            " ****\n",
            "  ***\n",
            "   **\n",
            "    *\n"
          ]
        }
      ]
    },
    {
      "cell_type": "code",
      "source": [
        "N = int(input())\n",
        "for i in range (N):\n",
        "    for j in range (i+1):\n",
        "        number_position = j+1\n",
        "        if number_position%2==0:\n",
        "            print(number_position, end=\"\")\n",
        "        else:\n",
        "            print(\"*\", end=\"\")\n",
        "    print()\n",
        "\n",
        "##  OR  ##\n",
        "\n",
        "N = int(input())\n",
        "for i in range (N):\n",
        "    for j in range (1, i+1+1):\n",
        "        if j%2==0:\n",
        "            print(j, end=\"\")\n",
        "        else:\n",
        "            print(\"*\", end=\"\")\n",
        "    print()"
      ],
      "metadata": {
        "colab": {
          "base_uri": "https://localhost:8080/"
        },
        "id": "aq0_8FyrzQfq",
        "outputId": "9989eee1-8c9a-4712-e2a5-b5d3116d503f"
      },
      "execution_count": null,
      "outputs": [
        {
          "output_type": "stream",
          "name": "stdout",
          "text": [
            "5\n",
            "*\n",
            "*2\n",
            "*2*\n",
            "*2*4\n",
            "*2*4*\n",
            "5\n",
            "*\n",
            "*2\n",
            "*2*\n",
            "*2*4\n",
            "*2*4*\n"
          ]
        }
      ]
    },
    {
      "cell_type": "code",
      "source": [
        "N = int(input())\n",
        "for i in range(N):\n",
        "    for j in range(i+1):\n",
        "        print(\"*\", end=\"\")\n",
        "    print()\n",
        "for i in range(N):\n",
        "    for j in range(N-i):\n",
        "        print(\"*\", end=\"\")\n",
        "    print()\n",
        "\n",
        "\n",
        "print(\"===========================================\")\n",
        "### Changes ###\n",
        "print(\"===========================================\")\n",
        "\n",
        "\n",
        "N = int(input())\n",
        "for i in range(N-1): #change\n",
        "    for j in range(i+1):\n",
        "        print(\"*\", end=\"\")\n",
        "    print()\n",
        "for i in range(N):\n",
        "    for j in range(N-i):\n",
        "        print(\"*\", end=\"\")\n",
        "    print()\n",
        "\n",
        "\n",
        "\n",
        "\n"
      ],
      "metadata": {
        "colab": {
          "base_uri": "https://localhost:8080/"
        },
        "id": "oRObKPqtzQc5",
        "outputId": "f1af7056-9fe5-46d6-eb49-6e4060fe71fc"
      },
      "execution_count": null,
      "outputs": [
        {
          "output_type": "stream",
          "name": "stdout",
          "text": [
            "5\n",
            "*\n",
            "**\n",
            "***\n",
            "****\n",
            "*****\n",
            "*****\n",
            "****\n",
            "***\n",
            "**\n",
            "*\n",
            "===========================================\n",
            "===========================================\n",
            "5\n",
            "*\n",
            "**\n",
            "***\n",
            "****\n",
            "*****\n",
            "****\n",
            "***\n",
            "**\n",
            "*\n"
          ]
        }
      ]
    },
    {
      "cell_type": "code",
      "source": [
        "N = int(input())\n",
        "for i in range(N):\n",
        "    for j in range(i+1):\n",
        "        print(\"*\", end=\"\")\n",
        "    for j in range((N-i-1)*2):\n",
        "        print(\" \", end=\"\")\n",
        "    for j in range(i+1):\n",
        "        print(\"*\", end=\"\")\n",
        "    print()\n"
      ],
      "metadata": {
        "id": "MFXdrSsTzQaC",
        "colab": {
          "base_uri": "https://localhost:8080/"
        },
        "outputId": "ddfac1f6-0ef1-4802-d6e3-d50c561e3473"
      },
      "execution_count": null,
      "outputs": [
        {
          "output_type": "stream",
          "name": "stdout",
          "text": [
            "5\n",
            "*        *\n",
            "**      **\n",
            "***    ***\n",
            "****  ****\n",
            "**********\n"
          ]
        }
      ]
    },
    {
      "cell_type": "code",
      "source": [
        "N = int(input())\n",
        "for i in range(N):\n",
        "    print(\"*\" * (N - i - 1), end=\"\")\n",
        "    print(\"  \" * i, end=\"\")\n",
        "    print(\"*\" * (N - i - 1))\n",
        "\n"
      ],
      "metadata": {
        "colab": {
          "base_uri": "https://localhost:8080/"
        },
        "id": "ae9yhThZ4lNT",
        "outputId": "101dbc2a-5c5c-4dfa-f8a7-234007b235e1"
      },
      "execution_count": null,
      "outputs": [
        {
          "output_type": "stream",
          "name": "stdout",
          "text": [
            "5\n",
            "********\n",
            "***  ***\n",
            "**    **\n",
            "*      *\n",
            "        \n"
          ]
        }
      ]
    },
    {
      "cell_type": "code",
      "source": [
        "N = int(input())\n",
        "for i in range(N):\n",
        "    for j in range(N-i):\n",
        "        print(\" \", end=\"\")\n",
        "    for j in range(i+1):\n",
        "        print(\"*\", end=\"\")\n",
        "    print()\n",
        "\n",
        "print(\"=================\")\n",
        "\n",
        "N = int(input())\n",
        "\n",
        "for i in range(N):\n",
        "    for j in range(N-i-1):\n",
        "        print(\" \", end=\"\")\n",
        "    for j in range(i+1):\n",
        "        print(\"*\", end=\"\")\n",
        "    print()\n"
      ],
      "metadata": {
        "id": "0HobU2NYzQWl",
        "colab": {
          "base_uri": "https://localhost:8080/"
        },
        "outputId": "7d6680ca-8dec-45e5-c3ba-3aef43954055"
      },
      "execution_count": null,
      "outputs": [
        {
          "output_type": "stream",
          "name": "stdout",
          "text": [
            "5\n",
            "     *\n",
            "    **\n",
            "   ***\n",
            "  ****\n",
            " *****\n",
            "=================\n",
            "5\n",
            "    *\n",
            "   **\n",
            "  ***\n",
            " ****\n",
            "*****\n"
          ]
        }
      ]
    },
    {
      "cell_type": "code",
      "source": [
        "N = int(input())\n",
        "\n",
        "for i in range(N, 0, -1):\n",
        "    for j in range(i):\n",
        "        if j == 0 or j == i - 1 or i == N:\n",
        "            print(\"*\", end=\"\")\n",
        "        else:\n",
        "            print(\" \", end=\"\")\n",
        "    print()\n"
      ],
      "metadata": {
        "colab": {
          "base_uri": "https://localhost:8080/"
        },
        "id": "jWbMPG-R1c54",
        "outputId": "b85c6749-71c4-470d-87bd-b6f9fd534ebe"
      },
      "execution_count": null,
      "outputs": [
        {
          "output_type": "stream",
          "name": "stdout",
          "text": [
            "8\n",
            "********\n",
            "*     *\n",
            "*    *\n",
            "*   *\n",
            "*  *\n",
            "* *\n",
            "**\n",
            "*\n"
          ]
        }
      ]
    },
    {
      "cell_type": "code",
      "source": [
        "# Input reading\n",
        "N = int(input().strip())\n",
        "\n",
        "for i in range(N):\n",
        "    # Calculate the starting number for each row\n",
        "    start_num = i\n",
        "    for j in range(2 * N - 1):\n",
        "        # Calculate the middle index to split the sequence into increasing and decreasing parts\n",
        "        mid = (2 * N - 1) // 2\n",
        "\n",
        "        # Calculate the value to print at each position in the row\n",
        "        if j >= mid - i and j <= mid + i:\n",
        "            if j < mid:\n",
        "                print(start_num, end=\" \")\n",
        "                start_num -= 1\n",
        "            else:\n",
        "                print(start_num, end=\" \")\n",
        "                start_num += 1\n",
        "        else:\n",
        "            print(\"0\", end=\" \")\n",
        "    print()"
      ],
      "metadata": {
        "colab": {
          "base_uri": "https://localhost:8080/"
        },
        "id": "ktVR0MGT1c3D",
        "outputId": "63eeb3b3-167d-4d67-8543-7360ab92c5a0"
      },
      "execution_count": null,
      "outputs": [
        {
          "output_type": "stream",
          "name": "stdout",
          "text": [
            "4\n",
            "0 0 0 0 0 0 0 \n",
            "0 0 1 0 1 0 0 \n",
            "0 2 1 0 1 2 0 \n",
            "3 2 1 0 1 2 3 \n"
          ]
        }
      ]
    },
    {
      "cell_type": "code",
      "source": [
        "def digit_to_word(digit):\n",
        "    words = [\"zero\", \"one\", \"two\", \"three\", \"four\", \"five\", \"six\", \"seven\", \"eight\", \"nine\"]\n",
        "    return words[digit]\n",
        "\n",
        "A = input()\n",
        "word_form = [digit_to_word(int(digit)) for digit in A]\n",
        "print(\" \".join(word_form))\n"
      ],
      "metadata": {
        "colab": {
          "base_uri": "https://localhost:8080/"
        },
        "id": "u5M_idYZ1czX",
        "outputId": "39eb53df-c563-4fc2-f426-89bc7c38e8d8"
      },
      "execution_count": null,
      "outputs": [
        {
          "output_type": "stream",
          "name": "stdout",
          "text": [
            "536741\n",
            "five three six seven four one\n"
          ]
        }
      ]
    },
    {
      "cell_type": "code",
      "source": [
        "N = int(input().strip())\n",
        "is_prime = [True] * (N + 1)\n",
        "is_prime[0] = is_prime[1] = False\n",
        "for i in range(2, int(N ** 0.5) + 1):\n",
        "    if is_prime[i]:\n",
        "        for j in range(i * i, N + 1, i):\n",
        "            is_prime[j] = False\n",
        "\n",
        "for i in range(2, N + 1):\n",
        "    if is_prime[i]:\n",
        "        print(i)\n"
      ],
      "metadata": {
        "colab": {
          "base_uri": "https://localhost:8080/"
        },
        "id": "z-pqtRPI1cv0",
        "outputId": "044ecef5-6966-41f5-89e1-bc1a5fbce84a"
      },
      "execution_count": null,
      "outputs": [
        {
          "output_type": "stream",
          "name": "stdout",
          "text": [
            "56\n",
            "2\n",
            "3\n",
            "5\n",
            "7\n",
            "11\n",
            "13\n",
            "17\n",
            "19\n",
            "23\n",
            "29\n",
            "31\n",
            "37\n",
            "41\n",
            "43\n",
            "47\n",
            "53\n"
          ]
        }
      ]
    },
    {
      "cell_type": "code",
      "source": [],
      "metadata": {
        "id": "tak8nQeH1csz"
      },
      "execution_count": null,
      "outputs": []
    },
    {
      "cell_type": "code",
      "source": [
        "##########   Revision of while Loop   ##########\n",
        "n = int(input())\n",
        "start = 1\n",
        "while start<=n:\n",
        "    print(start, end=\" \")\n",
        "    start=start+2"
      ],
      "metadata": {
        "id": "XtqABET7zQTX",
        "colab": {
          "base_uri": "https://localhost:8080/"
        },
        "outputId": "41b4a323-c89c-462e-825f-6123abcc6984"
      },
      "execution_count": null,
      "outputs": [
        {
          "output_type": "stream",
          "name": "stdout",
          "text": [
            "7\n",
            "1 3 5 7 "
          ]
        }
      ]
    },
    {
      "cell_type": "code",
      "source": [
        "n=int(input())\n",
        "if n>1:\n",
        "    start = 1\n",
        "    while start<=n:\n",
        "        print(start, end=\" \")\n",
        "        start = start + 2\n",
        "else:\n",
        "    print(\"Number is not greater then 1! \")"
      ],
      "metadata": {
        "id": "WBA9IcIIzQP2",
        "colab": {
          "base_uri": "https://localhost:8080/"
        },
        "outputId": "8e2e0115-b173-4318-c7a6-098c85ce59d9"
      },
      "execution_count": null,
      "outputs": [
        {
          "output_type": "stream",
          "name": "stdout",
          "text": [
            "-9\n",
            "Number is not greater then 1! \n"
          ]
        }
      ]
    },
    {
      "cell_type": "code",
      "source": [
        "start=int(input())\n",
        "end=int(input())\n",
        "while start<=end:\n",
        "    print(start, end=\" \")\n",
        "    start=start+3"
      ],
      "metadata": {
        "id": "_sbVZWLszQMi",
        "colab": {
          "base_uri": "https://localhost:8080/"
        },
        "outputId": "89c11524-fd6b-4f1b-fdc3-20c2493f7e41"
      },
      "execution_count": null,
      "outputs": [
        {
          "output_type": "stream",
          "name": "stdout",
          "text": [
            "2\n",
            "30\n",
            "2 5 8 11 14 17 20 23 26 29 "
          ]
        }
      ]
    },
    {
      "cell_type": "code",
      "source": [
        "start=int(input())\n",
        "end=int(input())\n",
        "loop_count=0\n",
        "while start<=end:\n",
        "    if start%2==0:\n",
        "        print(start, end=\" \")\n",
        "    start=start+1\n",
        "    loop_count+=1\n",
        "print(\"Loop count is =\", loop_count )"
      ],
      "metadata": {
        "colab": {
          "base_uri": "https://localhost:8080/"
        },
        "id": "st_yZPpBS4XT",
        "outputId": "dd230c58-272a-469c-88e2-ce12cd8b6597"
      },
      "execution_count": null,
      "outputs": [
        {
          "output_type": "stream",
          "name": "stdout",
          "text": [
            "5\n",
            "20\n",
            "6 8 10 12 14 16 18 20 Loop count is = 16\n"
          ]
        }
      ]
    },
    {
      "cell_type": "code",
      "source": [
        "start=int(input())\n",
        "end=int(input())\n",
        "\n",
        "if start%2==0:\n",
        "    start=start\n",
        "else:\n",
        "    start=start+1\n",
        "loop_count=0\n",
        "while start<=end:\n",
        "    print(start, end=\" \")\n",
        "    start=start+2\n",
        "    loop_count+=1\n",
        "print(\"Loop count is =\", loop_count )"
      ],
      "metadata": {
        "colab": {
          "base_uri": "https://localhost:8080/"
        },
        "id": "Pi3y6DqHS4UF",
        "outputId": "12fd5632-c81a-4607-d8c7-3568ced42be1"
      },
      "execution_count": null,
      "outputs": [
        {
          "output_type": "stream",
          "name": "stdout",
          "text": [
            "5\n",
            "20\n",
            "6 8 10 12 14 16 18 20 Loop count is = 8\n"
          ]
        }
      ]
    },
    {
      "cell_type": "code",
      "source": [
        "password=12\n",
        "i=0\n",
        "while i<=999:\n",
        "    print(\"Trying\", i)\n",
        "    if i==password:\n",
        "        print(\"password found = \", i)\n",
        "        break\n",
        "    i+=1\n"
      ],
      "metadata": {
        "colab": {
          "base_uri": "https://localhost:8080/"
        },
        "id": "mc_senBkS4Q6",
        "outputId": "849bdbe5-9521-4692-d960-108e700f095c"
      },
      "execution_count": null,
      "outputs": [
        {
          "output_type": "stream",
          "name": "stdout",
          "text": [
            "Trying 0\n",
            "Trying 1\n",
            "Trying 2\n",
            "Trying 3\n",
            "Trying 4\n",
            "Trying 5\n",
            "Trying 6\n",
            "Trying 7\n",
            "Trying 8\n",
            "Trying 9\n",
            "Trying 10\n",
            "Trying 11\n",
            "Trying 12\n",
            "password found =  12\n"
          ]
        }
      ]
    },
    {
      "cell_type": "code",
      "source": [
        "table_of = int(input())\n",
        "i=1\n",
        "while i<=10:\n",
        "    print(table_of*i, end=\" \")\n",
        "    i+=1"
      ],
      "metadata": {
        "colab": {
          "base_uri": "https://localhost:8080/"
        },
        "id": "-HMwTdrlS4N2",
        "outputId": "ef31ad8c-1c1d-4502-ef41-5ccfa69f5ea6"
      },
      "execution_count": null,
      "outputs": [
        {
          "output_type": "stream",
          "name": "stdout",
          "text": [
            "7\n",
            "7 14 21 28 35 42 49 56 63 70 "
          ]
        }
      ]
    },
    {
      "cell_type": "code",
      "source": [
        "total_test_cases=int(input())\n",
        "test_cases_count=1\n",
        "while test_cases_count<=total_test_cases:\n",
        "\n",
        "    table_of = int(input())\n",
        "    i=1\n",
        "\n",
        "    while i<=10:\n",
        "        print(table_of*i, end=\" \")\n",
        "\n",
        "        i+=1\n",
        "    print(\"\\n\\n\")\n",
        "    test_cases_count+=1\n",
        "\n",
        "\n",
        "print(\"==============================\")\n",
        "\n",
        "total_test_cases=int(input())\n",
        "test_cases_count=1\n",
        "while test_cases_count<=total_test_cases:\n",
        "    print(\"\\n3\")\n",
        "    table_of = int(input())\n",
        "    i=1\n",
        "\n",
        "    while i<=10:\n",
        "        print(table_of*i, end=\" \")\n",
        "\n",
        "        i+=1\n",
        "\n",
        "    test_cases_count+=1"
      ],
      "metadata": {
        "colab": {
          "base_uri": "https://localhost:8080/"
        },
        "id": "EdD25C1vS4Ka",
        "outputId": "5f64d149-b78c-486d-bb87-1f4b313618ef"
      },
      "execution_count": null,
      "outputs": [
        {
          "output_type": "stream",
          "name": "stdout",
          "text": [
            "3\n",
            "1\n",
            "1 2 3 4 5 6 7 8 9 10 \n",
            "\n",
            "\n",
            "2\n",
            "2 4 6 8 10 12 14 16 18 20 \n",
            "\n",
            "\n",
            "3\n",
            "3 6 9 12 15 18 21 24 27 30 \n",
            "\n",
            "\n",
            "==============================\n",
            "3\n",
            "\n",
            "\n",
            "2\n",
            "2 4 6 8 10 12 14 16 18 20 \n",
            "\n",
            "4\n",
            "4 8 12 16 20 24 28 32 36 40 \n",
            "\n",
            "6\n",
            "6 12 18 24 30 36 42 48 54 60 "
          ]
        }
      ]
    },
    {
      "cell_type": "code",
      "source": [
        "######  13/07/2023 Problem solving 2 #######\n",
        "\n",
        "n=int(input())\n",
        "for i in range(n):\n",
        "    for j in range(n-i-1):\n",
        "        print(0, end=\" \")\n",
        "    table_of=n-i\n",
        "    table_till=2*i+1\n",
        "    for j in range (1, table_till+1):\n",
        "        print(table_of*j, end=\" \")\n",
        "    for j in range(n-i-1):\n",
        "        print(0, end=\" \")\n",
        "    print()"
      ],
      "metadata": {
        "colab": {
          "base_uri": "https://localhost:8080/"
        },
        "id": "CIQpHkvfFSjB",
        "outputId": "f25c4f41-5ffc-4be5-a636-8552f62dd53d"
      },
      "execution_count": null,
      "outputs": [
        {
          "output_type": "stream",
          "name": "stdout",
          "text": [
            "5\n",
            "0 0 0 0 5 0 0 0 0 \n",
            "0 0 0 4 8 12 0 0 0 \n",
            "0 0 3 6 9 12 15 0 0 \n",
            "0 2 4 6 8 10 12 14 0 \n",
            "1 2 3 4 5 6 7 8 9 \n"
          ]
        }
      ]
    },
    {
      "cell_type": "code",
      "source": [
        "n=int(input())\n",
        "total=0\n",
        "while n!=0:\n",
        "    id=n%10\n",
        "    total=total+id\n",
        "    n=n//10\n",
        "print(total)"
      ],
      "metadata": {
        "colab": {
          "base_uri": "https://localhost:8080/"
        },
        "id": "ibWcHPZBFSfH",
        "outputId": "5d4efc08-1a80-453d-b095-575c218e539b"
      },
      "execution_count": null,
      "outputs": [
        {
          "output_type": "stream",
          "name": "stdout",
          "text": [
            "5284\n",
            "19\n"
          ]
        }
      ]
    },
    {
      "cell_type": "code",
      "source": [
        "test_cases=int(input())\n",
        "for test in range(test_cases):\n",
        "        n=int(input())\n",
        "        total=0\n",
        "        while n!=0:\n",
        "            id=n%10\n",
        "            total=total+id\n",
        "            n=n//10\n",
        "        print(total)"
      ],
      "metadata": {
        "colab": {
          "base_uri": "https://localhost:8080/"
        },
        "id": "MPwf4rwfFScY",
        "outputId": "b35dd981-0db7-4fe2-a97d-4e6522b1006f"
      },
      "execution_count": null,
      "outputs": [
        {
          "output_type": "stream",
          "name": "stdout",
          "text": [
            "3\n",
            "4568\n",
            "23\n",
            "23\n",
            "5\n",
            "26\n",
            "8\n"
          ]
        }
      ]
    },
    {
      "cell_type": "code",
      "source": [
        "#####>>>>>>>>> LCM of a and b = a*b/gcd of a and b"
      ],
      "metadata": {
        "id": "t_nodyRAFSZX"
      },
      "execution_count": null,
      "outputs": []
    },
    {
      "cell_type": "code",
      "source": [
        "n=int(input())\n",
        "\n",
        "old_num=n\n",
        "rev_num=0\n",
        "while old_num!=0:\n",
        "    ld=old_num%10\n",
        "    rev_num=rev_num*10+ld\n",
        "    print(ld, rev_num)\n",
        "    old_num=old_num//10\n",
        "if n==rev_num:\n",
        "    print(\"It is a palindrom\")\n",
        "else:\n",
        "    print(\"it is not palindrom\")"
      ],
      "metadata": {
        "colab": {
          "base_uri": "https://localhost:8080/"
        },
        "id": "c740Mty7FSS1",
        "outputId": "6101b7fc-16a3-4a58-c5b3-e3e29361e531"
      },
      "execution_count": null,
      "outputs": [
        {
          "output_type": "stream",
          "name": "stdout",
          "text": [
            "595\n",
            "5 5\n",
            "9 59\n",
            "5 595\n",
            "It is a palindrom\n"
          ]
        }
      ]
    },
    {
      "cell_type": "code",
      "source": [
        "numbers = [1, 3, 6, 10, 15, 21]\n",
        "for num in numbers:\n",
        "    square=num**2\n",
        "    print(square)"
      ],
      "metadata": {
        "colab": {
          "base_uri": "https://localhost:8080/"
        },
        "id": "_ojCcUr8PpYR",
        "outputId": "4833c6ca-35ea-4ba1-b961-bfa8d57d2425"
      },
      "execution_count": null,
      "outputs": [
        {
          "output_type": "stream",
          "name": "stdout",
          "text": [
            "1\n",
            "9\n",
            "36\n",
            "100\n",
            "225\n",
            "441\n"
          ]
        }
      ]
    },
    {
      "cell_type": "code",
      "source": [
        "i=2\n",
        "if i==2:\n",
        "    i+=1\n",
        "for j in range(i):\n",
        "    pass\n",
        "    break\n",
        "    i+=1\n",
        "print(i)"
      ],
      "metadata": {
        "colab": {
          "base_uri": "https://localhost:8080/"
        },
        "id": "DYCcHO0qPpUr",
        "outputId": "2ac8d346-9e67-4be7-b410-7693e9aa1141"
      },
      "execution_count": null,
      "outputs": [
        {
          "output_type": "stream",
          "name": "stdout",
          "text": [
            "3\n"
          ]
        }
      ]
    },
    {
      "cell_type": "code",
      "source": [
        "A = int(input())\n",
        "bool = True\n",
        "for i in range(2, A):\n",
        "    if A % i == 0:\n",
        "            #i divides A , therefore A is not a prime\n",
        "        bool = False\n",
        "        break\n",
        "if bool == True:\n",
        "    print(\"YES\")\n",
        "else:\n",
        "    print(\"NO\")"
      ],
      "metadata": {
        "colab": {
          "base_uri": "https://localhost:8080/"
        },
        "id": "uc6w_9LXPpRq",
        "outputId": "4d2e19bb-60c2-4510-fa53-3d3e3c17aba9"
      },
      "execution_count": null,
      "outputs": [
        {
          "output_type": "stream",
          "name": "stdout",
          "text": [
            "8\n",
            "NO\n"
          ]
        }
      ]
    },
    {
      "cell_type": "code",
      "source": [
        "n=8\n",
        "while n>=0:\n",
        "   n -= 2\n",
        "   if n%2==0:\n",
        "       continue\n",
        "   print(n, end=\" \")\n",
        "else:\n",
        "   print(\"Exec\", end=\" \")"
      ],
      "metadata": {
        "colab": {
          "base_uri": "https://localhost:8080/"
        },
        "id": "cZJonMF4PpNV",
        "outputId": "b9afc576-79b7-4000-9c21-deb6d93bb07b"
      },
      "execution_count": null,
      "outputs": [
        {
          "output_type": "stream",
          "name": "stdout",
          "text": [
            "Exec "
          ]
        }
      ]
    },
    {
      "cell_type": "code",
      "source": [
        "print(\"######### REVISION of Itereation - For Loops  ##############\")\n"
      ],
      "metadata": {
        "id": "LiksSH8wPpHK",
        "colab": {
          "base_uri": "https://localhost:8080/"
        },
        "outputId": "0884630f-b235-4a48-f93a-68a5c95b3b20"
      },
      "execution_count": null,
      "outputs": [
        {
          "output_type": "stream",
          "name": "stdout",
          "text": [
            "######### REVISION of Itereation - For Loops  ##############\n"
          ]
        }
      ]
    },
    {
      "cell_type": "code",
      "source": [
        "num=int(input())\n",
        "for i in range(1,num+1):\n",
        "    print(i, end=\" \")\n",
        "\n",
        "print(\"######### OR  ###########\")\n",
        "\n",
        "num=int(input())\n",
        "for i in range (num):\n",
        "    print(i+1, end = \" \")"
      ],
      "metadata": {
        "colab": {
          "base_uri": "https://localhost:8080/"
        },
        "id": "Yb4YWXxbHEf_",
        "outputId": "7f3b383b-b7db-4ba5-fdc0-2afd879dc550"
      },
      "execution_count": null,
      "outputs": [
        {
          "output_type": "stream",
          "name": "stdout",
          "text": [
            "4\n",
            "1 2 3 4 ######### OR  ###########\n",
            "4\n",
            "1 2 3 4 "
          ]
        }
      ]
    },
    {
      "cell_type": "code",
      "source": [
        "print(len(range(2,5)))\n",
        "\n",
        "print(\"#### or ####\")\n",
        "\n",
        "print(len(range(2,15,3)))\n"
      ],
      "metadata": {
        "colab": {
          "base_uri": "https://localhost:8080/"
        },
        "id": "3U3fEhKbHEbv",
        "outputId": "74a845d1-c1af-4712-c0f9-38808ae286cb"
      },
      "execution_count": null,
      "outputs": [
        {
          "output_type": "stream",
          "name": "stdout",
          "text": [
            "3\n",
            "#### or ####\n",
            "5\n"
          ]
        }
      ]
    },
    {
      "cell_type": "code",
      "source": [
        "####### Sum of Numbers  ###########\n",
        "n=int(input())\n",
        "total=0\n",
        "for i in range (1,n+1):\n",
        "    print(i, end=\" \")\n",
        "    total=total+i\n",
        "print(\"sum of number :\",total)\n",
        "\n",
        "####### Product of Numbers  ###########\n",
        "\n",
        "n=int(input())\n",
        "product=1\n",
        "for i in range (1,n+1):\n",
        "    print(i, end=\" \")\n",
        "    product=product*i\n",
        "print(\"product of number :\",total)"
      ],
      "metadata": {
        "colab": {
          "base_uri": "https://localhost:8080/"
        },
        "id": "F3pDQvN6HEEH",
        "outputId": "317bd1f7-c2c8-4200-ff8d-2ed67f703c24"
      },
      "execution_count": null,
      "outputs": [
        {
          "output_type": "stream",
          "name": "stdout",
          "text": [
            "4\n",
            "1 2 3 4 sum of number : 10\n",
            "4\n",
            "1 2 3 4 product of number : 24\n"
          ]
        }
      ]
    },
    {
      "cell_type": "code",
      "source": [
        "n=int(input())\n",
        "product=1\n",
        "for i in range(1, n+1):\n",
        "    if i%2==0:\n",
        "        product=product*i\n",
        "print(product)\n",
        "\n",
        "## or ##\n",
        "\n",
        "n=int(input())\n",
        "product=1\n",
        "for i in range(2, n+1, 2):\n",
        "        product=product*i\n",
        "print(product)"
      ],
      "metadata": {
        "colab": {
          "base_uri": "https://localhost:8080/"
        },
        "id": "H3_PObWWHD8Y",
        "outputId": "d19b9f62-e9cf-4d16-9c56-11587be9a7d6"
      },
      "execution_count": null,
      "outputs": [
        {
          "output_type": "stream",
          "name": "stdout",
          "text": [
            "5\n",
            "8\n",
            "5\n",
            "8\n"
          ]
        }
      ]
    },
    {
      "cell_type": "code",
      "source": [
        "# in-effiecient solution\n",
        "\n",
        "start=int(input())\n",
        "n=int(input())\n",
        "product=1\n",
        "for i in range(start, n+1):\n",
        "    if i%2==0:\n",
        "        product*=i\n",
        "print(product)\n",
        "\n",
        "\n",
        "print(\"######## or ########\")\n",
        "\n",
        "# exact solution\n",
        "\n",
        "start=int(input())\n",
        "n=int(input())\n",
        "if start%2==0:\n",
        "    start=start\n",
        "else:\n",
        "    start=start+1\n",
        "product=1\n",
        "for i in range(start,n+1,2):\n",
        "    product*=i\n",
        "print(product)\n"
      ],
      "metadata": {
        "colab": {
          "base_uri": "https://localhost:8080/"
        },
        "id": "0GnGB7P5OlKQ",
        "outputId": "610f1935-1303-4925-a020-2b325e029549"
      },
      "execution_count": null,
      "outputs": [
        {
          "output_type": "stream",
          "name": "stdout",
          "text": [
            "5\n",
            "10\n",
            "480\n",
            "######## or ########\n",
            "5\n",
            "10\n",
            "480\n"
          ]
        }
      ]
    },
    {
      "cell_type": "code",
      "source": [
        "n=int(input())\n",
        "for i in range(n,1-1,-1):\n",
        "    print(i, end=\" \")"
      ],
      "metadata": {
        "colab": {
          "base_uri": "https://localhost:8080/"
        },
        "id": "sNKgj_GwP598",
        "outputId": "aea16ad5-943f-4263-9b29-ba19de27d76f"
      },
      "execution_count": null,
      "outputs": [
        {
          "output_type": "stream",
          "name": "stdout",
          "text": [
            "6\n",
            "6 5 4 3 2 1 "
          ]
        }
      ]
    },
    {
      "cell_type": "code",
      "source": [
        "n=int(input())\n",
        "\n",
        "for i in range(-n,0,1):\n",
        "    print(-i, end=\" \")\n",
        "\n",
        "print(\"#### OR ####\")\n",
        "\n",
        "n=int(input())\n",
        "for i in range(n):\n",
        "    print(n-i, end=\" \")\n",
        "\n"
      ],
      "metadata": {
        "colab": {
          "base_uri": "https://localhost:8080/"
        },
        "id": "82V0VanSQHCk",
        "outputId": "a9c8cee6-248e-4e98-ab38-7454513e5aa2"
      },
      "execution_count": null,
      "outputs": [
        {
          "output_type": "stream",
          "name": "stdout",
          "text": [
            "5\n",
            "5 4 3 2 1 #### OR ####\n",
            "5\n",
            "5 4 3 2 1 "
          ]
        }
      ]
    },
    {
      "cell_type": "code",
      "source": [
        "#### while loop Home work problems\n",
        "\n",
        "a=int(input())\n",
        "b=int(input())\n",
        "value=a**b\n",
        "print(value)"
      ],
      "metadata": {
        "colab": {
          "base_uri": "https://localhost:8080/"
        },
        "id": "SPiNd4KqUfZW",
        "outputId": "b4615976-02ff-4a4a-94a6-5832855c71b5"
      },
      "execution_count": null,
      "outputs": [
        {
          "output_type": "stream",
          "name": "stdout",
          "text": [
            "1\n",
            "10\n",
            "1\n"
          ]
        }
      ]
    },
    {
      "cell_type": "code",
      "source": [
        "T = int(input())\n",
        "while T > 0 :\n",
        "    T -= 1\n",
        "    N = int(input())\n",
        "    sum_digits = 0\n",
        "    while (N > 0):\n",
        "        sum_digits += N % 10\n",
        "        N = N // 10\n",
        "    print(sum_digits)"
      ],
      "metadata": {
        "colab": {
          "base_uri": "https://localhost:8080/"
        },
        "id": "0v2FEmDAV8i4",
        "outputId": "466969a0-567f-40cf-c182-e7351542d59a"
      },
      "execution_count": null,
      "outputs": [
        {
          "output_type": "stream",
          "name": "stdout",
          "text": [
            "2\n",
            "56\n",
            "11\n",
            "48\n",
            "12\n"
          ]
        }
      ]
    },
    {
      "cell_type": "code",
      "source": [
        "A = int(input())\n",
        "i=1\n",
        "while i<=10:\n",
        "    print(A, \"*\", i, \"=\", (A*i))\n",
        "    i+=1\n"
      ],
      "metadata": {
        "colab": {
          "base_uri": "https://localhost:8080/"
        },
        "id": "Pxxj9B0tV8ft",
        "outputId": "c24a1623-3110-4069-ccc7-4f03f207809e"
      },
      "execution_count": null,
      "outputs": [
        {
          "output_type": "stream",
          "name": "stdout",
          "text": [
            "2\n",
            "2 * 1 = 2\n",
            "2 * 2 = 4\n",
            "2 * 3 = 6\n",
            "2 * 4 = 8\n",
            "2 * 5 = 10\n",
            "2 * 6 = 12\n",
            "2 * 7 = 14\n",
            "2 * 8 = 16\n",
            "2 * 9 = 18\n",
            "2 * 10 = 20\n"
          ]
        }
      ]
    },
    {
      "cell_type": "code",
      "source": [
        "T=int(input())\n",
        "for i in range (T):\n",
        "    N=int(input())\n",
        "    num_digits=len(str(N))\n",
        "    print(num_digits)"
      ],
      "metadata": {
        "colab": {
          "base_uri": "https://localhost:8080/"
        },
        "id": "qPm3O04JZu3r",
        "outputId": "12e89b7b-8412-45b6-fb77-eaf00719cf60"
      },
      "execution_count": null,
      "outputs": [
        {
          "output_type": "stream",
          "name": "stdout",
          "text": [
            "2\n",
            "5\n",
            "1\n",
            "1023\n",
            "4\n"
          ]
        }
      ]
    },
    {
      "cell_type": "code",
      "source": [
        "for i in range (5):\n",
        "    print(i)\n",
        "else:\n",
        "    print(\"Done!\")"
      ],
      "metadata": {
        "colab": {
          "base_uri": "https://localhost:8080/"
        },
        "id": "2zga8drrAOWk",
        "outputId": "b8d59b34-9269-4682-e7fd-121dbfa14c15"
      },
      "execution_count": null,
      "outputs": [
        {
          "output_type": "stream",
          "name": "stdout",
          "text": [
            "0\n",
            "1\n",
            "2\n",
            "3\n",
            "4\n",
            "Done!\n"
          ]
        }
      ]
    },
    {
      "cell_type": "code",
      "source": [
        "x = 1j\n",
        "print(x**2==-1)"
      ],
      "metadata": {
        "colab": {
          "base_uri": "https://localhost:8080/"
        },
        "id": "vUnSHJq_BXa-",
        "outputId": "e86de381-08cd-4bd1-9830-6bffcb5b59b6"
      },
      "execution_count": null,
      "outputs": [
        {
          "output_type": "stream",
          "name": "stdout",
          "text": [
            "True\n"
          ]
        }
      ]
    },
    {
      "cell_type": "code",
      "source": [
        "get_max_num([57, 99, 31, 18])"
      ],
      "metadata": {
        "colab": {
          "base_uri": "https://localhost:8080/",
          "height": 165
        },
        "id": "lghyImBhByGs",
        "outputId": "f3427e6e-3cc7-4db8-915d-1a78dcf5b557"
      },
      "execution_count": null,
      "outputs": [
        {
          "output_type": "error",
          "ename": "NameError",
          "evalue": "ignored",
          "traceback": [
            "\u001b[0;31m---------------------------------------------------------------------------\u001b[0m",
            "\u001b[0;31mNameError\u001b[0m                                 Traceback (most recent call last)",
            "\u001b[0;32m<ipython-input-3-8044009b5196>\u001b[0m in \u001b[0;36m<cell line: 1>\u001b[0;34m()\u001b[0m\n\u001b[0;32m----> 1\u001b[0;31m \u001b[0mget_max_num\u001b[0m\u001b[0;34m(\u001b[0m\u001b[0;34m[\u001b[0m\u001b[0;36m57\u001b[0m\u001b[0;34m,\u001b[0m \u001b[0;36m99\u001b[0m\u001b[0;34m,\u001b[0m \u001b[0;36m31\u001b[0m\u001b[0;34m,\u001b[0m \u001b[0;36m18\u001b[0m\u001b[0;34m]\u001b[0m\u001b[0;34m)\u001b[0m\u001b[0;34m\u001b[0m\u001b[0;34m\u001b[0m\u001b[0m\n\u001b[0m",
            "\u001b[0;31mNameError\u001b[0m: name 'get_max_num' is not defined"
          ]
        }
      ]
    },
    {
      "cell_type": "code",
      "source": [
        "17%15\n"
      ],
      "metadata": {
        "colab": {
          "base_uri": "https://localhost:8080/"
        },
        "id": "EaBEuBuAB6n9",
        "outputId": "ccb05e6a-7560-44e2-d8d5-4091a650bcd6"
      },
      "execution_count": null,
      "outputs": [
        {
          "output_type": "execute_result",
          "data": {
            "text/plain": [
              "2"
            ]
          },
          "metadata": {},
          "execution_count": 4
        }
      ]
    },
    {
      "cell_type": "code",
      "source": [
        "print(\"#### Iteration for Loops ####\")"
      ],
      "metadata": {
        "id": "DxJK2YkFCVTd",
        "colab": {
          "base_uri": "https://localhost:8080/"
        },
        "outputId": "77a28598-d877-4afa-eff4-9de215fd7667"
      },
      "execution_count": null,
      "outputs": [
        {
          "output_type": "stream",
          "name": "stdout",
          "text": [
            "#### Iteration for Loops ####\n"
          ]
        }
      ]
    },
    {
      "cell_type": "code",
      "source": [
        "for a in range(10):\n",
        "    if(a%3==0):\n",
        "        continue\n",
        "    print(a, end=\" \")"
      ],
      "metadata": {
        "colab": {
          "base_uri": "https://localhost:8080/"
        },
        "id": "AAepbfZ1_7Yz",
        "outputId": "673e5788-897b-4a08-84d2-0d57f77b119f"
      },
      "execution_count": null,
      "outputs": [
        {
          "output_type": "stream",
          "name": "stdout",
          "text": [
            "1 2 4 5 7 8 "
          ]
        }
      ]
    },
    {
      "cell_type": "code",
      "source": [
        "i=0\n",
        "if i==0:\n",
        "   pass\n",
        "   print(i, end=\" \")\n",
        "i+=1\n",
        "print(i, end=\" \")"
      ],
      "metadata": {
        "colab": {
          "base_uri": "https://localhost:8080/"
        },
        "id": "MM8FFQDbAsG8",
        "outputId": "ee18540e-a8d5-4732-d1a8-ff5b84194b37"
      },
      "execution_count": null,
      "outputs": [
        {
          "output_type": "stream",
          "name": "stdout",
          "text": [
            "0 1 "
          ]
        }
      ]
    },
    {
      "cell_type": "code",
      "source": [
        "i=0\n",
        "while i<=5:\n",
        "     if i%2:\n",
        "        pass\n",
        "     else:\n",
        "        print(i, end=\" \")\n",
        "     i+=1"
      ],
      "metadata": {
        "colab": {
          "base_uri": "https://localhost:8080/"
        },
        "id": "hmg7UwyTAsD2",
        "outputId": "18f5531d-301b-48c7-f5d4-0e4195655e45"
      },
      "execution_count": null,
      "outputs": [
        {
          "output_type": "stream",
          "name": "stdout",
          "text": [
            "0 2 4 "
          ]
        }
      ]
    },
    {
      "cell_type": "code",
      "source": [
        "i = 0\n",
        "j = 0\n",
        "while i <= 2:\n",
        "   if j%2:\n",
        "       j += 1\n",
        "   print(i, \":\", j, end=\" \")\n",
        "   i+=1\n",
        "   j+=1"
      ],
      "metadata": {
        "colab": {
          "base_uri": "https://localhost:8080/"
        },
        "id": "w3j5LAARAsBD",
        "outputId": "4b0314c7-be75-459a-aba0-296ac3bd10a3"
      },
      "execution_count": null,
      "outputs": [
        {
          "output_type": "stream",
          "name": "stdout",
          "text": [
            "0 : 0 1 : 2 2 : 4 "
          ]
        }
      ]
    },
    {
      "cell_type": "code",
      "source": [
        "a=int(input())\n",
        "total=0\n",
        "for i in range(a):\n",
        "    if i%2!=0:\n",
        "        total+=i\n",
        "print(total)"
      ],
      "metadata": {
        "colab": {
          "base_uri": "https://localhost:8080/"
        },
        "id": "BssLxFN4Ar-C",
        "outputId": "abe6d455-6061-4313-b6a6-82cd665da88e"
      },
      "execution_count": null,
      "outputs": [
        {
          "output_type": "stream",
          "name": "stdout",
          "text": [
            "7\n",
            "9\n"
          ]
        }
      ]
    },
    {
      "cell_type": "code",
      "source": [
        "N=int(input())\n",
        "for i in range(N+1):\n",
        "    print(\"*\", end=\"\")"
      ],
      "metadata": {
        "colab": {
          "base_uri": "https://localhost:8080/"
        },
        "id": "0XiI5L6uAr7L",
        "outputId": "ad97f26a-b2a7-484c-cba4-068be78c0fe1"
      },
      "execution_count": null,
      "outputs": [
        {
          "output_type": "stream",
          "name": "stdout",
          "text": [
            "5\n",
            "******"
          ]
        }
      ]
    },
    {
      "cell_type": "code",
      "source": [
        "def celsius_to_fahrenheit(Celsius):\n",
        "    fahrenheit = (Celsius * 9/5) + 32\n",
        "    return round(fahrenheit,2)\n",
        "\n",
        "number_of_test_cases=int(input())\n",
        "for i in range(number_of_test_cases):\n",
        "    temperature_celsius=float(input())\n",
        "    temperature_fahrenheit=celsius_to_fahrenheit(temperature_celsius)\n",
        "    print(temperature_fahrenheit)"
      ],
      "metadata": {
        "id": "rOqIRgQtAr3k",
        "colab": {
          "base_uri": "https://localhost:8080/"
        },
        "outputId": "67228b4d-cd95-4ff4-d4c8-355098a4aed5"
      },
      "execution_count": null,
      "outputs": [
        {
          "output_type": "stream",
          "name": "stdout",
          "text": [
            "2\n",
            "36.8\n",
            "98.24\n",
            "25.8\n",
            "78.44\n"
          ]
        }
      ]
    },
    {
      "cell_type": "code",
      "source": [
        "def celsius_to_fahrenheit(celsius):\n",
        "    fahrenheit = (celsius * 9/5) + 32\n",
        "    return round(fahrenheit, 2)\n",
        "num_test_cases = int(input())\n",
        "for _ in range(num_test_cases):\n",
        "    temperature_celsius = float(input())\n",
        "    temperature_fahrenheit = celsius_to_fahrenheit(temperature_celsius)\n",
        "    print(temperature_fahrenheit)"
      ],
      "metadata": {
        "colab": {
          "base_uri": "https://localhost:8080/"
        },
        "id": "8fA0Ja1pX9nJ",
        "outputId": "003537a1-8260-480b-d866-05c3c2418eb4"
      },
      "execution_count": null,
      "outputs": [
        {
          "output_type": "stream",
          "name": "stdout",
          "text": [
            "1\n",
            "45.2\n",
            "113.36\n"
          ]
        }
      ]
    },
    {
      "cell_type": "code",
      "source": [
        "def celsius_farhen(Celsius) :\n",
        "    Fahrenheit = ((9/5)*Celsius) + 32\n",
        "    ans = round(Fahrenheit ,2)\n",
        "    return ans"
      ],
      "metadata": {
        "colab": {
          "base_uri": "https://localhost:8080/",
          "height": 200
        },
        "id": "l69p6ekTZBlR",
        "outputId": "521e5078-f329-46f0-ce2c-0d19bddec1b3"
      },
      "execution_count": null,
      "outputs": [
        {
          "output_type": "error",
          "ename": "NameError",
          "evalue": "ignored",
          "traceback": [
            "\u001b[0;31m---------------------------------------------------------------------------\u001b[0m",
            "\u001b[0;31mNameError\u001b[0m                                 Traceback (most recent call last)",
            "\u001b[0;32m<ipython-input-13-4bc113ab2bc6>\u001b[0m in \u001b[0;36m<cell line: 5>\u001b[0;34m()\u001b[0m\n\u001b[1;32m      3\u001b[0m     \u001b[0mans\u001b[0m \u001b[0;34m=\u001b[0m \u001b[0mround\u001b[0m\u001b[0;34m(\u001b[0m\u001b[0mFahrenheit\u001b[0m \u001b[0;34m,\u001b[0m\u001b[0;36m2\u001b[0m\u001b[0;34m)\u001b[0m\u001b[0;34m\u001b[0m\u001b[0;34m\u001b[0m\u001b[0m\n\u001b[1;32m      4\u001b[0m     \u001b[0;32mreturn\u001b[0m \u001b[0mans\u001b[0m\u001b[0;34m\u001b[0m\u001b[0;34m\u001b[0m\u001b[0m\n\u001b[0;32m----> 5\u001b[0;31m \u001b[0mprint\u001b[0m\u001b[0;34m(\u001b[0m\u001b[0mcelsius_farhen\u001b[0m\u001b[0;34m(\u001b[0m\u001b[0mCelsius\u001b[0m\u001b[0;34m)\u001b[0m\u001b[0;34m)\u001b[0m\u001b[0;34m\u001b[0m\u001b[0;34m\u001b[0m\u001b[0m\n\u001b[0m",
            "\u001b[0;31mNameError\u001b[0m: name 'Celsius' is not defined"
          ]
        }
      ]
    },
    {
      "cell_type": "code",
      "source": [
        "def calculate_total_amount(days, principal_amount, interest_rate_percentage):\n",
        "    interest_rate = interest_rate_percentage / 100\n",
        "    simple_interest = (principal_amount * interest_rate * days) / 365\n",
        "    total_amount = principal_amount + simple_interest\n",
        "    return round(total_amount, 2)\n",
        "\n",
        "# Test cases\n",
        "if __name__ == \"__main__\":\n",
        "    num_test_cases = int(input())\n",
        "\n",
        "    for _ in range(num_test_cases):\n",
        "        days = int(input())\n",
        "        principal_amount = float(input())\n",
        "        interest_rate_percentage = float(input())\n",
        "\n",
        "        total_amount = calculate_total_amount(days, principal_amount, interest_rate_percentage)\n",
        "        print(total_amount)\n"
      ],
      "metadata": {
        "colab": {
          "base_uri": "https://localhost:8080/"
        },
        "id": "t_y8vwexcfEh",
        "outputId": "f3f2a507-6257-4eb6-d361-1496d85ee40b"
      },
      "execution_count": null,
      "outputs": [
        {
          "output_type": "stream",
          "name": "stdout",
          "text": [
            "1\n",
            "789\n",
            "10000\n",
            "1.3\n",
            "10281.01\n"
          ]
        }
      ]
    },
    {
      "cell_type": "code",
      "source": [
        "def 1f(num):\n",
        "  return num + 55\n",
        "1f(5)\n",
        "print(num)"
      ],
      "metadata": {
        "colab": {
          "base_uri": "https://localhost:8080/",
          "height": 131
        },
        "id": "5pgwQNAVhQnO",
        "outputId": "b5ce5ea1-7dc3-4f28-cd3b-b4859934c278"
      },
      "execution_count": null,
      "outputs": [
        {
          "output_type": "error",
          "ename": "SyntaxError",
          "evalue": "ignored",
          "traceback": [
            "\u001b[0;36m  File \u001b[0;32m\"<ipython-input-20-7a10c6dba9a6>\"\u001b[0;36m, line \u001b[0;32m1\u001b[0m\n\u001b[0;31m    def 1f(num):\u001b[0m\n\u001b[0m        ^\u001b[0m\n\u001b[0;31mSyntaxError\u001b[0m\u001b[0;31m:\u001b[0m invalid decimal literal\n"
          ]
        }
      ]
    },
    {
      "cell_type": "code",
      "source": [
        "def simple_interest(principle_amount, rate_of_interest, time_in_years):\n",
        "    simple_interest = (principle_amount*rate_of_interest*time_in_years)/100\n",
        "    return(simple_interest)"
      ],
      "metadata": {
        "id": "3QAr1XdNh4Dw"
      },
      "execution_count": null,
      "outputs": []
    },
    {
      "cell_type": "code",
      "source": [
        "print(simple_interest(1000, 7.5, 3)) #positional Aruguments\n",
        "print(simple_interest(principle_amount=1000, time_in_years=3, rate_of_interest=7.5)) #Key_word Aruguments\n",
        "print(simple_interest(1000, time_in_years=3, rate_of_interest=7.5)) # positional + Key_word Aruguments"
      ],
      "metadata": {
        "colab": {
          "base_uri": "https://localhost:8080/"
        },
        "id": "DTgxUS6rh08x",
        "outputId": "69d0339f-02d5-4595-978b-532e6f0b0fd2"
      },
      "execution_count": null,
      "outputs": [
        {
          "output_type": "stream",
          "name": "stdout",
          "text": [
            "225.0\n",
            "225.0\n",
            "225.0\n"
          ]
        }
      ]
    },
    {
      "cell_type": "code",
      "source": [
        "def date_print(d, m, y, style):\n",
        "    if style==0:\n",
        "        print(d,m,y, sep=\"/\")\n",
        "    elif style==1:\n",
        "        print(m,d,y, sep=\"/\")\n",
        "    else:\n",
        "        print(\"invalid style\")"
      ],
      "metadata": {
        "id": "uGlIfdmQh1g3"
      },
      "execution_count": null,
      "outputs": []
    },
    {
      "cell_type": "code",
      "source": [
        "def print_date(day,month,year,style=0):\n",
        "    if style==0:\n",
        "        print(day,month,year, sep=\"/\")\n",
        "    elif style==1:\n",
        "        print(month,day,year, sep=\"/\")\n",
        "    else:\n",
        "        print(\"invalid style\")"
      ],
      "metadata": {
        "id": "CBi-1y_naFwM"
      },
      "execution_count": null,
      "outputs": []
    },
    {
      "cell_type": "code",
      "source": [
        "print_date(26,7,2023)"
      ],
      "metadata": {
        "colab": {
          "base_uri": "https://localhost:8080/"
        },
        "id": "gwVnxn33aIOa",
        "outputId": "c5f261da-b9a8-42f5-819e-d68332415b61"
      },
      "execution_count": null,
      "outputs": [
        {
          "output_type": "stream",
          "name": "stdout",
          "text": [
            "26/7/2023\n"
          ]
        }
      ]
    },
    {
      "cell_type": "code",
      "source": [
        "date_print(d=22,m=7,y=23,style=1)"
      ],
      "metadata": {
        "colab": {
          "base_uri": "https://localhost:8080/"
        },
        "id": "EXBUVwmLh2cE",
        "outputId": "317d7ede-38d9-44f7-d2da-d426c02e719c"
      },
      "execution_count": null,
      "outputs": [
        {
          "output_type": "stream",
          "name": "stdout",
          "text": [
            "7/22/23\n"
          ]
        }
      ]
    },
    {
      "cell_type": "code",
      "source": [
        "date_print(d=22,m=7,y=23,style=0)"
      ],
      "metadata": {
        "colab": {
          "base_uri": "https://localhost:8080/"
        },
        "id": "QK3kXq5op27-",
        "outputId": "31c7038a-e916-4211-f3bf-f0bd9d3736f0"
      },
      "execution_count": null,
      "outputs": [
        {
          "output_type": "stream",
          "name": "stdout",
          "text": [
            "22/7/23\n"
          ]
        }
      ]
    },
    {
      "cell_type": "code",
      "source": [
        "n = int(input())  # numbers m and n\n",
        "sum = 0  # sup of primes\n",
        "for i in range(2, n + 1):\n",
        "    flag = False\n",
        "    for j in range(2, i):\n",
        "        if i % j == 0:\n",
        "            flag = True  # composite number\n",
        "    if flag == False and i != 1:  # if isn't composite number\n",
        "        sum += i\n",
        "print(sum)"
      ],
      "metadata": {
        "id": "YJSOBHc1p25G",
        "colab": {
          "base_uri": "https://localhost:8080/"
        },
        "outputId": "779a550a-643a-4f51-d990-fa5f24f783e9"
      },
      "execution_count": null,
      "outputs": [
        {
          "output_type": "stream",
          "name": "stdout",
          "text": [
            "10\n",
            "17\n"
          ]
        }
      ]
    },
    {
      "cell_type": "code",
      "source": [
        "def main():\n",
        "    A = float(input())\n",
        "    B = float(input())\n",
        "    height = A / 100\n",
        "    BMI = B / (height * height)\n",
        "    BMI = round(BMI, 1)\n",
        "    # Use if, elif and else to check range of BMI\n",
        "    if BMI < 18.5:\n",
        "        print(\"Underweight\")\n",
        "    elif BMI >= 18.5 and BMI <= 24.9:\n",
        "        print(\"Normal\")\n",
        "    elif BMI > 24.9 and BMI <= 29.9:\n",
        "        print(\"Overweight\")\n",
        "    else:\n",
        "        print(\"Obese\")\n",
        "    print(BMI)\n",
        "\n",
        "\n",
        "if __name__ == \"__main__\":\n",
        "    main()"
      ],
      "metadata": {
        "colab": {
          "base_uri": "https://localhost:8080/"
        },
        "id": "u7C7ZgjQ2Jko",
        "outputId": "bc0fc9ad-9392-4130-e939-ef1d0eb179ca"
      },
      "execution_count": null,
      "outputs": [
        {
          "output_type": "stream",
          "name": "stdout",
          "text": [
            "101\n",
            "29\n",
            "Overweight\n",
            "28.4\n"
          ]
        }
      ]
    },
    {
      "cell_type": "code",
      "source": [
        "def find_floor_value(A):\n",
        "    floor_value = A // 200\n",
        "\n",
        "    return floor_value\n",
        "find_floor_value(-2113)"
      ],
      "metadata": {
        "colab": {
          "base_uri": "https://localhost:8080/"
        },
        "id": "vagtJ4RG2JiK",
        "outputId": "da784f3b-73d1-4193-a667-dc2512beaf52"
      },
      "execution_count": null,
      "outputs": [
        {
          "output_type": "execute_result",
          "data": {
            "text/plain": [
              "-11"
            ]
          },
          "metadata": {},
          "execution_count": 6
        }
      ]
    },
    {
      "cell_type": "code",
      "source": [
        "def convert(t):\n",
        "    return t*9/5 + 32\n",
        "\n",
        "print(convert(20))\n",
        "\n",
        "#Note: The Question is with respect to Python 3.0 version."
      ],
      "metadata": {
        "id": "FdIexzHQ2JfE",
        "colab": {
          "base_uri": "https://localhost:8080/"
        },
        "outputId": "86f14fdd-0520-4fd3-9aeb-feb7efbe136d"
      },
      "execution_count": null,
      "outputs": [
        {
          "output_type": "stream",
          "name": "stdout",
          "text": [
            "68.0\n"
          ]
        }
      ]
    },
    {
      "cell_type": "code",
      "source": [
        "def print_natural_numbers(N):\n",
        "    for i in range(1, N + 1):\n",
        "        print(i, end=\" \")\n",
        "    print()\n",
        "    for i in range(N, 0, -1):\n",
        "        print(i, end=\" \")\n",
        "    print()\n",
        "T = int(input())\n",
        "for _ in range(T):\n",
        "    N = int(input().strip())\n",
        "    print_natural_numbers(N)\n"
      ],
      "metadata": {
        "id": "ekg53BG22JcG",
        "colab": {
          "base_uri": "https://localhost:8080/"
        },
        "outputId": "4999e963-1abd-4164-e2ac-73a921cb124d"
      },
      "execution_count": null,
      "outputs": [
        {
          "output_type": "stream",
          "name": "stdout",
          "text": [
            "2\n",
            "5\n",
            "1 2 3 4 5 \n",
            "5 4 3 2 1 \n",
            "6\n",
            "1 2 3 4 5 6 \n",
            "6 5 4 3 2 1 \n"
          ]
        }
      ]
    },
    {
      "cell_type": "code",
      "source": [
        "x = 55\n",
        "def hi():\n",
        "  return x\n",
        "x +=10\n",
        "print(hi())"
      ],
      "metadata": {
        "id": "pG4kiVVM2JZB",
        "colab": {
          "base_uri": "https://localhost:8080/"
        },
        "outputId": "fd0fed44-16c7-4f2d-b519-0f44a9146cf5"
      },
      "execution_count": null,
      "outputs": [
        {
          "output_type": "stream",
          "name": "stdout",
          "text": [
            "65\n"
          ]
        }
      ]
    },
    {
      "cell_type": "code",
      "source": [],
      "metadata": {
        "id": "hlIoQWlh2JV6"
      },
      "execution_count": null,
      "outputs": []
    },
    {
      "cell_type": "code",
      "source": [],
      "metadata": {
        "id": "4C9kxrC92JTX"
      },
      "execution_count": null,
      "outputs": []
    },
    {
      "cell_type": "code",
      "source": [],
      "metadata": {
        "id": "cuj9zD0V2JPt"
      },
      "execution_count": null,
      "outputs": []
    },
    {
      "cell_type": "code",
      "source": [],
      "metadata": {
        "id": "WVQtDwAx2JMm"
      },
      "execution_count": null,
      "outputs": []
    }
  ]
}