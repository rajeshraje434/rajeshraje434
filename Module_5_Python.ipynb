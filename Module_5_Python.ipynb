{
  "cells": [
    {
      "cell_type": "markdown",
      "metadata": {
        "id": "view-in-github",
        "colab_type": "text"
      },
      "source": [
        "<a href=\"https://colab.research.google.com/github/rajeshraje434/rajeshraje434/blob/main/Module_5_Python.ipynb\" target=\"_parent\"><img src=\"https://colab.research.google.com/assets/colab-badge.svg\" alt=\"Open In Colab\"/></a>"
      ]
    },
    {
      "cell_type": "code",
      "source": [
        "dict1 = {'ten': 10, 'twenty':20, 'thirty': 30}\n",
        "dict2 = {'thirty': 30, 'fifty': 50, 'sixty': 60}\n",
        "\n",
        "dict3 = dict1.copy()\n",
        "dict3.update(dict2)\n",
        "print(dict3)"
      ],
      "metadata": {
        "colab": {
          "base_uri": "https://localhost:8080/"
        },
        "id": "N3NwlwfJ-WYP",
        "outputId": "8de84c08-db0b-4e4d-af85-41e84cfa1435"
      },
      "execution_count": null,
      "outputs": [
        {
          "output_type": "stream",
          "name": "stdout",
          "text": [
            "{'ten': 10, 'twenty': 20, 'thirty': 30, 'fifty': 50, 'sixty': 60}\n"
          ]
        }
      ]
    },
    {
      "cell_type": "markdown",
      "metadata": {
        "id": "wT41SEtlA78l"
      },
      "source": [
        "Beginner : Functions 1 - 20-July-2023\n",
        "🐍🐍🐍FUNCTIONS AGENDA 🐍🐍🐍\n",
        "🙄why functions\n",
        "\n",
        "🙂 simple functions\n",
        "\n",
        "😮positional arguments\n",
        "\n",
        "😍docstrings and help\n",
        "\n",
        "😎return v/s print"
      ]
    },
    {
      "cell_type": "code",
      "execution_count": null,
      "metadata": {
        "id": "1o4ys5DLBJzd"
      },
      "outputs": [],
      "source": [
        "#what is function>>>>>()\n",
        "#print()\n",
        "#range()\n",
        "#int()\n",
        "#input()\n",
        "#type()\n",
        "#help()\n",
        "#float()"
      ]
    },
    {
      "cell_type": "code",
      "execution_count": null,
      "metadata": {
        "id": "mCIMD8XyBUX9"
      },
      "outputs": [],
      "source": [
        "#if\n",
        "#else\n",
        "#elif\n",
        "#True\n",
        "#False\n",
        "#and\n",
        "#or\n",
        "#for\n",
        "#while\n",
        "#break\n",
        "#pass\n",
        "#continue\n",
        "#None"
      ]
    },
    {
      "cell_type": "code",
      "execution_count": null,
      "metadata": {
        "colab": {
          "base_uri": "https://localhost:8080/"
        },
        "id": "8Jc1NKHRBUU2",
        "outputId": "935e56ec-8794-4de0-c951-993bd77c2dca"
      },
      "outputs": [
        {
          "name": "stdout",
          "output_type": "stream",
          "text": [
            "\n",
            "Here is a list of the Python keywords.  Enter any keyword to get more help.\n",
            "\n",
            "False               class               from                or\n",
            "None                continue            global              pass\n",
            "True                def                 if                  raise\n",
            "and                 del                 import              return\n",
            "as                  elif                in                  try\n",
            "assert              else                is                  while\n",
            "async               except              lambda              with\n",
            "await               finally             nonlocal            yield\n",
            "break               for                 not                 \n",
            "\n"
          ]
        }
      ],
      "source": [
        "help(\"keywords\")"
      ]
    },
    {
      "cell_type": "code",
      "execution_count": null,
      "metadata": {
        "colab": {
          "base_uri": "https://localhost:8080/"
        },
        "id": "AAfxE-4rBURl",
        "outputId": "30beb6a8-a857-4115-958a-781857fd8109"
      },
      "outputs": [
        {
          "name": "stdout",
          "output_type": "stream",
          "text": [
            "clean the house\n",
            "arrange the drawing room\n",
            "wear nice cloths\n",
            "go to market and get coldrinks/tiffin\n",
            "DO NOT misbehave infront of guests\n",
            "when the guests come, thouch there eet and great them\n",
            "sing a poem\n"
          ]
        }
      ],
      "source": [
        "print(\"clean the house\")\n",
        "print(\"arrange the drawing room\")\n",
        "print(\"wear nice cloths\")\n",
        "print(\"go to market and get coldrinks/tiffin\")\n",
        "print(\"DO NOT misbehave infront of guests\")\n",
        "print(\"when the guests come, thouch there eet and great them\")\n",
        "print(\"sing a poem\")"
      ]
    },
    {
      "cell_type": "code",
      "execution_count": null,
      "metadata": {
        "id": "X-nNOa9aBUO1"
      },
      "outputs": [],
      "source": [
        "# def function_name():\n",
        "#####write any code that runs when this function is called"
      ]
    },
    {
      "cell_type": "code",
      "execution_count": null,
      "metadata": {
        "id": "EW2N3LewBUL9"
      },
      "outputs": [],
      "source": [
        "# creating the function\n",
        "def prepare_for_guest():\n",
        "    print(\"clean the house\")\n",
        "    print(\"arrange the drawing room\")\n",
        "    print(\"wear nice cloths\")\n",
        "    print(\"go to market and get coldrinks/tiffin\")\n",
        "    print(\"DO NOT misbehave infront of guests\")\n",
        "    print(\"when the guests come, thouch there eet and great them\")\n",
        "    print(\"sing a poem\")"
      ]
    },
    {
      "cell_type": "code",
      "execution_count": null,
      "metadata": {
        "colab": {
          "base_uri": "https://localhost:8080/"
        },
        "id": "6MBwcWLlBUIt",
        "outputId": "c4b0cce7-3ec5-4901-ef58-d16a41fd109e"
      },
      "outputs": [
        {
          "name": "stdout",
          "output_type": "stream",
          "text": [
            "clean the house\n",
            "arrange the drawing room\n",
            "wear nice cloths\n",
            "go to market and get coldrinks/tiffin\n",
            "DO NOT misbehave infront of guests\n",
            "when the guests come, thouch there eet and great them\n",
            "sing a poem\n"
          ]
        }
      ],
      "source": [
        "# calling thr function\n",
        "prepare_for_guest()"
      ]
    },
    {
      "cell_type": "code",
      "execution_count": null,
      "metadata": {
        "colab": {
          "base_uri": "https://localhost:8080/"
        },
        "id": "vsl_vx3xBUFt",
        "outputId": "fc8c7724-f54a-4c14-8985-a0f65968598b"
      },
      "outputs": [
        {
          "name": "stdout",
          "output_type": "stream",
          "text": [
            "go to gym\n",
            "drive home\n",
            "clean the house\n",
            "arrange the drawing room\n",
            "wear nice cloths\n",
            "go to market and get coldrinks/tiffin\n",
            "DO NOT misbehave infront of guests\n",
            "when the guests come, thouch there eet and great them\n",
            "sing a poem\n",
            "sleep\n"
          ]
        }
      ],
      "source": [
        "print(\"go to gym\")\n",
        "print(\"drive home\")\n",
        "prepare_for_guest()    #calling the function in bwtween the functions\n",
        "print(\"sleep\")"
      ]
    },
    {
      "cell_type": "code",
      "execution_count": null,
      "metadata": {
        "id": "uZiDAEI_BUCt"
      },
      "outputs": [],
      "source": [
        "# crate naking nimbu pani function\n",
        "\n",
        "def instant_nimbu_pani():\n",
        "    print(\"get an empty glass\")\n",
        "    print(\"get lemon and cut into two pieces\")\n",
        "    print(\"squeez a lemon peices into empty glass\")\n",
        "    want_suger = input(\"do you want sugar[y/n] :\")\n",
        "    if want_suger==\"y\":\n",
        "        print(\"add sugar\")\n",
        "    else:\n",
        "        print(\"add salt\")\n",
        "    print(\"stir well\")\n",
        "    print(\"nimbu pani is ready\")"
      ]
    },
    {
      "cell_type": "code",
      "execution_count": null,
      "metadata": {
        "colab": {
          "base_uri": "https://localhost:8080/"
        },
        "id": "hy-mgTC5BT_l",
        "outputId": "10cbab75-92f0-47b7-8921-f8039d8ef207"
      },
      "outputs": [
        {
          "name": "stdout",
          "output_type": "stream",
          "text": [
            "get an empty glass\n",
            "get lemon and cut into two pieces\n",
            "squeez a lemon peices into empty glass\n",
            "do you want sugar[y/n] :y\n",
            "add sugar\n",
            "stir well\n",
            "nimbu pani is ready\n"
          ]
        }
      ],
      "source": [
        "instant_nimbu_pani()    # calling the function"
      ]
    },
    {
      "cell_type": "code",
      "execution_count": null,
      "metadata": {
        "colab": {
          "base_uri": "https://localhost:8080/"
        },
        "id": "0to3yHhwBT8s",
        "outputId": "92f12e24-d6fe-4b33-88af-13f4651523d0"
      },
      "outputs": [
        {
          "name": "stdout",
          "output_type": "stream",
          "text": [
            "get an empty glass\n",
            "get lemon and cut into two pieces\n",
            "squeez a lemon peices into empty glass\n",
            "do you want sugar[y/n] :y\n",
            "add sugar\n",
            "stir well\n",
            "nimbu pani is ready\n",
            "get an empty glass\n",
            "get lemon and cut into two pieces\n",
            "squeez a lemon peices into empty glass\n",
            "do you want sugar[y/n] :n\n",
            "add salt\n",
            "stir well\n",
            "nimbu pani is ready\n",
            "get an empty glass\n",
            "get lemon and cut into two pieces\n",
            "squeez a lemon peices into empty glass\n",
            "do you want sugar[y/n] :y\n",
            "add sugar\n",
            "stir well\n",
            "nimbu pani is ready\n"
          ]
        }
      ],
      "source": [
        "# using functions in keywords\n",
        "for i in range(3):\n",
        "    instant_nimbu_pani()\n"
      ]
    },
    {
      "cell_type": "code",
      "execution_count": null,
      "metadata": {
        "colab": {
          "base_uri": "https://localhost:8080/"
        },
        "id": "R5Qg466TBT54",
        "outputId": "29732db0-f54a-4b59-f777-edf10b701f7a"
      },
      "outputs": [
        {
          "name": "stdout",
          "output_type": "stream",
          "text": [
            "knock knock Rajesh\n",
            "knock knock Rajesh\n",
            "knock knock Rajesh\n"
          ]
        }
      ],
      "source": [
        "print(\"knock knock Rajesh\")\n",
        "print(\"knock knock Rajesh\")\n",
        "print(\"knock knock Rajesh\")"
      ]
    },
    {
      "cell_type": "code",
      "execution_count": null,
      "metadata": {
        "colab": {
          "base_uri": "https://localhost:8080/"
        },
        "id": "ZH1zDTPdBT3C",
        "outputId": "df67af26-1567-4139-e389-9daab60f6e2a"
      },
      "outputs": [
        {
          "name": "stdout",
          "output_type": "stream",
          "text": [
            "your name please :Harika Rajesh\n",
            "knock knock Harika Rajesh\n",
            "knock knock Harika Rajesh\n",
            "knock knock Harika Rajesh\n"
          ]
        }
      ],
      "source": [
        "Name = input(\"your name please :\")\n",
        "print(\"knock knock\", Name)\n",
        "print(\"knock knock\", Name)\n",
        "print(\"knock knock\", Name)"
      ]
    },
    {
      "cell_type": "code",
      "execution_count": null,
      "metadata": {
        "id": "iLOWAWT8BTzl"
      },
      "outputs": [],
      "source": [
        "def wishing(name):\n",
        "    print(\"welcome to the world dear\", name)\n",
        "    print(\"welcome to the world dear\", name)\n",
        "    print(\"welcome to the world dear\", name)"
      ]
    },
    {
      "cell_type": "code",
      "execution_count": null,
      "metadata": {
        "colab": {
          "base_uri": "https://localhost:8080/"
        },
        "id": "IRQzYQEVBTwd",
        "outputId": "64f5c5ea-358a-409a-c1b7-903b741138ec"
      },
      "outputs": [
        {
          "name": "stdout",
          "output_type": "stream",
          "text": [
            "welcome to the world dear parin\n",
            "welcome to the world dear parin\n",
            "welcome to the world dear parin\n"
          ]
        }
      ],
      "source": [
        "wishing(\"parin\")"
      ]
    },
    {
      "cell_type": "code",
      "execution_count": null,
      "metadata": {
        "colab": {
          "base_uri": "https://localhost:8080/"
        },
        "id": "WW3mxqNhBTtY",
        "outputId": "28aa9e61-da57-4e32-a0bc-f7bb32b6b628"
      },
      "outputs": [
        {
          "name": "stdout",
          "output_type": "stream",
          "text": [
            "welcome to the world dear Harika Rajesh\n",
            "welcome to the world dear Harika Rajesh\n",
            "welcome to the world dear Harika Rajesh\n"
          ]
        }
      ],
      "source": [
        "wishing(\"Harika Rajesh\")"
      ]
    },
    {
      "cell_type": "code",
      "execution_count": null,
      "metadata": {
        "colab": {
          "base_uri": "https://localhost:8080/"
        },
        "id": "ydtedYj7BTqP",
        "outputId": "520d516e-9011-49ac-b80b-b2b53281e795"
      },
      "outputs": [
        {
          "name": "stdout",
          "output_type": "stream",
          "text": [
            "welcome to the world dear Rajesh\n",
            "welcome to the world dear Rajesh\n",
            "welcome to the world dear Rajesh\n"
          ]
        }
      ],
      "source": [
        "wishing(\"Rajesh\")"
      ]
    },
    {
      "cell_type": "code",
      "execution_count": null,
      "metadata": {
        "id": "X0nIJOH4Ifuu"
      },
      "outputs": [],
      "source": [
        "def propose(name):\n",
        "    \"\"\"This function when called will ask someone some where sometime to marry the\n",
        "    person calling this function\n",
        "    You need to give the name of the person being proposed\n",
        "    Be careful!!!!!\"\"\"\n",
        "    print(type(name))\n",
        "    print(\"will you marry me, \", name)"
      ]
    },
    {
      "cell_type": "code",
      "execution_count": null,
      "metadata": {
        "colab": {
          "base_uri": "https://localhost:8080/"
        },
        "id": "3miXJ8xFJrjb",
        "outputId": "88f9e165-7ab0-42d7-b47f-17e1efaf1b73"
      },
      "outputs": [
        {
          "name": "stdout",
          "output_type": "stream",
          "text": [
            "Help on function propose in module __main__:\n",
            "\n",
            "propose(name)\n",
            "    This function when called will ask someone some where sometime to marry the\n",
            "    person calling this function\n",
            "    You need to give the name of the person being proposed\n",
            "    Be careful!!!!!\n",
            "\n",
            "<class 'str'>\n",
            "will you marry me,  Harika\n"
          ]
        }
      ],
      "source": [
        "help(propose)\n",
        "propose(\"Harika\")"
      ]
    },
    {
      "cell_type": "code",
      "execution_count": null,
      "metadata": {
        "id": "BFJk3ZCBJvfN"
      },
      "outputs": [],
      "source": [
        "def greet_the_family(mother, father, brother):\n",
        "    \"\"\"Adding this docstring so you know what this function does\n",
        "    Give me name of\n",
        "    mother\n",
        "    father\n",
        "    brother\n",
        "    I will greet them\"\"\"\n",
        "    print(\"touch her foot, hello\", mother)\n",
        "    print(\"touch his foot, hello\", father)\n",
        "    print(\"hug him, hai\", brother)"
      ]
    },
    {
      "cell_type": "code",
      "execution_count": null,
      "metadata": {
        "colab": {
          "base_uri": "https://localhost:8080/"
        },
        "id": "7oF5ziEAKI94",
        "outputId": "7287704c-0647-487a-8f3d-e288720eb950"
      },
      "outputs": [
        {
          "name": "stdout",
          "output_type": "stream",
          "text": [
            "touch her foot, hello Dorasanamma\n",
            "touch his foot, hello Hari Babu\n",
            "hug him, hai Lakshmi Narayana\n"
          ]
        }
      ],
      "source": [
        "# positional arguments  >>>>>>    position matters\n",
        "greet_the_family(\"Dorasanamma\", \"Hari Babu\", \"Lakshmi Narayana\")"
      ]
    },
    {
      "cell_type": "code",
      "execution_count": null,
      "metadata": {
        "colab": {
          "base_uri": "https://localhost:8080/"
        },
        "id": "U6aH4P4HKI6_",
        "outputId": "0d03afe0-4882-4b33-dffa-a5ee3d2d350d"
      },
      "outputs": [
        {
          "name": "stdout",
          "output_type": "stream",
          "text": [
            "touch her foot, hello hari babu\n",
            "touch his foot, hello dorasanamma\n",
            "hug him, hai lakshmi narayana\n"
          ]
        }
      ],
      "source": [
        "# In position arguments position changes\n",
        "greet_the_family(\"hari babu\", \"dorasanamma\", \"lakshmi narayana\")"
      ]
    },
    {
      "cell_type": "code",
      "execution_count": null,
      "metadata": {
        "colab": {
          "base_uri": "https://localhost:8080/"
        },
        "id": "KX_vn6KXKI3r",
        "outputId": "0aa2887e-6856-4949-ee3c-99e01f55d172"
      },
      "outputs": [
        {
          "name": "stdout",
          "output_type": "stream",
          "text": [
            "Help on function greet_the_family in module __main__:\n",
            "\n",
            "greet_the_family(mother, father, brother)\n",
            "    Adding this docstring so you know what this function does\n",
            "    Give me name of\n",
            "    mother\n",
            "    father\n",
            "    brother\n",
            "    I will greet them\n",
            "\n"
          ]
        }
      ],
      "source": [
        "help(greet_the_family)"
      ]
    },
    {
      "cell_type": "code",
      "execution_count": null,
      "metadata": {
        "id": "qKRmvg-4KI0u"
      },
      "outputs": [],
      "source": [
        "# simple python function will add three numbers\n",
        "def add_3_numbers(a, b, c):\n",
        "    print(a+b+c)"
      ]
    },
    {
      "cell_type": "code",
      "execution_count": null,
      "metadata": {
        "colab": {
          "base_uri": "https://localhost:8080/"
        },
        "id": "i--00XAsKIyA",
        "outputId": "1d1c24c2-2391-405f-d067-18a9c82e0ccc"
      },
      "outputs": [
        {
          "name": "stdout",
          "output_type": "stream",
          "text": [
            "13\n"
          ]
        }
      ],
      "source": [
        "add_3_numbers(2,3,8)"
      ]
    },
    {
      "cell_type": "code",
      "execution_count": null,
      "metadata": {
        "colab": {
          "base_uri": "https://localhost:8080/"
        },
        "id": "fus8_DzPKIvT",
        "outputId": "da65573d-20a9-41c2-ab39-36b7512279b9"
      },
      "outputs": [
        {
          "name": "stdout",
          "output_type": "stream",
          "text": [
            "18\n",
            "the function gave me : None\n"
          ]
        }
      ],
      "source": [
        "sum_of_3_numbers = add_3_numbers(5,9,4)\n",
        "print(\"the function gave me :\", sum_of_3_numbers)"
      ]
    },
    {
      "cell_type": "code",
      "execution_count": null,
      "metadata": {
        "colab": {
          "base_uri": "https://localhost:8080/"
        },
        "id": "Dy_uqY_rKIsb",
        "outputId": "a5b3d2be-9a8d-42ed-ebc6-b524e30b7cbe"
      },
      "outputs": [
        {
          "name": "stdout",
          "output_type": "stream",
          "text": [
            "18\n",
            "the function gave me : 18\n"
          ]
        }
      ],
      "source": [
        "def add_3_numbers(a, b, c):\n",
        "    print(a+b+c)\n",
        "    return a+b+c\n",
        "\n",
        "\n",
        "sum_of_3_numbers = add_3_numbers(5,9,4)\n",
        "print(\"the function gave me :\", sum_of_3_numbers)"
      ]
    },
    {
      "cell_type": "code",
      "execution_count": null,
      "metadata": {
        "colab": {
          "base_uri": "https://localhost:8080/"
        },
        "id": "hiU5ag6NKIpL",
        "outputId": "05b04c66-d7c0-47b3-a5d7-7c776bf9607f"
      },
      "outputs": [
        {
          "name": "stdout",
          "output_type": "stream",
          "text": [
            "18\n",
            "<class 'int'>\n",
            "38\n",
            "the function gave me : 18\n"
          ]
        }
      ],
      "source": [
        "def add_3_numbers(a, b, c):\n",
        "    print(a+b+c)\n",
        "    return a+b+c\n",
        "\n",
        "\n",
        "sum_of_3_numbers = add_3_numbers(5,9,4)\n",
        "print(type(sum_of_3_numbers))\n",
        "print(sum_of_3_numbers+20)\n",
        "print(\"the function gave me :\", sum_of_3_numbers)\n"
      ]
    },
    {
      "cell_type": "markdown",
      "metadata": {
        "id": "nZAQ-hmcPEzr"
      },
      "source": [
        "####### **`Logic behind the RETURN`** ########"
      ]
    },
    {
      "cell_type": "code",
      "execution_count": null,
      "metadata": {
        "colab": {
          "base_uri": "https://localhost:8080/"
        },
        "id": "S1F-ZLYnPNl8",
        "outputId": "e92f73cb-1a39-4393-f753-a692ea031b70"
      },
      "outputs": [
        {
          "name": "stdout",
          "output_type": "stream",
          "text": [
            "5\n"
          ]
        }
      ],
      "source": [
        "def test(a,b):\n",
        "    return a        #When the Return comes output will stop print\n",
        "output=test(5,8)\n",
        "print(output)"
      ]
    },
    {
      "cell_type": "code",
      "execution_count": null,
      "metadata": {
        "colab": {
          "base_uri": "https://localhost:8080/"
        },
        "id": "NzLvM3HDPhfc",
        "outputId": "f650768c-dbd6-464b-9077-8e518dacb7e1"
      },
      "outputs": [
        {
          "name": "stdout",
          "output_type": "stream",
          "text": [
            "8\n",
            "5\n"
          ]
        }
      ],
      "source": [
        "def test(a,b):\n",
        "    print(b)\n",
        "    return a\n",
        "output=test(5,8)\n",
        "print(output)"
      ]
    },
    {
      "cell_type": "code",
      "execution_count": null,
      "metadata": {
        "colab": {
          "base_uri": "https://localhost:8080/"
        },
        "id": "xcZm0qPHQAid",
        "outputId": "e4c767b2-4b65-4ec7-ec93-fa817073f365"
      },
      "outputs": [
        {
          "name": "stdout",
          "output_type": "stream",
          "text": [
            "8\n",
            "None\n"
          ]
        }
      ],
      "source": [
        "def test(a,b):\n",
        "    print(b)\n",
        "    return\n",
        "output=test(5,8)\n",
        "print(output)"
      ]
    },
    {
      "cell_type": "code",
      "execution_count": null,
      "metadata": {
        "colab": {
          "base_uri": "https://localhost:8080/"
        },
        "id": "-ntIBRXGQZM0",
        "outputId": "1ec1b832-f305-49ca-df19-2d7760b8016b"
      },
      "outputs": [
        {
          "name": "stdout",
          "output_type": "stream",
          "text": [
            "5\n"
          ]
        }
      ],
      "source": [
        "def test(a,b):\n",
        "    return a\n",
        "    print(b)\n",
        "output = test(5,8)\n",
        "print(output)\n",
        "\n",
        "# Return stops the python function and never come back to next output."
      ]
    },
    {
      "cell_type": "code",
      "execution_count": null,
      "metadata": {
        "colab": {
          "base_uri": "https://localhost:8080/"
        },
        "id": "fgGLhs7MQ4hJ",
        "outputId": "e4b100fe-b02f-43f2-bb3c-4decc1ca05bd"
      },
      "outputs": [
        {
          "name": "stdout",
          "output_type": "stream",
          "text": [
            "8\n",
            "None\n"
          ]
        }
      ],
      "source": [
        "def test(a,b):\n",
        "    if a%2==0:\n",
        "        print(a)\n",
        "    else:\n",
        "        print(b)\n",
        "output = test(5,8)\n",
        "print(output)"
      ]
    },
    {
      "cell_type": "code",
      "execution_count": null,
      "metadata": {
        "colab": {
          "base_uri": "https://localhost:8080/"
        },
        "id": "ZUjf4GL4Q7N9",
        "outputId": "7b6d0a20-7007-4634-a4b7-1a3e25389e04"
      },
      "outputs": [
        {
          "name": "stdout",
          "output_type": "stream",
          "text": [
            "8\n"
          ]
        }
      ],
      "source": [
        "def test(a,b):\n",
        "    if b%2==0:\n",
        "        return b\n",
        "    else:\n",
        "        print (b)\n",
        "\n",
        "    if a%2==0:\n",
        "        return a\n",
        "    else:\n",
        "        print (a)\n",
        "output = test(5,8)\n",
        "print(output)"
      ]
    },
    {
      "cell_type": "code",
      "execution_count": null,
      "metadata": {
        "colab": {
          "base_uri": "https://localhost:8080/"
        },
        "id": "Hmb4AaZXQ9HM",
        "outputId": "5caaf7d8-8256-4816-a88f-1e89078fd9cb"
      },
      "outputs": [
        {
          "name": "stdout",
          "output_type": "stream",
          "text": [
            "5\n",
            "8\n"
          ]
        }
      ],
      "source": [
        "def test(a,b):\n",
        "    if b%2==0:\n",
        "        return b\n",
        "    else:\n",
        "        print (b)\n",
        "\n",
        "    if a%2==0:\n",
        "        return a\n",
        "    else:\n",
        "        print (a)\n",
        "output = test(8,5)\n",
        "print(output)\n"
      ]
    },
    {
      "cell_type": "markdown",
      "metadata": {
        "id": "tR_byu10BUSk"
      },
      "source": [
        "# **Beginner: Functions 2 - 22 July 2023**:"
      ]
    },
    {
      "cell_type": "code",
      "execution_count": null,
      "metadata": {
        "colab": {
          "base_uri": "https://localhost:8080/"
        },
        "id": "jtwzfq7ACO9r",
        "outputId": "f9e1a614-a5c1-45a0-8477-8fb88da13390"
      },
      "outputs": [
        {
          "name": "stdout",
          "output_type": "stream",
          "text": [
            "True\n"
          ]
        }
      ],
      "source": [
        "def random():\n",
        "    return True\n",
        "print(random())"
      ]
    },
    {
      "cell_type": "code",
      "execution_count": null,
      "metadata": {
        "colab": {
          "base_uri": "https://localhost:8080/"
        },
        "id": "wB98AP4fCmRC",
        "outputId": "a75bb208-72b2-44d3-eb0e-fc396c076189"
      },
      "outputs": [
        {
          "name": "stdout",
          "output_type": "stream",
          "text": [
            "starting\n",
            " I am a function!\n",
            "ending\n"
          ]
        }
      ],
      "source": [
        "print(\"starting\")\n",
        "def abc():\n",
        "    return \" I am a function!\"\n",
        "print(abc())\n",
        "print(\"ending\")"
      ]
    },
    {
      "cell_type": "code",
      "execution_count": null,
      "metadata": {
        "colab": {
          "base_uri": "https://localhost:8080/"
        },
        "id": "NWlbJyxYDU5u",
        "outputId": "3c8bf6d4-eb52-41c0-e7bb-94454cbfdb3d"
      },
      "outputs": [
        {
          "name": "stdout",
          "output_type": "stream",
          "text": [
            "100\n",
            "10\n"
          ]
        }
      ],
      "source": [
        "a=10 # global variable\n",
        "def calculator(number): #number is a local variable\n",
        "    print(number*10)\n",
        "calculator(a)\n",
        "#print(number) # number is not defined\n",
        "print(a)"
      ]
    },
    {
      "cell_type": "code",
      "execution_count": null,
      "metadata": {
        "colab": {
          "base_uri": "https://localhost:8080/"
        },
        "id": "ERIQjM17Dt3F",
        "outputId": "dcb05ccd-9eab-482e-c504-6c8a1cc72494"
      },
      "outputs": [
        {
          "name": "stdout",
          "output_type": "stream",
          "text": [
            "100\n",
            "inside the function a : 10\n",
            "10\n"
          ]
        }
      ],
      "source": [
        "a=10 # global variable\n",
        "def calculator(number): #number is a local variable\n",
        "    print(number*10)\n",
        "    print(\"inside the function a :\", a)\n",
        "calculator(a)\n",
        "#print(number) # number is not defined\n",
        "print(a)"
      ]
    },
    {
      "cell_type": "code",
      "execution_count": null,
      "metadata": {
        "colab": {
          "base_uri": "https://localhost:8080/",
          "height": 374
        },
        "id": "T-2N-6EBE0kf",
        "outputId": "4e27049b-e1ce-4591-8d15-73cdbf238952"
      },
      "outputs": [
        {
          "name": "stdout",
          "output_type": "stream",
          "text": [
            "100\n"
          ]
        },
        {
          "ename": "UnboundLocalError",
          "evalue": "ignored",
          "output_type": "error",
          "traceback": [
            "\u001b[0;31m---------------------------------------------------------------------------\u001b[0m",
            "\u001b[0;31mUnboundLocalError\u001b[0m                         Traceback (most recent call last)",
            "\u001b[0;32m<ipython-input-14-f70b2a89a8d0>\u001b[0m in \u001b[0;36m<cell line: 6>\u001b[0;34m()\u001b[0m\n\u001b[1;32m      4\u001b[0m     \u001b[0mprint\u001b[0m\u001b[0;34m(\u001b[0m\u001b[0;34m\"inside the function a :\"\u001b[0m\u001b[0;34m,\u001b[0m \u001b[0ma\u001b[0m\u001b[0;34m)\u001b[0m\u001b[0;34m\u001b[0m\u001b[0;34m\u001b[0m\u001b[0m\n\u001b[1;32m      5\u001b[0m     \u001b[0ma\u001b[0m\u001b[0;34m=\u001b[0m\u001b[0ma\u001b[0m\u001b[0;34m+\u001b[0m\u001b[0;36m20\u001b[0m\u001b[0;34m\u001b[0m\u001b[0;34m\u001b[0m\u001b[0m\n\u001b[0;32m----> 6\u001b[0;31m \u001b[0mcalculator\u001b[0m\u001b[0;34m(\u001b[0m\u001b[0ma\u001b[0m\u001b[0;34m)\u001b[0m\u001b[0;34m\u001b[0m\u001b[0;34m\u001b[0m\u001b[0m\n\u001b[0m\u001b[1;32m      7\u001b[0m \u001b[0;31m#print(number) # number is not defined\u001b[0m\u001b[0;34m\u001b[0m\u001b[0;34m\u001b[0m\u001b[0m\n\u001b[1;32m      8\u001b[0m \u001b[0mprint\u001b[0m\u001b[0;34m(\u001b[0m\u001b[0ma\u001b[0m\u001b[0;34m)\u001b[0m\u001b[0;34m\u001b[0m\u001b[0;34m\u001b[0m\u001b[0m\n",
            "\u001b[0;32m<ipython-input-14-f70b2a89a8d0>\u001b[0m in \u001b[0;36mcalculator\u001b[0;34m(number)\u001b[0m\n\u001b[1;32m      2\u001b[0m \u001b[0;32mdef\u001b[0m \u001b[0mcalculator\u001b[0m\u001b[0;34m(\u001b[0m\u001b[0mnumber\u001b[0m\u001b[0;34m)\u001b[0m\u001b[0;34m:\u001b[0m \u001b[0;31m#number is a local variable\u001b[0m\u001b[0;34m\u001b[0m\u001b[0;34m\u001b[0m\u001b[0m\n\u001b[1;32m      3\u001b[0m     \u001b[0mprint\u001b[0m\u001b[0;34m(\u001b[0m\u001b[0mnumber\u001b[0m\u001b[0;34m*\u001b[0m\u001b[0;36m10\u001b[0m\u001b[0;34m)\u001b[0m\u001b[0;34m\u001b[0m\u001b[0;34m\u001b[0m\u001b[0m\n\u001b[0;32m----> 4\u001b[0;31m     \u001b[0mprint\u001b[0m\u001b[0;34m(\u001b[0m\u001b[0;34m\"inside the function a :\"\u001b[0m\u001b[0;34m,\u001b[0m \u001b[0ma\u001b[0m\u001b[0;34m)\u001b[0m\u001b[0;34m\u001b[0m\u001b[0;34m\u001b[0m\u001b[0m\n\u001b[0m\u001b[1;32m      5\u001b[0m     \u001b[0ma\u001b[0m\u001b[0;34m=\u001b[0m\u001b[0ma\u001b[0m\u001b[0;34m+\u001b[0m\u001b[0;36m20\u001b[0m\u001b[0;34m\u001b[0m\u001b[0;34m\u001b[0m\u001b[0m\n\u001b[1;32m      6\u001b[0m \u001b[0mcalculator\u001b[0m\u001b[0;34m(\u001b[0m\u001b[0ma\u001b[0m\u001b[0;34m)\u001b[0m\u001b[0;34m\u001b[0m\u001b[0;34m\u001b[0m\u001b[0m\n",
            "\u001b[0;31mUnboundLocalError\u001b[0m: local variable 'a' referenced before assignment"
          ]
        }
      ],
      "source": [
        "a=10 # global variable\n",
        "def calculator(number): #number is a local variable\n",
        "    print(number*10)\n",
        "    print(\"inside the function a :\", a) # we first look for local variable, if there exist any where in the function\n",
        "    a=a+20\n",
        "calculator(a)\n",
        "#print(number) # number is not defined\n",
        "print(a)"
      ]
    },
    {
      "cell_type": "code",
      "execution_count": null,
      "metadata": {
        "colab": {
          "base_uri": "https://localhost:8080/"
        },
        "id": "JnxltJqWF0MA",
        "outputId": "83ec902b-2827-48a0-ea60-6755320b5039"
      },
      "outputs": [
        {
          "name": "stdout",
          "output_type": "stream",
          "text": [
            "100\n",
            "inside the function a : 10\n",
            "outside the function a : 10\n"
          ]
        }
      ],
      "source": [
        "a=10 # global variable >> anywehere can use it\n",
        "def calculator(number): #number is a local variable\n",
        "    print(number*10)\n",
        "    print(\"inside the function a :\", a) # we first look for local variable, if there exist any where in the function\n",
        "    b=a+20\n",
        "calculator(a)\n",
        "#print(number) # number is not defined\n",
        "print(\"outside the function a :\",a) # global variable a"
      ]
    },
    {
      "cell_type": "code",
      "execution_count": null,
      "metadata": {
        "colab": {
          "base_uri": "https://localhost:8080/"
        },
        "id": "QIQfl_d0G0V5",
        "outputId": "76c096f7-e4cd-4d45-c0b2-ab4d22252a2e"
      },
      "outputs": [
        {
          "name": "stdout",
          "output_type": "stream",
          "text": [
            "100\n",
            "inside the function a (Local varrible) : 20\n",
            "outside the functiobn a (Gobal variable) : 10\n"
          ]
        }
      ],
      "source": [
        "a=10 # global variable\n",
        "def calculator(number):\n",
        "    print(number*10)\n",
        "    a=20 # local variable\n",
        "    print(\"inside the function a (Local varrible) :\", a) # we first look for local variable, if there exist any where in the function\n",
        "\n",
        "calculator (a)\n",
        "print(\"outside the functiobn a (Gobal variable) :\", a)"
      ]
    },
    {
      "cell_type": "code",
      "execution_count": null,
      "metadata": {
        "colab": {
          "base_uri": "https://localhost:8080/"
        },
        "id": "pnUYqDFqHiy5",
        "outputId": "6ca4eb69-ca57-41c4-ae01-fae785d40d63"
      },
      "outputs": [
        {
          "name": "stdout",
          "output_type": "stream",
          "text": [
            "100\n",
            "30\n",
            "True\n",
            "inside the function a (local variable) : 20\n",
            "ouside the function a (global variable) : 10\n"
          ]
        }
      ],
      "source": [
        "a=10 # golbal variable\n",
        "def calculator(number):\n",
        "    print(number*10)\n",
        "    a=20 # local variable\n",
        "    print(a+10)\n",
        "    print(a>10)\n",
        "    print(\"inside the function a (local variable) :\", a)\n",
        "\n",
        "calculator(a)\n",
        "print(\"ouside the function a (global variable) :\", a)"
      ]
    },
    {
      "cell_type": "code",
      "execution_count": null,
      "metadata": {
        "colab": {
          "base_uri": "https://localhost:8080/"
        },
        "id": "pdeH1BnzIO1v",
        "outputId": "7aaff165-8d73-457c-ef17-2e0d292fde13"
      },
      "outputs": [
        {
          "name": "stdout",
          "output_type": "stream",
          "text": [
            "100\n",
            "inside the function a (local variable) :  20\n",
            "outside the function a (global variable) :  20\n"
          ]
        }
      ],
      "source": [
        "a=10\n",
        "def calculator(number):\n",
        "    print(number*10)\n",
        "    global a # we are asking the python to consider the global variable a, for reading/writing/updating\n",
        "    a=20 # local variable\n",
        "    print(\"inside the function a (local variable) : \", a)\n",
        "\n",
        "calculator(a)\n",
        "print(\"outside the function a (global variable) : \", a)"
      ]
    },
    {
      "cell_type": "markdown",
      "metadata": {
        "id": "GUAevmIsKJYD"
      },
      "source": [
        "# 1. How many return statements can function have? >>>\n",
        "ANS: as many as we need\n",
        "\n",
        "# 2. How many return statements can be executed in a function at a time ? >>>>\n",
        "ANS: at max 1 time"
      ]
    },
    {
      "cell_type": "code",
      "execution_count": null,
      "metadata": {
        "colab": {
          "base_uri": "https://localhost:8080/"
        },
        "id": "SHF7JHFUK10X",
        "outputId": "02867de1-67af-4754-a4d6-1cfbb8594060"
      },
      "outputs": [
        {
          "name": "stdout",
          "output_type": "stream",
          "text": [
            "100\n",
            "inside the function a (local variable) :  20\n",
            "20\n",
            "outside the function a (global variable) :  20\n"
          ]
        }
      ],
      "source": [
        "a=10\n",
        "def calculator(number):\n",
        "    print(number*10)\n",
        "    global a # we are asking the python to consider the global variable a, for reading/writing/updating\n",
        "    a=20 # local variable\n",
        "    print(\"inside the function a (local variable) : \", a)\n",
        "    return a\n",
        "\n",
        "output=calculator(a)\n",
        "print(output)\n",
        "print(\"outside the function a (global variable) : \", a)"
      ]
    },
    {
      "cell_type": "code",
      "execution_count": null,
      "metadata": {
        "id": "gL-kPpUcMTt1"
      },
      "outputs": [],
      "source": [
        "# positional arguments\n",
        "\n",
        "def introducing_my_family(my_name, spouse, son, father, mother, brother, sister):\n",
        "    print(\"my_name is :\", my_name)\n",
        "    print(\"my spouse name is :\", spouse)\n",
        "    print(\"my son name is :\", son)\n",
        "    print(\"my father name is :\", father)\n",
        "    print(\"my mother name is :\", mother)\n",
        "    print(\"my brother name is :\", brother)\n",
        "    print(\"my sister name is :\", sister)"
      ]
    },
    {
      "cell_type": "code",
      "execution_count": null,
      "metadata": {
        "colab": {
          "base_uri": "https://localhost:8080/"
        },
        "id": "RZ8X5MFGNafx",
        "outputId": "b59dee9c-8fc8-4516-fd19-1ab6a08163f8"
      },
      "outputs": [
        {
          "name": "stdout",
          "output_type": "stream",
          "text": [
            "my_name is : Rajesh Mangalapuri\n",
            "my spouse name is : Harika Mangalapuri\n",
            "my son name is : Parin Mangalapuri\n",
            "my father name is : Hari Babu Mangalapuri\n",
            "my mother name is : Dorasanamma Mangalapuri\n",
            "my brother name is : Lakshmi Narayana Mangalapuri\n",
            "my sister name is : Saraswathi Mangalapuri\n"
          ]
        }
      ],
      "source": [
        "# postional argumentts\n",
        "#>>> it should be in exact position\n",
        "\n",
        "introducing_my_family(\"Rajesh Mangalapuri\",\"Harika Mangalapuri\", \"Parin Mangalapuri\", \"Hari Babu Mangalapuri\", \"Dorasanamma Mangalapuri\", \"Lakshmi Narayana Mangalapuri\", \"Saraswathi Mangalapuri\")"
      ]
    },
    {
      "cell_type": "code",
      "execution_count": null,
      "metadata": {
        "colab": {
          "base_uri": "https://localhost:8080/"
        },
        "id": "ta36hEIdNrmR",
        "outputId": "c599ff8b-5ec9-43a2-8ca6-12458e03b196"
      },
      "outputs": [
        {
          "name": "stdout",
          "output_type": "stream",
          "text": [
            "my_name is : Rajesh Mangalapuri\n",
            "my spouse name is : Harika Mangalapuri\n",
            "my son name is : Parin Mangalapuri\n",
            "my father name is : Hari Babu Mangalapuri\n",
            "my mother name is : Dorasanamma Mangalapuri\n",
            "my brother name is : Lakshmi Narayana Mangalapuri\n",
            "my sister name is : Saraswathi Mangalapuri\n"
          ]
        }
      ],
      "source": [
        "# key_word arguments\n",
        "# >>> need to assign the key word, but postion doesn't matter\n",
        "\n",
        "introducing_my_family(father=\"Hari Babu Mangalapuri\", mother=\"Dorasanamma Mangalapuri\", brother=\"Lakshmi Narayana Mangalapuri\", sister=\"Saraswathi Mangalapuri\", my_name=\"Rajesh Mangalapuri\", spouse=\"Harika Mangalapuri\", son=\"Parin Mangalapuri\")"
      ]
    },
    {
      "cell_type": "code",
      "execution_count": null,
      "metadata": {
        "id": "x6ZPVeT0PKE7"
      },
      "outputs": [],
      "source": [
        "def random(a,b,c,d):\n",
        "    print(\"a is\", a)\n",
        "    print(\"b is\", b)\n",
        "    print(\"c is\", c)\n",
        "    print(\"d is\", d)"
      ]
    },
    {
      "cell_type": "code",
      "execution_count": null,
      "metadata": {
        "colab": {
          "base_uri": "https://localhost:8080/"
        },
        "id": "HiI5UVmbQH2J",
        "outputId": "37a58fa6-0f5a-45c3-cb5b-40a350a1148a"
      },
      "outputs": [
        {
          "name": "stdout",
          "output_type": "stream",
          "text": [
            "a is 1\n",
            "b is 2\n",
            "c is 4\n",
            "d is 3\n",
            "🔽positional arguments🔽\n",
            "a is 1\n",
            "b is 2\n",
            "c is 3\n",
            "d is 4\n",
            "🔼positional arguments🔼\n",
            "🔽Key_word arguments🔽\n",
            "a is 1\n",
            "b is 2\n",
            "c is 3\n",
            "d is 4\n",
            "🔼Key_word arguments🔼\n"
          ]
        }
      ],
      "source": [
        "# combine positional & key_word arguments\n",
        "random(1,2,d=3,c=4)\n",
        "\n",
        "print(\"🔽positional arguments🔽\")\n",
        "\n",
        "random(1,2,3,4)\n",
        "\n",
        "print(\"🔼positional arguments🔼\")\n",
        "\n",
        "print(\"🔽Key_word arguments🔽\")\n",
        "\n",
        "random(a=1, b=2, c=3, d=4)\n",
        "\n",
        "print(\"🔼Key_word arguments🔼\")"
      ]
    },
    {
      "cell_type": "code",
      "execution_count": null,
      "metadata": {
        "colab": {
          "base_uri": "https://localhost:8080/",
          "height": 131
        },
        "id": "3nbVsjCAQWIv",
        "outputId": "58d607b7-34fe-4192-db2e-a34d6921e58e"
      },
      "outputs": [
        {
          "ename": "SyntaxError",
          "evalue": "ignored",
          "output_type": "error",
          "traceback": [
            "\u001b[0;36m  File \u001b[0;32m\"<ipython-input-55-4d29e64a602b>\"\u001b[0;36m, line \u001b[0;32m1\u001b[0m\n\u001b[0;31m    random(1,b=2,3,d=4)\u001b[0m\n\u001b[0m                      ^\u001b[0m\n\u001b[0;31mSyntaxError\u001b[0m\u001b[0;31m:\u001b[0m positional argument follows keyword argument\n"
          ]
        }
      ],
      "source": [
        "random(1,b=2,3,d=4) #positional argument follows keyword argument"
      ]
    },
    {
      "cell_type": "code",
      "execution_count": null,
      "metadata": {
        "colab": {
          "base_uri": "https://localhost:8080/"
        },
        "id": "StGTfG18R0QR",
        "outputId": "11736207-c026-4c40-81fb-dc77fa10d5e1"
      },
      "outputs": [
        {
          "name": "stdout",
          "output_type": "stream",
          "text": [
            "a is 1\n",
            "b is 2\n",
            "c is 3\n",
            "d is 4\n"
          ]
        }
      ],
      "source": [
        "random(1,2,c=3,d=4)"
      ]
    },
    {
      "cell_type": "code",
      "execution_count": null,
      "metadata": {
        "colab": {
          "base_uri": "https://localhost:8080/"
        },
        "id": "jp1diUG2SMr5",
        "outputId": "487ddb8b-43fe-46cf-d11a-83b2157f402f"
      },
      "outputs": [
        {
          "name": "stdout",
          "output_type": "stream",
          "text": [
            "6\n"
          ]
        }
      ],
      "source": [
        "# printing RANDOM number\n",
        "import random\n",
        "print(random.randint(5,10))"
      ]
    },
    {
      "cell_type": "markdown",
      "metadata": {
        "id": "EYFps2B2SpRq"
      },
      "source": [
        "# interset >> def simple_interest\n",
        "# calculate simple interest\n",
        "# si = p*r*t/100\n",
        "# p is principle amount\n",
        "# r is rate of interest\n",
        "# t is the time you kept the loan"
      ]
    },
    {
      "cell_type": "code",
      "execution_count": null,
      "metadata": {
        "id": "gexdP-HrSQnC"
      },
      "outputs": [],
      "source": [
        "def simple_interest(p,r,t):\n",
        "    si=p*r*t/100 #simple interest fromula\n",
        "    return si"
      ]
    },
    {
      "cell_type": "code",
      "execution_count": null,
      "metadata": {
        "colab": {
          "base_uri": "https://localhost:8080/"
        },
        "id": "Kgo08rbnS5e3",
        "outputId": "7d3e3999-afc1-496d-8e62-9f5e71089908"
      },
      "outputs": [
        {
          "name": "stdout",
          "output_type": "stream",
          "text": [
            "225.0\n",
            "225.0\n",
            "225.0\n"
          ]
        }
      ],
      "source": [
        "print(simple_interest(1000,7.5,3)) # positional arguments\n",
        "print(simple_interest(p=1000,r=7.5,t=3)) # keyword arguments\n",
        "print(simple_interest(1000, t=3,r=7.5)) # positional + keyword arguments"
      ]
    },
    {
      "cell_type": "code",
      "execution_count": null,
      "metadata": {
        "id": "bgsvGEwFS-kI"
      },
      "outputs": [],
      "source": [
        "# giving default values\n",
        "def simple_interest(p, r, t=30):\n",
        "    si = p*r*t/100\n",
        "    return si"
      ]
    },
    {
      "cell_type": "code",
      "execution_count": null,
      "metadata": {
        "colab": {
          "base_uri": "https://localhost:8080/"
        },
        "id": "07bqLQbxTm_z",
        "outputId": "17a7a04f-da1d-44c0-9d2f-05cff4ed6b48"
      },
      "outputs": [
        {
          "name": "stdout",
          "output_type": "stream",
          "text": [
            "225.0\n",
            "225.0\n",
            "225.0\n"
          ]
        }
      ],
      "source": [
        "#after assigned the default value we can assign the values at input (As we requried)\n",
        "\n",
        "print(simple_interest(1000,7.5,3)) # positional arguments\n",
        "print(simple_interest(p= 1000,t =3,r= 7.5)) # keyword arguments\n",
        "print(simple_interest(1000,t =3,r= 7.5)) # positional+keyword arguments"
      ]
    },
    {
      "cell_type": "code",
      "execution_count": null,
      "metadata": {
        "colab": {
          "base_uri": "https://localhost:8080/"
        },
        "id": "yRm7jpLYTqk6",
        "outputId": "299abc8d-75d5-4cbc-fbbf-b771e4af5094"
      },
      "outputs": [
        {
          "name": "stdout",
          "output_type": "stream",
          "text": [
            "2250.0\n",
            "2250.0\n",
            "2250.0\n"
          ]
        }
      ],
      "source": [
        "# after assign the default value no need to assign the values at input (As we requried)\n",
        "\n",
        "print(simple_interest(1000,7.5)) # positional arguments\n",
        "print(simple_interest(p= 1000,r= 7.5)) # keyword arguments\n",
        "print(simple_interest(1000,r= 7.5)) # positional+keyword arguments"
      ]
    },
    {
      "cell_type": "markdown",
      "metadata": {
        "id": "Y4XkIj_KUyN3"
      },
      "source": [
        "Question 1 -\n",
        "Create a date printing function -\n",
        "Should take 4 arguments -> day, month, year and style\n",
        "\n",
        "Styling Logic -\n",
        "style -> 0 -> d/m/y\n",
        "style -> 1 -> m/d/y\n",
        "style -> any other value -> Invalid Style\n",
        "\n",
        "default style is 0."
      ]
    },
    {
      "cell_type": "code",
      "execution_count": null,
      "metadata": {
        "id": "TfdRxANBa1l_"
      },
      "outputs": [],
      "source": [
        "def date_sort(day,month,year,style=0):\n",
        "    if style==0:\n",
        "        print(day,month,year, sep=\"/\")\n",
        "    elif style==1:\n",
        "        print(month,day,year, sep=\"/\")\n",
        "    else:\n",
        "        print(\"invalid style\")"
      ]
    },
    {
      "cell_type": "code",
      "execution_count": null,
      "metadata": {
        "colab": {
          "base_uri": "https://localhost:8080/",
          "height": 287
        },
        "id": "5zGQCLvqZWze",
        "outputId": "0fe2836f-bc2a-4f7d-f18a-39448b6fc92b"
      },
      "outputs": [
        {
          "ename": "TypeError",
          "evalue": "ignored",
          "output_type": "error",
          "traceback": [
            "\u001b[0;31m---------------------------------------------------------------------------\u001b[0m",
            "\u001b[0;31mTypeError\u001b[0m                                 Traceback (most recent call last)",
            "\u001b[0;32m<ipython-input-107-af47459fa243>\u001b[0m in \u001b[0;36m<cell line: 1>\u001b[0;34m()\u001b[0m\n\u001b[0;32m----> 1\u001b[0;31m \u001b[0mdate_sort\u001b[0m\u001b[0;34m(\u001b[0m\u001b[0;36m22\u001b[0m\u001b[0;34m,\u001b[0m\u001b[0;36m7\u001b[0m\u001b[0;34m,\u001b[0m\u001b[0;36m2023\u001b[0m\u001b[0;34m,\u001b[0m\u001b[0;36m1\u001b[0m\u001b[0;34m)\u001b[0m\u001b[0;34m\u001b[0m\u001b[0;34m\u001b[0m\u001b[0m\n\u001b[0m",
            "\u001b[0;32m<ipython-input-104-213406bec309>\u001b[0m in \u001b[0;36mdate_sort\u001b[0;34m(day, month, year, style)\u001b[0m\n\u001b[1;32m      3\u001b[0m         \u001b[0mprint\u001b[0m\u001b[0;34m(\u001b[0m\u001b[0mday\u001b[0m\u001b[0;34m,\u001b[0m\u001b[0mmonth\u001b[0m\u001b[0;34m,\u001b[0m\u001b[0myear\u001b[0m\u001b[0;34m,\u001b[0m \u001b[0msep\u001b[0m\u001b[0;34m=\u001b[0m\u001b[0;34m\"/\"\u001b[0m\u001b[0;34m)\u001b[0m\u001b[0;34m\u001b[0m\u001b[0;34m\u001b[0m\u001b[0m\n\u001b[1;32m      4\u001b[0m     \u001b[0;32melif\u001b[0m \u001b[0mstyle\u001b[0m\u001b[0;34m==\u001b[0m\u001b[0;36m1\u001b[0m\u001b[0;34m:\u001b[0m\u001b[0;34m\u001b[0m\u001b[0;34m\u001b[0m\u001b[0m\n\u001b[0;32m----> 5\u001b[0;31m         \u001b[0mprint\u001b[0m\u001b[0;34m(\u001b[0m\u001b[0mmonth\u001b[0m\u001b[0;34m,\u001b[0m\u001b[0mday\u001b[0m\u001b[0;34m,\u001b[0m\u001b[0myear\u001b[0m\u001b[0;34m,\u001b[0m \u001b[0msep\u001b[0m\u001b[0;34m=\u001b[0m\u001b[0;34m\"/\"\u001b[0m\u001b[0;34m)\u001b[0m\u001b[0;34m\u001b[0m\u001b[0;34m\u001b[0m\u001b[0m\n\u001b[0m\u001b[1;32m      6\u001b[0m     \u001b[0;32melse\u001b[0m\u001b[0;34m:\u001b[0m\u001b[0;34m\u001b[0m\u001b[0;34m\u001b[0m\u001b[0m\n\u001b[1;32m      7\u001b[0m         \u001b[0mprint\u001b[0m\u001b[0;34m(\u001b[0m\u001b[0;34m\"invalid style\"\u001b[0m\u001b[0;34m)\u001b[0m\u001b[0;34m\u001b[0m\u001b[0;34m\u001b[0m\u001b[0m\n",
            "\u001b[0;31mTypeError\u001b[0m: print() got an unexpected keyword argument 'sep'"
          ]
        }
      ],
      "source": [
        "date_sort(22,7,2023,1)"
      ]
    },
    {
      "cell_type": "markdown",
      "metadata": {
        "id": "QXxDTr2QzrGJ"
      },
      "source": [
        "## Day-41  List-1D  (27-07-2023)"
      ]
    },
    {
      "cell_type": "code",
      "execution_count": null,
      "metadata": {
        "colab": {
          "base_uri": "https://localhost:8080/"
        },
        "id": "2RRYdR6KUuey",
        "outputId": "c91b2a18-8bed-438c-9956-85ab547367b4"
      },
      "outputs": [
        {
          "name": "stdout",
          "output_type": "stream",
          "text": [
            "[]\n",
            "<class 'list'>\n"
          ]
        }
      ],
      "source": [
        "emptylist=[]\n",
        "print(emptylist)\n",
        "print(type(emptylist))"
      ]
    },
    {
      "cell_type": "code",
      "execution_count": null,
      "metadata": {
        "colab": {
          "base_uri": "https://localhost:8080/"
        },
        "id": "vkmL8kXCUucI",
        "outputId": "bf619605-e436-4d98-9361-86c510098d63"
      },
      "outputs": [
        {
          "name": "stdout",
          "output_type": "stream",
          "text": [
            "['Rajesh', 27, 189.5, True, None]\n",
            "<class 'list'>\n"
          ]
        }
      ],
      "source": [
        "player = [\"Rajesh\",27,189.5,True,None]\n",
        "print(player)\n",
        "print(type(player))"
      ]
    },
    {
      "cell_type": "code",
      "execution_count": null,
      "metadata": {
        "colab": {
          "base_uri": "https://localhost:8080/"
        },
        "id": "BXc-aG3lUuZq",
        "outputId": "165c75f5-b8e1-4791-eb63-98b0d6afda57"
      },
      "outputs": [
        {
          "name": "stdout",
          "output_type": "stream",
          "text": [
            "[3, 'tables', 3, 'chairs', 1.5, 'apples', ['Rajesh', 27, 189.5, True, None]]\n",
            "3\n",
            "tables\n",
            "3\n",
            "chairs\n",
            "1.5\n",
            "apples\n",
            "['Rajesh', 27, 189.5, True, None]\n"
          ]
        }
      ],
      "source": [
        "\n",
        "# INDEX        0    1     2     3     4     5                       6\n",
        "groccerylists=[3,\"tables\",3,\"chairs\",1.5,\"apples\",[\"Rajesh\",27,189.5,True,None]]\n",
        "print(groccerylists)\n",
        "\n",
        "print(groccerylists[0])\n",
        "print(groccerylists[1])\n",
        "print(groccerylists[2])\n",
        "print(groccerylists[3])\n",
        "print(groccerylists[4])\n",
        "print(groccerylists[5])\n",
        "print(groccerylists[6])"
      ]
    },
    {
      "cell_type": "code",
      "execution_count": null,
      "metadata": {
        "id": "8bhLYU58UuW_"
      },
      "outputs": [],
      "source": [
        "# python lists can store absolutly anything(any data type/DS), even another list\n",
        "# python lists can store duplicates\n",
        "# python lists maintain order"
      ]
    },
    {
      "cell_type": "code",
      "execution_count": null,
      "metadata": {
        "colab": {
          "base_uri": "https://localhost:8080/"
        },
        "id": "pSscQH58UuUH",
        "outputId": "ba60aba4-d696-4a40-a86a-29b08100f696"
      },
      "outputs": [
        {
          "name": "stdout",
          "output_type": "stream",
          "text": [
            "['iron man', 'thor', 'cap', 'hulk', 'groot']\n",
            "iron man\n",
            "thor\n",
            "cap\n",
            "hulk\n",
            "groot\n"
          ]
        }
      ],
      "source": [
        "# INDEX         0        1      2     3       4\n",
        "avengers = [\"iron man\",\"thor\",\"cap\",\"hulk\",\"groot\"]\n",
        "print(avengers)\n",
        "\n",
        "print(avengers[0])\n",
        "print(avengers[1])\n",
        "print(avengers[2])\n",
        "print(avengers[3])\n",
        "print(avengers[4])\n",
        "\n",
        "#print(avengers[5]) >>>>IndexError: list index out of range"
      ]
    },
    {
      "cell_type": "code",
      "execution_count": null,
      "metadata": {
        "colab": {
          "base_uri": "https://localhost:8080/"
        },
        "id": "JkVpYyaxUuRB",
        "outputId": "e038b84c-4412-4762-f727-527d5f04e6e6"
      },
      "outputs": [
        {
          "name": "stdout",
          "output_type": "stream",
          "text": [
            "['iron man', 'thor', 'cap', 'hulk', 'groot']\n",
            "first elememt in the list is :  iron man\n"
          ]
        }
      ],
      "source": [
        "# INDEX         0        1      2     3       4\n",
        "avengers = [\"iron man\",\"thor\",\"cap\",\"hulk\",\"groot\"]\n",
        "print(avengers)\n",
        "\n",
        "print(\"first elememt in the list is : \",avengers[0])"
      ]
    },
    {
      "cell_type": "code",
      "execution_count": null,
      "metadata": {
        "colab": {
          "base_uri": "https://localhost:8080/"
        },
        "id": "5lhsqWniUuOS",
        "outputId": "1b58e144-0774-41c9-ec47-7c6f575a6437"
      },
      "outputs": [
        {
          "name": "stdout",
          "output_type": "stream",
          "text": [
            "['iron man', 'thor', 'cap', 'hulk', 'groot']\n",
            "how many elements are there in this list : 5\n",
            "the index of the last value : 4\n",
            "last element in the list is : groot\n"
          ]
        }
      ],
      "source": [
        "# INDEX         0        1      2     3       4\n",
        "avengers = [\"iron man\",\"thor\",\"cap\",\"hulk\",\"groot\"]\n",
        "print(avengers)\n",
        "\n",
        "print(\"how many elements are there in this list :\", len(avengers))\n",
        "print(\"the index of the last value :\", len(avengers)-1)\n",
        "print(\"last element in the list is :\", avengers[len(avengers)-1])"
      ]
    },
    {
      "cell_type": "code",
      "execution_count": null,
      "metadata": {
        "colab": {
          "base_uri": "https://localhost:8080/"
        },
        "id": "wwnIdGLHZoRi",
        "outputId": "325079d5-9dac-4eb9-8c75-db9612c3460a"
      },
      "outputs": [
        {
          "name": "stdout",
          "output_type": "stream",
          "text": [
            "['iron man', 'thor', 'cap', 'hulk', 'groot']\n",
            "iron man iron man\n",
            "thor thor\n",
            "cap cap\n",
            "hulk hulk\n",
            "groot groot\n"
          ]
        }
      ],
      "source": [
        "# INDEX         0        1      2     3       4\n",
        "avengers = [\"iron man\",\"thor\",\"cap\",\"hulk\",\"groot\"]\n",
        "# -ve index     -5        -4    -3    -2     -1\n",
        "print(avengers)\n",
        "\n",
        "print(avengers[0], avengers[-5])\n",
        "print(avengers[1], avengers[-4])\n",
        "print(avengers[2], avengers[-3])\n",
        "print(avengers[3], avengers[-2])\n",
        "print(avengers[4], avengers[-1])"
      ]
    },
    {
      "cell_type": "code",
      "execution_count": null,
      "metadata": {
        "colab": {
          "base_uri": "https://localhost:8080/"
        },
        "id": "G7PvLMroaOsg",
        "outputId": "8e1dd44f-e964-4c5e-cea1-c1a0539abc68"
      },
      "outputs": [
        {
          "name": "stdout",
          "output_type": "stream",
          "text": [
            "[3, 'tables', 3, 'chairs', 1.5, 'apples', ['Rajesh', 27, 189.5, True, None]]\n",
            "tables\n",
            "tables <class 'str'>\n"
          ]
        }
      ],
      "source": [
        "# INDEX        0    1     2     3     4     5                       6\n",
        "groccerylists=[3,\"tables\",3,\"chairs\",1.5,\"apples\",[\"Rajesh\",27,189.5,True,None]]\n",
        "print(groccerylists)\n",
        "\n",
        "print(groccerylists[1])\n",
        "what_am_I_buying=groccerylists[1]\n",
        "print(what_am_I_buying, type(what_am_I_buying))"
      ]
    },
    {
      "cell_type": "code",
      "execution_count": null,
      "metadata": {
        "colab": {
          "base_uri": "https://localhost:8080/"
        },
        "id": "ONQ0h1m4bW3u",
        "outputId": "4e60754d-3698-4415-ece7-b438c276bdc4"
      },
      "outputs": [
        {
          "name": "stdout",
          "output_type": "stream",
          "text": [
            "total even index runs sum : 268\n"
          ]
        }
      ],
      "source": [
        "runs=[45, 67, 89, 12, 34, 56, 100] # virat kohli's runs\n",
        "# Mr virat thinks he does well in even +Ve indexed matches\n",
        "# You are asked by Mr. virat to calculate the total runs of the even matches\n",
        "\n",
        "runs = [45, 67, 89, 12, 34, 56, 100]\n",
        "#        0   1   2   3   4   5    6\n",
        "## even  0   -   2   -   4    -   6\n",
        "total = 0\n",
        "# 0, 1, 2, 3, ....len(runs)-1\n",
        "\n",
        "for i in range (0, len(runs)):\n",
        "    if i%2==0:\n",
        "        #print(i, end=\" \")\n",
        "        total = total+runs[i]\n",
        "print(\"total even index runs sum :\",total)"
      ]
    },
    {
      "cell_type": "code",
      "execution_count": null,
      "metadata": {
        "colab": {
          "base_uri": "https://localhost:8080/"
        },
        "id": "ayP9MGcBdg21",
        "outputId": "ba235495-a76c-4e3e-dcd9-c0c8a2e24125"
      },
      "outputs": [
        {
          "name": "stdout",
          "output_type": "stream",
          "text": [
            "['iron man', 'thor', 'cap', 'hulk', 'groot']\n",
            "thor\n",
            "thor\n"
          ]
        }
      ],
      "source": [
        "# INDEX         0        1      2     3       4\n",
        "avengers = [\"iron man\",\"thor\",\"cap\",\"hulk\",\"groot\"]\n",
        "print(avengers)\n",
        "\n",
        "#read\n",
        "print(avengers[1])\n",
        "print(avengers[-4])"
      ]
    },
    {
      "cell_type": "code",
      "execution_count": null,
      "metadata": {
        "colab": {
          "base_uri": "https://localhost:8080/"
        },
        "id": "LIL8y0TbfRZh",
        "outputId": "bc9fdd49-da1f-48e9-caed-7da283456622"
      },
      "outputs": [
        {
          "name": "stdout",
          "output_type": "stream",
          "text": [
            "['iron man', 'thor', 'cap', 'hulk', 'groot']\n",
            "['iron man', 'thor', 'cap', 'hulk', 'groot', 'gamora']\n",
            "['iron man', 'black panther', 'thor', 'cap', 'hulk', 'groot', 'gamora']\n",
            "['iron man', 'black panther', 'thor', 'cap', 'rocket', 'hulk', 'groot', 'gamora']\n",
            "['iron man', 'black panther', 'thor', 'cap', ['wonder woman', 'super man', 'aquaman', 'flash'], 'rocket', 'hulk', 'groot', 'gamora']\n"
          ]
        }
      ],
      "source": [
        "# INDEX         0        1      2     3       4\n",
        "avengers = [\"iron man\",\"thor\",\"cap\",\"hulk\",\"groot\"]\n",
        "print(avengers)\n",
        "\n",
        "# add\n",
        "# append>> add a single value at the end of the list\n",
        "avengers.append(\"gamora\")\n",
        "print(avengers)\n",
        "\n",
        "#insert >>> insert adds 1 element before a given index\n",
        "avengers.insert(1, \"black panther\") #before the index 1 \" black panther\" will added\n",
        "print(avengers)\n",
        "\n",
        "avengers.insert(-3, \"rocket\")\n",
        "print(avengers)\n",
        "\n",
        "avengers.insert(-4, [\"wonder woman\", \"super man\", \"aquaman\", \"flash\"])\n",
        "print(avengers)"
      ]
    },
    {
      "cell_type": "code",
      "execution_count": null,
      "metadata": {
        "colab": {
          "base_uri": "https://localhost:8080/"
        },
        "id": "3XmQmYRAfmp1",
        "outputId": "d99ef9fa-6486-4fca-d91c-8542825e78c3"
      },
      "outputs": [
        {
          "name": "stdout",
          "output_type": "stream",
          "text": [
            "['iron man', 'thor', 'cap', 'hulk', 'groot']\n",
            "['wonder woman', 'super man', 'aquaman', 'flash']\n",
            "['iron man', 'thor', 'cap', 'hulk', 'groot', 'wonder woman', 'super man', 'aquaman', 'flash']\n"
          ]
        }
      ],
      "source": [
        "# INDEX         0        1      2     3       4\n",
        "avengers = [\"iron man\",\"thor\",\"cap\",\"hulk\",\"groot\"]\n",
        "print(avengers)\n",
        "\n",
        "DC = [\"wonder woman\", \"super man\", \"aquaman\", \"flash\"]\n",
        "print(DC)\n",
        "\n",
        "# extend >>> add a whole another list inside the list at end\n",
        "avengers.extend(DC)\n",
        "print(avengers)"
      ]
    },
    {
      "cell_type": "code",
      "execution_count": null,
      "metadata": {
        "colab": {
          "base_uri": "https://localhost:8080/"
        },
        "id": "wD-AoFtegjJ3",
        "outputId": "11c7114c-6dd0-4138-f199-0c0ca2ecfa13"
      },
      "outputs": [
        {
          "name": "stdout",
          "output_type": "stream",
          "text": [
            "['iron man', 'thor', 'cap', 'hulk', 'groot']\n",
            "['iron man', 'god of thunder', 'cap', 'hulk', 'groot']\n",
            "['iron man', 'god of thunder', 'cap', 'hulk', ['groot', 'rocket']]\n"
          ]
        }
      ],
      "source": [
        "# INDEX         0        1      2     3       4\n",
        "avengers = [\"iron man\",\"thor\",\"cap\",\"hulk\",\"groot\"]\n",
        "print(avengers)\n",
        "\n",
        "# Update\n",
        "\n",
        "avengers[1]=\"god of thunder\"\n",
        "print(avengers)\n",
        "\n",
        "avengers[-1]=[\"groot\", \"rocket\"]\n",
        "print(avengers)"
      ]
    },
    {
      "cell_type": "code",
      "execution_count": null,
      "metadata": {
        "colab": {
          "base_uri": "https://localhost:8080/"
        },
        "id": "ajH0OPkhiOXH",
        "outputId": "02d4ecee-8e31-41b9-9051-ff5c47f49151"
      },
      "outputs": [
        {
          "name": "stdout",
          "output_type": "stream",
          "text": [
            "['iron man', 'thor', 'cap', 'thor', 'hulk', 'groot', 'thor']\n",
            "['iron man', 'cap', 'thor', 'hulk', 'groot', 'thor']\n",
            "['iron man', 'cap', 'hulk', 'groot', 'thor']\n",
            "['iron man', 'hulk', 'groot', 'thor']\n",
            "['iron man', 'hulk', 'thor']\n"
          ]
        }
      ],
      "source": [
        "# INDEX         0        1      2     3       4\n",
        "avengers = [\"iron man\",\"thor\",\"cap\", \"thor\", \"hulk\",\"groot\", \"thor\"]\n",
        "print(avengers)\n",
        "\n",
        "# delet / removing\n",
        "\n",
        "# by specifying the value\n",
        "## remove >> this removes the first occurene of the vlue\n",
        "avengers.remove(\"thor\")\n",
        "print(avengers)\n",
        "avengers.remove(\"thor\")\n",
        "print(avengers)\n",
        "\n",
        "# by specyfing the position\n",
        "del avengers[1]\n",
        "print(avengers)\n",
        "\n",
        "\n",
        "# pop\n",
        "avengers.pop(2)\n",
        "print(avengers)"
      ]
    },
    {
      "cell_type": "code",
      "execution_count": null,
      "metadata": {
        "colab": {
          "base_uri": "https://localhost:8080/"
        },
        "id": "QWMN5aQIjdVa",
        "outputId": "58ee5219-afec-4924-cd4f-3020064be834"
      },
      "outputs": [
        {
          "name": "stdout",
          "output_type": "stream",
          "text": [
            "['iron man', 'thor', 'cap', 'thor', 'hulk', 'groot', 'thor']\n",
            "[]\n"
          ]
        }
      ],
      "source": [
        "avengers = [\"iron man\",\"thor\",\"cap\", \"thor\", \"hulk\",\"groot\", \"thor\"]\n",
        "print(avengers)\n",
        "\n",
        "# need to delete the entire list of avengers\n",
        "avengers=[]\n",
        "print(avengers)"
      ]
    },
    {
      "cell_type": "code",
      "execution_count": null,
      "metadata": {
        "colab": {
          "base_uri": "https://localhost:8080/"
        },
        "id": "MCJugvGjkx3p",
        "outputId": "60eb9056-e8f7-4b22-9183-d60d103e9d90"
      },
      "outputs": [
        {
          "name": "stdout",
          "output_type": "stream",
          "text": [
            ">>>> +\n",
            "['rajesh', 'harika', 'parin', 'hari babu', 'dorasanamma']\n",
            ">>>> * int\n",
            "['rajesh', 'harika', 'parin', 'rajesh', 'harika', 'parin', 'rajesh', 'harika', 'parin']\n"
          ]
        }
      ],
      "source": [
        "my_list1=[\"rajesh\", \"harika\", \"parin\"]\n",
        "my_list2=[\"hari babu\", \"dorasanamma\"]\n",
        "\n",
        "print(\">>>> +\")\n",
        "print(my_list1+my_list2)\n",
        "\n",
        "print(\">>>> * int\")\n",
        "print(my_list1*3)"
      ]
    },
    {
      "cell_type": "code",
      "execution_count": null,
      "metadata": {
        "colab": {
          "base_uri": "https://localhost:8080/"
        },
        "id": "e1P_DkpvlDYX",
        "outputId": "bad5f4c8-768d-4f88-94c1-0b0388b7667c"
      },
      "outputs": [
        {
          "name": "stdout",
          "output_type": "stream",
          "text": [
            "['iron man', 'thor', 'cap', 'hulk', 'groot']\n",
            "iron man thor cap hulk groot "
          ]
        }
      ],
      "source": [
        "# iterating over a list\n",
        "\n",
        "avengers = [\"iron man\",\"thor\",\"cap\",\"hulk\",\"groot\"]\n",
        "print(avengers)\n",
        "\n",
        "for i in avengers:\n",
        "    print(i, end=\" \")"
      ]
    },
    {
      "cell_type": "code",
      "execution_count": null,
      "metadata": {
        "colab": {
          "base_uri": "https://localhost:8080/"
        },
        "id": "z8klsmwnmiEc",
        "outputId": "d3254b75-b720-4f28-e106-455c2fd3ef82"
      },
      "outputs": [
        {
          "name": "stdout",
          "output_type": "stream",
          "text": [
            "403\n",
            "57.57142857142857\n",
            "12\n",
            "100\n"
          ]
        }
      ],
      "source": [
        "runs=[45, 67, 89, 12, 34, 56, 100]\n",
        "\n",
        "#sum of runs\n",
        "total=0\n",
        "for run in runs:\n",
        "    total=total+run\n",
        "print(total)\n",
        "\n",
        "#average of the runs\n",
        "print(total/len(runs))\n",
        "\n",
        "#Minimum runs\n",
        "print(min(runs))\n",
        "\n",
        "#Maximu of runs\n",
        "print(max(runs))"
      ]
    },
    {
      "cell_type": "code",
      "execution_count": null,
      "metadata": {
        "colab": {
          "base_uri": "https://localhost:8080/"
        },
        "id": "EJpWEVL-m0tV",
        "outputId": "0b86ae52-9c8a-4c1b-ba4a-2fa703298e91"
      },
      "outputs": [
        {
          "name": "stdout",
          "output_type": "stream",
          "text": [
            "max runs is : 100\n",
            "min runs is : 12\n"
          ]
        }
      ],
      "source": [
        "# Min and Max of runs by using functions\n",
        "runs=[45, 67, 89, 12, 34, 56, 100]\n",
        "\n",
        "min_runs=runs[0]\n",
        "max_runs=runs[0]\n",
        "for run in runs:\n",
        "    if run>max_runs:\n",
        "        max_runs=run\n",
        "    if run<min_runs:\n",
        "        min_runs=run\n",
        "print(\"max runs is :\", max_runs)\n",
        "print(\"min runs is :\", min_runs)"
      ]
    },
    {
      "cell_type": "code",
      "execution_count": null,
      "metadata": {
        "colab": {
          "base_uri": "https://localhost:8080/"
        },
        "id": "yqQjblOxpVKX",
        "outputId": "14be9962-e716-47d4-818b-0f3be0975819"
      },
      "outputs": [
        {
          "name": "stdout",
          "output_type": "stream",
          "text": [
            "[45, 67, 89, 12, 34, 56, 100]\n",
            "[12, 34, 45, 56, 67, 89, 100]\n",
            "[100, 89, 67, 56, 45, 34, 12]\n"
          ]
        }
      ],
      "source": [
        "# sort\n",
        "runs=[45, 67, 89, 12, 34, 56, 100]\n",
        "print(runs)\n",
        "#Ascending\n",
        "runs.sort()\n",
        "print(runs)\n",
        "#Descending\n",
        "runs.sort(reverse=True)\n",
        "print(runs)\n"
      ]
    },
    {
      "cell_type": "code",
      "execution_count": null,
      "metadata": {
        "colab": {
          "base_uri": "https://localhost:8080/"
        },
        "id": "lHlkibRNp3JD",
        "outputId": "f1c1ee0d-4bb6-416d-d940-c8cfddedbcb4"
      },
      "outputs": [
        {
          "name": "stdout",
          "output_type": "stream",
          "text": [
            "['iron man', 'thor', 'cap', 'thor', 'hulk', 'groot', 'thor']\n",
            "['cap', 'groot', 'hulk', 'iron man', 'thor', 'thor', 'thor']\n",
            "['thor', 'thor', 'thor', 'iron man', 'hulk', 'groot', 'cap']\n"
          ]
        }
      ],
      "source": [
        "avengers = [\"iron man\",\"thor\",\"cap\", \"thor\", \"hulk\",\"groot\", \"thor\"]\n",
        "print(avengers)\n",
        "avengers.sort()\n",
        "print(avengers)\n",
        "avengers.sort(reverse=True)\n",
        "print(avengers)"
      ]
    },
    {
      "cell_type": "code",
      "execution_count": null,
      "metadata": {
        "colab": {
          "base_uri": "https://localhost:8080/",
          "height": 235
        },
        "id": "k8-bzYj2qs4k",
        "outputId": "c852a2b7-0671-44dd-9259-96c082e177ee"
      },
      "outputs": [
        {
          "name": "stdout",
          "output_type": "stream",
          "text": [
            "[3, 'tables', 3, 'chairs', 1.5, 'apples', ['Rajesh', 27, 189.5, True, None]]\n"
          ]
        },
        {
          "ename": "TypeError",
          "evalue": "ignored",
          "output_type": "error",
          "traceback": [
            "\u001b[0;31m---------------------------------------------------------------------------\u001b[0m",
            "\u001b[0;31mTypeError\u001b[0m                                 Traceback (most recent call last)",
            "\u001b[0;32m<ipython-input-77-6bc51bf6c3e3>\u001b[0m in \u001b[0;36m<cell line: 4>\u001b[0;34m()\u001b[0m\n\u001b[1;32m      2\u001b[0m \u001b[0mprint\u001b[0m\u001b[0;34m(\u001b[0m\u001b[0mgroccerylists\u001b[0m\u001b[0;34m)\u001b[0m\u001b[0;34m\u001b[0m\u001b[0;34m\u001b[0m\u001b[0m\n\u001b[1;32m      3\u001b[0m \u001b[0;34m\u001b[0m\u001b[0m\n\u001b[0;32m----> 4\u001b[0;31m \u001b[0mgroccerylists\u001b[0m\u001b[0;34m.\u001b[0m\u001b[0msort\u001b[0m\u001b[0;34m(\u001b[0m\u001b[0;34m)\u001b[0m\u001b[0;34m\u001b[0m\u001b[0;34m\u001b[0m\u001b[0m\n\u001b[0m\u001b[1;32m      5\u001b[0m \u001b[0mprint\u001b[0m\u001b[0;34m(\u001b[0m\u001b[0mgroccerylists\u001b[0m\u001b[0;34m)\u001b[0m\u001b[0;34m\u001b[0m\u001b[0;34m\u001b[0m\u001b[0m\n",
            "\u001b[0;31mTypeError\u001b[0m: '<' not supported between instances of 'str' and 'int'"
          ]
        }
      ],
      "source": [
        "groccerylists=[3,\"tables\",3,\"chairs\",1.5,\"apples\",[\"Rajesh\",27,189.5,True,None]]\n",
        "print(groccerylists)\n",
        "\n",
        "groccerylists.sort()\n",
        "print(groccerylists)"
      ]
    },
    {
      "cell_type": "code",
      "execution_count": null,
      "metadata": {
        "colab": {
          "base_uri": "https://localhost:8080/"
        },
        "id": "yNY0ZGplq5mL",
        "outputId": "865fa64f-88e3-4119-aab9-195be53f32ed"
      },
      "outputs": [
        {
          "name": "stdout",
          "output_type": "stream",
          "text": [
            "the size of the earth is 1200.5 Kms\n"
          ]
        }
      ],
      "source": [
        "output=\"the size of the earth is 1200.5 Kms\"\n",
        "print(output)"
      ]
    },
    {
      "cell_type": "code",
      "execution_count": null,
      "metadata": {
        "colab": {
          "base_uri": "https://localhost:8080/"
        },
        "id": "8EROMR4ur0NB",
        "outputId": "280b7086-ec48-49f5-ece5-6f0998f7a1da"
      },
      "outputs": [
        {
          "name": "stdout",
          "output_type": "stream",
          "text": [
            "The size of earth is 1200.5 Kms\n"
          ]
        }
      ],
      "source": [
        "## f string>>>>>\n",
        "\n",
        "planet_name=\"earth\"\n",
        "planet_size=1200.5\n",
        "\n",
        "# 1. put variable instead of the value\n",
        "# 2. put the variable names in {}\n",
        "# 3. add f in front\n",
        "\n",
        "output= f\"The size of {planet_name} is {planet_size} Kms\"\n",
        "print(output)\n"
      ]
    },
    {
      "cell_type": "code",
      "execution_count": null,
      "metadata": {
        "colab": {
          "base_uri": "https://localhost:8080/"
        },
        "id": "Kc45f6zXsXQX",
        "outputId": "664114cb-652c-4104-cb06-4ad4da2259cf"
      },
      "outputs": [
        {
          "name": "stdout",
          "output_type": "stream",
          "text": [
            "The size of Mars is 1258794.5 Kms\n"
          ]
        }
      ],
      "source": [
        "planet_name=\"Mars\"\n",
        "planet_size=1258794.5\n",
        "\n",
        "# 1. put variable instead of the value\n",
        "# 2. put the variable names in {}\n",
        "# 3. add f in front\n",
        "\n",
        "output= f\"The size of {planet_name} is {planet_size} Kms\"\n",
        "print(output)\n"
      ]
    },
    {
      "cell_type": "code",
      "execution_count": null,
      "metadata": {
        "colab": {
          "base_uri": "https://localhost:8080/"
        },
        "id": "08HiYbb7sfn2",
        "outputId": "94f8c7c3-bd54-4877-bbbb-e11396fb4c19"
      },
      "outputs": [
        {
          "name": "stdout",
          "output_type": "stream",
          "text": [
            "apple is a fruit. banana is a fruit.  orange is a fruit. "
          ]
        }
      ],
      "source": [
        "my_list = [\"apple\", \"banana\", \" orange\"]\n",
        "for i in range(len(my_list)):\n",
        "    print(f\"{my_list[i]} is a fruit.\", end=\" \")"
      ]
    },
    {
      "cell_type": "code",
      "execution_count": null,
      "metadata": {
        "colab": {
          "base_uri": "https://localhost:8080/"
        },
        "id": "h4YlBKTztJ3M",
        "outputId": "4706da17-b7bc-4013-f109-54bec2b48f25"
      },
      "outputs": [
        {
          "name": "stdout",
          "output_type": "stream",
          "text": [
            "[20, 40, 60, 80, 100]\n"
          ]
        }
      ],
      "source": [
        "my_list=[10,20,30,40,50]\n",
        "i=0\n",
        "while i<len(my_list):\n",
        "    my_list[i]*=2 # >>> my_list[i]=my_list[i]*2\n",
        "    i+=1\n",
        "print(my_list)"
      ]
    },
    {
      "cell_type": "code",
      "execution_count": null,
      "metadata": {
        "colab": {
          "base_uri": "https://localhost:8080/"
        },
        "id": "fM-tCq3ctv-x",
        "outputId": "24fd540f-b8f1-4b5a-b3f9-cc83c8fb4514"
      },
      "outputs": [
        {
          "name": "stdout",
          "output_type": "stream",
          "text": [
            "1 2 "
          ]
        }
      ],
      "source": [
        "my_list=[1,2,3,4,5]\n",
        "i=0\n",
        "while i < len(my_list):\n",
        "    if my_list[i]==3:\n",
        "        break\n",
        "    print(my_list[i], end=\" \")\n",
        "    i+=1"
      ]
    },
    {
      "cell_type": "markdown",
      "metadata": {
        "id": "MUcvynPCvkAL"
      },
      "source": [
        "## #### Assignment works"
      ]
    },
    {
      "cell_type": "code",
      "execution_count": null,
      "metadata": {
        "colab": {
          "base_uri": "https://localhost:8080/"
        },
        "id": "N1ofo0eMuCeG",
        "outputId": "9fcd355c-9f59-4438-f6be-10ddce6a0ea8"
      },
      "outputs": [
        {
          "name": "stdout",
          "output_type": "stream",
          "text": [
            "80\n",
            "None\n"
          ]
        }
      ],
      "source": [
        "def calculate_sum(input_list):\n",
        "    ans = 0\n",
        "    N = len(input_list)\n",
        "    # looping from 0 to N-1\n",
        "    for i in range(N):\n",
        "        ans += input_list[i]\n",
        "    print(ans)\n",
        "\n",
        "input_list=[50,30]\n",
        "result=calculate_sum(input_list)\n",
        "print(result)"
      ]
    },
    {
      "cell_type": "code",
      "execution_count": null,
      "metadata": {
        "colab": {
          "base_uri": "https://localhost:8080/",
          "height": 131
        },
        "id": "TYAbKL0AvpRV",
        "outputId": "ecdda7b1-1366-43c4-f502-92ab6ae70963"
      },
      "outputs": [
        {
          "ename": "SyntaxError",
          "evalue": "ignored",
          "output_type": "error",
          "traceback": [
            "\u001b[0;36m  File \u001b[0;32m\"<ipython-input-101-bdae59c21101>\"\u001b[0;36m, line \u001b[0;32m1\u001b[0m\n\u001b[0;31m    A=[4,5,8,8,5,5,8,,55,8,5,5,5,]\u001b[0m\n\u001b[0m                     ^\u001b[0m\n\u001b[0;31mSyntaxError\u001b[0m\u001b[0;31m:\u001b[0m invalid syntax\n"
          ]
        }
      ],
      "source": [
        "def even_odd(A):\n",
        "    even_sum = 0\n",
        "    odd_sum = 0\n",
        "    for x in A:\n",
        "        if x % 2 == 0:\n",
        "            even_sum = even_sum + x\n",
        "        else:\n",
        "            odd_sum = odd_sum + x\n",
        "    return even_sum - odd_sum\n",
        "\n"
      ]
    },
    {
      "cell_type": "markdown",
      "metadata": {
        "id": "8Pcg7pkCrDX4"
      },
      "source": [
        "## Day-42 List-slicing (01-08-2023)"
      ]
    },
    {
      "cell_type": "code",
      "execution_count": null,
      "metadata": {
        "colab": {
          "base_uri": "https://localhost:8080/"
        },
        "id": "LtGd9fitrPSi",
        "outputId": "3425380c-f6fd-416e-ddd2-47b984708292"
      },
      "outputs": [
        {
          "name": "stdout",
          "output_type": "stream",
          "text": [
            "62\n",
            "74\n",
            "12\n",
            "122\n",
            "81\n"
          ]
        }
      ],
      "source": [
        " # Question 1\n",
        " #Given list of all runs by virat, print runs made in odd matches (Even Index)\n",
        " runs = [62, 85, 74, 10, 12, 101, 122, 99, 81, 55]\n",
        " for i in range(len(runs)):\n",
        "    if i%2==0:\n",
        "        print(runs[i])"
      ]
    },
    {
      "cell_type": "code",
      "execution_count": null,
      "metadata": {
        "colab": {
          "base_uri": "https://localhost:8080/"
        },
        "id": "o8nFMlUQ3PMW",
        "outputId": "95619ac9-4ecc-4c3c-84c9-b2344e38a8db"
      },
      "outputs": [
        {
          "name": "stdout",
          "output_type": "stream",
          "text": [
            "[62, 74, 12, 122, 81]\n"
          ]
        }
      ],
      "source": [
        "#Question 2\n",
        "runs = [62, 85, 74, 10, 12, 101, 122, 99, 81, 55]\n",
        "\n",
        "def odd_runs(runs):\n",
        "    res=[]\n",
        "    for i in range(len(runs)):\n",
        "        if i%2==0:\n",
        "            res.append(runs[i])\n",
        "    return res\n",
        "print(odd_runs(runs))"
      ]
    },
    {
      "cell_type": "code",
      "execution_count": null,
      "metadata": {
        "colab": {
          "base_uri": "https://localhost:8080/"
        },
        "id": "ceewIDXe33-C",
        "outputId": "b3beeef9-177f-44d6-b043-3d6bbe3262b2"
      },
      "outputs": [
        {
          "name": "stdout",
          "output_type": "stream",
          "text": [
            "[101, 122, 99, 81, 55]\n",
            "[101, 122, 99, 81, 55]\n"
          ]
        }
      ],
      "source": [
        "# Question 3\n",
        "#Given list of all runs by virat, create a new list of runs made in last 5 Matches.\n",
        "\n",
        "####    0   1    2   3  4    *    *    *  *    *\n",
        "####    0   1    2   3  4    5    6    7  8    9\n",
        "runs = [62, 85, 74, 10, 12, 101, 122, 99, 81, 55]\n",
        "\n",
        "res=[]\n",
        "for i in range(len(runs)-5, len(runs)):\n",
        "    res.append(runs[i])\n",
        "print(res)\n",
        "\n",
        "###### OR #######\n",
        "\n",
        "\n",
        "####    0   1    2   3  4    5    6    7  8    9\n",
        "runs = [62, 85, 74, 10, 12, 101, 122, 99, 81, 55]\n",
        "####    -10 -9  -8  -7  -6  -5   -4  -3   -2  -1\n",
        "res=[]\n",
        "for i in range(-5,0):\n",
        "    res.append(runs[i])\n",
        "print(res)\n"
      ]
    },
    {
      "cell_type": "code",
      "execution_count": null,
      "metadata": {
        "colab": {
          "base_uri": "https://localhost:8080/"
        },
        "id": "PD14MsfG5bmK",
        "outputId": "0cd52b6f-819b-4b38-d612-e4263c356a50"
      },
      "outputs": [
        {
          "name": "stdout",
          "output_type": "stream",
          "text": [
            "[62, 85, 74]\n"
          ]
        }
      ],
      "source": [
        "# Qestion 4\n",
        "# first 3 match runs\n",
        "runs = [62, 85, 74, 10, 12, 101, 122, 99, 81, 55]\n",
        "res=[]\n",
        "for i in range(0,3):\n",
        "    res.append(runs[i])\n",
        "print(res)"
      ]
    },
    {
      "cell_type": "code",
      "execution_count": null,
      "metadata": {
        "colab": {
          "base_uri": "https://localhost:8080/"
        },
        "id": "HIZ_f3UC6uNs",
        "outputId": "61d8f129-93ff-4053-a7ac-530b694caa38"
      },
      "outputs": [
        {
          "name": "stdout",
          "output_type": "stream",
          "text": [
            "[74, 10, 12, 101, 122]\n"
          ]
        }
      ],
      "source": [
        "# Qestion 5\n",
        "# From 2nd to 7th match runs\n",
        "runs = [62, 85, 74, 10, 12, 101, 122, 99, 81, 55]\n",
        "res=[]\n",
        "for i in range(2,7):\n",
        "    res.append(runs[i])\n",
        "print(res)"
      ]
    },
    {
      "cell_type": "code",
      "execution_count": null,
      "metadata": {
        "id": "wBpIb53_6uHc"
      },
      "outputs": [],
      "source": [
        "#### List slicing >>>> Output is ALWAYS a PYTHON LIST"
      ]
    },
    {
      "cell_type": "code",
      "execution_count": null,
      "metadata": {
        "colab": {
          "base_uri": "https://localhost:8080/"
        },
        "id": "eRLZDYtI9eZT",
        "outputId": "1334fc61-c8fc-4480-f705-93e53aa11f51"
      },
      "outputs": [
        {
          "name": "stdout",
          "output_type": "stream",
          "text": [
            "cap\n"
          ]
        }
      ],
      "source": [
        "####            0         1       2      3        4\n",
        "avengers = [\"iron man\", \"thor\", \"cap\", \"hulk\", \"groot\"]\n",
        "print(avengers[2])"
      ]
    },
    {
      "cell_type": "code",
      "execution_count": null,
      "metadata": {
        "colab": {
          "base_uri": "https://localhost:8080/"
        },
        "id": "dKuWKnP99ojn",
        "outputId": "b18ed8e8-e37b-44b6-af3f-afa136703a73"
      },
      "outputs": [
        {
          "name": "stdout",
          "output_type": "stream",
          "text": [
            "['thor', 'cap', 'hulk']\n",
            "['iron man', 'thor']\n"
          ]
        }
      ],
      "source": [
        "####            0         1       2      3        4\n",
        "avengers = [\"iron man\", \"thor\", \"cap\", \"hulk\", \"groot\"]\n",
        "#   list[start:end] >>> slice the list>> [start, start+1, start+2,.....end-1]\n",
        "#end is not included\n",
        "print(avengers[1:4])\n",
        "print(avengers[0:2])"
      ]
    },
    {
      "cell_type": "code",
      "execution_count": null,
      "metadata": {
        "colab": {
          "base_uri": "https://localhost:8080/"
        },
        "id": "aj8PeA7n-RfL",
        "outputId": "bfa27dac-8930-4af1-c257-972cf1c8f3aa"
      },
      "outputs": [
        {
          "name": "stdout",
          "output_type": "stream",
          "text": [
            "['thor', 'cap', 'hulk']\n",
            "['thor', 'hulk']\n",
            "['iron man', 'cap']\n"
          ]
        }
      ],
      "source": [
        "# python list slicing default step is 1\n",
        "####            0         1       2      3        4\n",
        "avengers = [\"iron man\", \"thor\", \"cap\", \"hulk\", \"groot\"]\n",
        "# list[start:end:step] >> slice the list>>[start, start+step,.....till end]\n",
        "#>> end is still not included, stop before end\n",
        "print(avengers[1:4:1]) # start=1, end=4, step=1>>>1,2,3\n",
        "print(avengers[1:4:2]) # start=1, end=4, step=2>>>1,3\n",
        "print(avengers[0:3:2])\n",
        "\n"
      ]
    },
    {
      "cell_type": "code",
      "execution_count": null,
      "metadata": {
        "colab": {
          "base_uri": "https://localhost:8080/"
        },
        "id": "ltGJQNA4-y-D",
        "outputId": "12ef6a47-315a-4100-8045-ad3232f183bf"
      },
      "outputs": [
        {
          "name": "stdout",
          "output_type": "stream",
          "text": [
            "['thor', 'cap', 'hulk']\n"
          ]
        }
      ],
      "source": [
        "####            0         1       2      3        4\n",
        "avengers = [\"iron man\", \"thor\", \"cap\", \"hulk\", \"groot\"]\n",
        "####           -5         -4      -3     -2       -1\n",
        "# -Ve Index\n",
        "print(avengers[-4:-1]) #end not include"
      ]
    },
    {
      "cell_type": "code",
      "execution_count": null,
      "metadata": {
        "colab": {
          "base_uri": "https://localhost:8080/"
        },
        "id": "3SVWJoPSA_mB",
        "outputId": "aa7c5304-877e-4ce1-89b2-aac81fb5cb97"
      },
      "outputs": [
        {
          "name": "stdout",
          "output_type": "stream",
          "text": [
            "['thor', 'cap', 'hulk']\n",
            "['thor', 'cap', 'hulk']\n",
            "['thor', 'hulk']\n",
            "['thor', 'hulk']\n",
            "['iron man', 'cap']\n",
            "['iron man', 'cap']\n"
          ]
        }
      ],
      "source": [
        "##### -VE INDEXING  #####\n",
        "\n",
        "# python list slicing default step is 1\n",
        "####            0         1       2      3        4\n",
        "avengers = [\"iron man\", \"thor\", \"cap\", \"hulk\", \"groot\"]\n",
        "####           -5         -4      -3     -2       -1\n",
        "\n",
        "# list[start:end:step] >> slice the list>>[start, start+step,.....till end]\n",
        "#>> end is still not included, stop before end\n",
        "print(avengers[1:4:1]) # start=1, end=4, step=1>>>1,2,3\n",
        "print(avengers[-4:-1:1])\n",
        "print(avengers[1:4:2]) # start=1, end=4, step=2>>>1,3\n",
        "print(avengers[-4:-1:2])\n",
        "print(avengers[0:3:2])\n",
        "print(avengers[-5:-2:2])"
      ]
    },
    {
      "cell_type": "code",
      "execution_count": null,
      "metadata": {
        "colab": {
          "base_uri": "https://localhost:8080/"
        },
        "id": "TYNcfGQEBWE-",
        "outputId": "f1d05af1-6b69-4bdc-c195-a40f63112ae9"
      },
      "outputs": [
        {
          "name": "stdout",
          "output_type": "stream",
          "text": [
            "['cap', 'hulk', 'groot']\n",
            "['iron man', 'cap']\n",
            "['iron man', 'thor', 'cap', 'hulk', 'groot']\n",
            "['groot', 'cap', 'iron man']\n",
            "['groot', 'hulk', 'cap', 'thor', 'iron man']\n"
          ]
        }
      ],
      "source": [
        "# start, end, step are optional\n",
        "# default step is 1\n",
        "\n",
        "####            0         1       2      3        4\n",
        "avengers = [\"iron man\", \"thor\", \"cap\", \"hulk\", \"groot\"]\n",
        "####           -5         -4      -3     -2       -1\n",
        "\n",
        "# step is +VE : default start is left side, default end is right side\n",
        "# step is -VE : default start is right side, default end is left side\n",
        "\n",
        "print(avengers[2:]) # end not mentioned / step is 1(default)\n",
        "print(avengers[:4:2]) # start not mentioned, default start is left side\n",
        "print(avengers[:]) # step is 1(default), 1 is +ve, : default start is left side, default end is right side\n",
        "\n",
        "print(avengers[4::-2]) # step is -2, -2 is -VE, default end is left side\n",
        "\n",
        "# Reversed list\n",
        "print(avengers[::-1]) #step is -1, -ve step : start is right side, default end is left side"
      ]
    },
    {
      "cell_type": "code",
      "execution_count": null,
      "metadata": {
        "colab": {
          "base_uri": "https://localhost:8080/"
        },
        "id": "mKZNDSCXCrct",
        "outputId": "9beaa559-fad1-4149-f738-fef38759cd94"
      },
      "outputs": [
        {
          "name": "stdout",
          "output_type": "stream",
          "text": [
            "['I lo', 'e python']\n"
          ]
        }
      ],
      "source": [
        "# slpit\n",
        "# split works on a string\n",
        "# It'll breaks the string and returns a list of string\n",
        "\n",
        "print(\"I love python\".split(\"v\"))"
      ]
    },
    {
      "cell_type": "code",
      "execution_count": null,
      "metadata": {
        "colab": {
          "base_uri": "https://localhost:8080/"
        },
        "id": "mpHQXlMGHm-6",
        "outputId": "65055083-ef0a-4c18-875f-1c06fb505b1d"
      },
      "outputs": [
        {
          "name": "stdout",
          "output_type": "stream",
          "text": [
            "['I', 'love', 'python']\n",
            "['I', '', 'love', '', 'python']\n"
          ]
        }
      ],
      "source": [
        "#If you doesn't give a position to split it'll consider automaticlly \"space\"\n",
        "\n",
        "print(\"I love python\".split())\n",
        "\n",
        "print(\"I  love  python\".split(' ')) # Multiple spaces are there"
      ]
    },
    {
      "cell_type": "markdown",
      "metadata": {
        "id": "Gg7MBiPSHpCY"
      },
      "source": [
        "# Assignments"
      ]
    },
    {
      "cell_type": "code",
      "execution_count": null,
      "metadata": {
        "colab": {
          "base_uri": "https://localhost:8080/"
        },
        "id": "JJj9Kcm9IJtU",
        "outputId": "8f8650cc-e932-41c8-91e3-00afc254afc4"
      },
      "outputs": [
        {
          "name": "stdout",
          "output_type": "stream",
          "text": [
            "['D', 'a', 't', 'a', ' ', 'S', 'c', 'i', 'e', 'n', 'c', 'e']\n"
          ]
        }
      ],
      "source": [
        "word = \"Scaler Data Science Course\"\n",
        "word_list = list(word)\n",
        "print(word_list[7:19])"
      ]
    },
    {
      "cell_type": "code",
      "execution_count": null,
      "metadata": {
        "id": "PqRTvOzHHso4"
      },
      "outputs": [],
      "source": [
        "class Solution:\n",
        "    def FrequencyOfDigit(A, B):\n",
        "        A_str = str(A)\n",
        "        return A_str.count(str(B))"
      ]
    },
    {
      "cell_type": "code",
      "execution_count": null,
      "metadata": {
        "colab": {
          "base_uri": "https://localhost:8080/"
        },
        "id": "gIuLmV1hJzXj",
        "outputId": "55e5bc7f-62d8-42d7-f6d1-227999ef1ac7"
      },
      "outputs": [
        {
          "data": {
            "text/plain": [
              "3"
            ]
          },
          "execution_count": 17,
          "metadata": {},
          "output_type": "execute_result"
        }
      ],
      "source": [
        "Solution.FrequencyOfDigit(8985983541,8)"
      ]
    },
    {
      "cell_type": "markdown",
      "metadata": {
        "id": "M9eDfuJeU-Og"
      },
      "source": [
        "### **Problem Solving 3 (03-08-2023)**"
      ]
    },
    {
      "cell_type": "markdown",
      "metadata": {
        "id": "TSkF1U-S5EsG"
      },
      "source": [
        "Ceil and Floor\n",
        "Problem Description\n",
        "\n",
        "You are given a sorted array of A and an integer B.Return an array of size 2, where the first element is the ceil of B and the second element is the floor of **B.\n",
        "\n",
        "**Ceil is the largest number greater than or equal to B and is present in the array A.\\\n",
        "Floor is the largest number smaller than or equal to B and is present in the array A.\n",
        "\n",
        "Problem Constraints\n",
        "\n",
        "1 <= |A| <= 105\n",
        "-109 <= A[i] <= 109\n",
        "-109 <= B <= 109\n",
        "\n",
        "Input Format\n",
        "\n",
        "The input contains two lines.\n",
        "The first line contains space separated integers. The first value in this line is the number of elements N in the array after which N integers denoting elements of the array follow.\n",
        "The second line contains a single integer.\n",
        "\n",
        "Output Format\n",
        "\n",
        "An integer array C of size 2.\n",
        "\n",
        "Example Input\n",
        "\n",
        "Input 1:\n",
        "\n",
        "-2 4 4 8 9\n",
        "0\n",
        "\n",
        "Input 2:\n",
        "\n",
        "1 3 9 21\n",
        "9\n",
        "Example Output\n",
        "\n",
        "Output 1:\n",
        "\n",
        "4 -2\n",
        "\n",
        "Output 2:\n",
        "\n",
        "9 9\n"
      ]
    },
    {
      "cell_type": "code",
      "execution_count": null,
      "metadata": {
        "colab": {
          "base_uri": "https://localhost:8080/"
        },
        "id": "P5HtDnuNVImQ",
        "outputId": "ffe44f23-baef-452c-e5c7-9e8f884eb847"
      },
      "outputs": [
        {
          "name": "stdout",
          "output_type": "stream",
          "text": [
            "[-2, 4]\n"
          ]
        }
      ],
      "source": [
        "def ceilAndFloor(A, B):\n",
        "    for i in A[::-1]:\n",
        "        if i<=B:\n",
        "            floor=i\n",
        "            break\n",
        "    for i in A:\n",
        "        if i>=B:\n",
        "            ceil=i\n",
        "            break\n",
        "    return [floor, ceil]\n",
        "print(ceilAndFloor(A=[-2,4,4,8,9],B=0))"
      ]
    },
    {
      "cell_type": "code",
      "execution_count": null,
      "metadata": {
        "colab": {
          "base_uri": "https://localhost:8080/"
        },
        "id": "d7fs8w06-yzU",
        "outputId": "fd0b36b9-976e-46be-d667-d2e508021bb4"
      },
      "outputs": [
        {
          "name": "stdout",
          "output_type": "stream",
          "text": [
            "[4, 3, 2, 1]\n"
          ]
        }
      ],
      "source": [
        "a = [1,2,3,4]\n",
        "print(a[::-1])"
      ]
    },
    {
      "cell_type": "code",
      "execution_count": null,
      "metadata": {
        "colab": {
          "base_uri": "https://localhost:8080/"
        },
        "id": "3MOwNBkk-ysp",
        "outputId": "3ecc115d-d78f-495e-f800-cafd321e3437"
      },
      "outputs": [
        {
          "name": "stdout",
          "output_type": "stream",
          "text": [
            "5.0\n"
          ]
        }
      ],
      "source": [
        "import math\n",
        "print(math.log(100000,10))"
      ]
    },
    {
      "cell_type": "code",
      "execution_count": null,
      "metadata": {
        "colab": {
          "base_uri": "https://localhost:8080/"
        },
        "id": "Et2Jixna-yoI",
        "outputId": "9ecade45-5e73-4d07-ed6a-330a438fa49a"
      },
      "outputs": [
        {
          "name": "stdout",
          "output_type": "stream",
          "text": [
            "1 2 3 4 5\n",
            "5 4 3 2 1 "
          ]
        }
      ],
      "source": [
        "def naturals(n):\n",
        "    for i in range(1,n+1):\n",
        "        if i!=n:\n",
        "            print(i, end=\" \")\n",
        "        else:\n",
        "            print(i)\n",
        "    for i in range(n,0,-1):\n",
        "        if i!=1:\n",
        "            print(i, end=\" \")\n",
        "        else:\n",
        "            print(i, end=\" \")\n",
        "\n",
        "naturals(5)\n"
      ]
    },
    {
      "cell_type": "code",
      "execution_count": null,
      "metadata": {
        "colab": {
          "base_uri": "https://localhost:8080/"
        },
        "id": "aCE5wKWa-ymD",
        "outputId": "fe764a50-71e1-4258-b3db-09da4d7d8f32"
      },
      "outputs": [
        {
          "name": "stdout",
          "output_type": "stream",
          "text": [
            "1 😀 3 😀 5 😀 7 😀 9\n",
            "9 8 7 6 5 4 3 2 1"
          ]
        }
      ],
      "source": [
        "def naturals(n):\n",
        "    for i in range(1,n+1):\n",
        "        if i%2==0:\n",
        "            i=\"😀\"\n",
        "        if i!=n:\n",
        "            print(i, end=\" \")\n",
        "        else:\n",
        "            print(i)\n",
        "    for i in range(n,0,-1):\n",
        "        if i!=1:\n",
        "            print(i, end=\" \")\n",
        "        else:\n",
        "            print(i, end=\"\")\n",
        "\n",
        "naturals(9)"
      ]
    },
    {
      "cell_type": "code",
      "execution_count": null,
      "metadata": {
        "colab": {
          "base_uri": "https://localhost:8080/"
        },
        "id": "PFJ1VnNv-yhA",
        "outputId": "5c9a7727-d9ee-44c3-b32f-4902cf7cfb6f"
      },
      "outputs": [
        {
          "data": {
            "text/plain": [
              "[13, 15, 19, 7, 9, 51]"
            ]
          },
          "execution_count": 24,
          "metadata": {},
          "output_type": "execute_result"
        }
      ],
      "source": [
        " def not_even(list):\n",
        "    res=[]\n",
        "    for ele in list:\n",
        "        if(ele %2 !=0):\n",
        "            res.append(ele)\n",
        "    return res\n",
        "elements = [24,32,13,15,19,44,52,7,9,2,51]\n",
        "not_even(elements)"
      ]
    },
    {
      "cell_type": "markdown",
      "metadata": {
        "id": "0RPND9wjLKij"
      },
      "source": [
        "## **Operations in python list**"
      ]
    },
    {
      "cell_type": "code",
      "execution_count": null,
      "metadata": {
        "colab": {
          "base_uri": "https://localhost:8080/"
        },
        "id": "V2kgM8LGKzth",
        "outputId": "ad85202a-1dcd-4a4f-aca8-8951ddbefb6b"
      },
      "outputs": [
        {
          "name": "stdout",
          "output_type": "stream",
          "text": [
            "count of 5 was 4\n"
          ]
        }
      ],
      "source": [
        " #1: find the count of 5 in coins list\n",
        "coins = [1,2,5,2,5,10,5,20,5,75]\n",
        " count=0\n",
        " for i in coins:\n",
        "    if i==5:\n",
        "        count+=1\n",
        "print(f\"count of 5 was {count}\")"
      ]
    },
    {
      "cell_type": "code",
      "execution_count": null,
      "metadata": {
        "colab": {
          "base_uri": "https://localhost:8080/"
        },
        "id": "sgbnRSuOKzrf",
        "outputId": "83bf8a9a-0511-4c51-a97e-2ee6afd5912e"
      },
      "outputs": [
        {
          "name": "stdout",
          "output_type": "stream",
          "text": [
            "4\n",
            "2\n"
          ]
        }
      ],
      "source": [
        "coins = [1,2,5,2,5,10,5,20,5,75]\n",
        "print(coins.count(5))\n",
        "print(coins.count(2))"
      ]
    },
    {
      "cell_type": "code",
      "execution_count": null,
      "metadata": {
        "colab": {
          "base_uri": "https://localhost:8080/"
        },
        "id": "2nZqn1waKzau",
        "outputId": "f893bbde-5e9b-4dbc-d006-5ee11936636c"
      },
      "outputs": [
        {
          "name": "stdout",
          "output_type": "stream",
          "text": [
            "[1, 2, 2, 10, 20, 75]\n"
          ]
        }
      ],
      "source": [
        "coins = [1,2,5,2,5,10,5,20,5,75]\n",
        "\n",
        "#2: remove all the 5 coins from the coins list without creating a new list\n",
        "\n",
        "for i in range(coins.count(5)):\n",
        "    coins.remove(5)\n",
        "print(coins)"
      ]
    },
    {
      "cell_type": "code",
      "execution_count": null,
      "metadata": {
        "colab": {
          "base_uri": "https://localhost:8080/"
        },
        "id": "jllmd6sdKzY6",
        "outputId": "e53878bf-836e-477c-b82f-93cecfcb5371"
      },
      "outputs": [
        {
          "name": "stdout",
          "output_type": "stream",
          "text": [
            "[1, 2, 2, 10, 20, 75]\n"
          ]
        }
      ],
      "source": [
        "coins = [1,2,5,2,5,10,5,20,5,75]\n",
        "\n",
        "while 5 in coins:\n",
        "    coins.remove(5)\n",
        "print(coins)"
      ]
    },
    {
      "cell_type": "code",
      "execution_count": null,
      "metadata": {
        "colab": {
          "base_uri": "https://localhost:8080/"
        },
        "id": "IydSatP4-yfR",
        "outputId": "eb85af9a-3bff-4555-f07e-b1b107fa505c"
      },
      "outputs": [
        {
          "name": "stdout",
          "output_type": "stream",
          "text": [
            "found 5 at 2\n"
          ]
        }
      ],
      "source": [
        "coins = [1,2,5,2,5,10,5,20,5,75]\n",
        "#3: find the index for the first occurence of 5\n",
        "my_index=0\n",
        "for i in coins:\n",
        "    if i==5:\n",
        "        print(\"found 5 at\", my_index)\n",
        "        break\n",
        "    my_index+=1"
      ]
    },
    {
      "cell_type": "code",
      "execution_count": null,
      "metadata": {
        "colab": {
          "base_uri": "https://localhost:8080/"
        },
        "id": "6cjW4x9v-yZ3",
        "outputId": "f7b8961a-2c94-4411-987e-3e88473f5307"
      },
      "outputs": [
        {
          "name": "stdout",
          "output_type": "stream",
          "text": [
            "found 5 at 2\n",
            "found 5 at 4\n",
            "found 5 at 6\n",
            "found 5 at 8\n"
          ]
        }
      ],
      "source": [
        "coins = [1,2,5,2,5,10,5,20,5,75]\n",
        "#3: find the all index occurence of 5(# Break)\n",
        "my_index=0\n",
        "for i in coins:\n",
        "    if i==5:\n",
        "        print(\"found 5 at\", my_index)\n",
        "        #break\n",
        "    my_index+=1"
      ]
    },
    {
      "cell_type": "markdown",
      "metadata": {
        "id": "EALA-b8d2_mS"
      },
      "source": [
        "Which of the following options(s) are correct about lists\n",
        "\n",
        "a = [1,2,3,4]\n",
        "b = a\n",
        "b.append(5)\n",
        "A. 5 is also get append to list a\n",
        "B. a and b point to different memory location but have same values\n",
        "C. python garbage collector automatically deleted the list a as it get assigned to b\n",
        "D. a and b point to same memory location."
      ]
    },
    {
      "cell_type": "code",
      "execution_count": null,
      "metadata": {
        "colab": {
          "base_uri": "https://localhost:8080/"
        },
        "id": "tgD62RKL3E0v",
        "outputId": "d805a9b2-e5e6-4259-c24a-9e1e4d57d7c4"
      },
      "outputs": [
        {
          "name": "stdout",
          "output_type": "stream",
          "text": [
            "[100, -100, 3, 4, 5] [100, -100, 3, 4, 5]\n"
          ]
        }
      ],
      "source": [
        "a=[1,2,3,4]\n",
        "b=a\n",
        "b.append(5)\n",
        "a[0]=100\n",
        "b[1]=-100\n",
        "print(a,b)\n",
        "\n",
        "# A. 5 is also get append to list a\n",
        "# D. a and b point to same memory location."
      ]
    },
    {
      "cell_type": "code",
      "execution_count": null,
      "metadata": {
        "colab": {
          "base_uri": "https://localhost:8080/"
        },
        "id": "saw738LF3Exg",
        "outputId": "980d7a2c-01d7-4ef5-b819-31802f51974c"
      },
      "outputs": [
        {
          "name": "stdout",
          "output_type": "stream",
          "text": [
            "[100, 2, 3, 4] [1, -100, 3, 4, 5]\n"
          ]
        }
      ],
      "source": [
        "a=[1,2,3,4]\n",
        "b=a[:]\n",
        "b.append(5)\n",
        "a[0]=100\n",
        "b[1]=-100\n",
        "print(a,b)"
      ]
    },
    {
      "cell_type": "code",
      "execution_count": null,
      "metadata": {
        "colab": {
          "base_uri": "https://localhost:8080/"
        },
        "id": "r8hJqeEw3Eub",
        "outputId": "9b0c56eb-491d-454d-9e0e-6deb84eeeb9d"
      },
      "outputs": [
        {
          "name": "stdout",
          "output_type": "stream",
          "text": [
            "15 10\n"
          ]
        }
      ],
      "source": [
        "a=10\n",
        "b=a\n",
        "a+=5\n",
        "print(a,b)"
      ]
    },
    {
      "cell_type": "code",
      "execution_count": null,
      "metadata": {
        "colab": {
          "base_uri": "https://localhost:8080/"
        },
        "id": "-5z8gwZs3ErR",
        "outputId": "88a059ac-8d34-4b35-f890-9cf3b6f53e63"
      },
      "outputs": [
        {
          "name": "stdout",
          "output_type": "stream",
          "text": [
            "['Jadeja', 'kohli', 'Rohit']\n"
          ]
        }
      ],
      "source": [
        "players =[\"Jadeja\",\"Rahul\",\"Rohit\"]\n",
        "players[1]=\"kohli\"\n",
        "print(players)"
      ]
    },
    {
      "cell_type": "code",
      "execution_count": null,
      "metadata": {
        "colab": {
          "base_uri": "https://localhost:8080/"
        },
        "id": "v3Ktd8u43En3",
        "outputId": "d976b7a3-05f8-439d-de08-85d280f59f76"
      },
      "outputs": [
        {
          "name": "stdout",
          "output_type": "stream",
          "text": [
            "['Jadeja', ['Kohli', 'Dhoni'], 'Rohit']\n"
          ]
        }
      ],
      "source": [
        "players =[\"Jadeja\",\"Rahul\",\"Rohit\"]\n",
        "players[1] = [\"Kohli\", \"Dhoni\"]\n",
        "print(players)"
      ]
    },
    {
      "cell_type": "code",
      "execution_count": null,
      "metadata": {
        "colab": {
          "base_uri": "https://localhost:8080/"
        },
        "id": "SahtXumG3Eku",
        "outputId": "a6d2aca0-9361-43b3-fa6b-38b57d9caea5"
      },
      "outputs": [
        {
          "name": "stdout",
          "output_type": "stream",
          "text": [
            "[0, 1, 2, 3, 4, 5, 6, 7, 8, 9]\n",
            "[0, 2, 3, 4, 5, 6, 7, 8, 9]\n"
          ]
        }
      ],
      "source": [
        "# del\n",
        "nums= [0,1,2,3,4,5,6,7,8,9]\n",
        "print(nums)\n",
        "del nums[1]\n",
        "print(nums)"
      ]
    },
    {
      "cell_type": "code",
      "execution_count": null,
      "metadata": {
        "colab": {
          "base_uri": "https://localhost:8080/"
        },
        "id": "3Ip5Xdji-yYP",
        "outputId": "0faec321-3a42-4385-dba4-63731e25c319"
      },
      "outputs": [
        {
          "name": "stdout",
          "output_type": "stream",
          "text": [
            "[0, 1, 2, 3, 4, 5, 6, 7, 8, 9]\n",
            "nums slice: [0, 2, 4, 6, 8]\n",
            "[1, 3, 5, 7, 9]\n"
          ]
        }
      ],
      "source": [
        "#del\n",
        "nums= [0,1,2,3,4,5,6,7,8,9]\n",
        "print(nums)\n",
        "print(\"nums slice:\", nums[::2])\n",
        "\n",
        "del nums[::2]\n",
        "print(nums)"
      ]
    },
    {
      "cell_type": "code",
      "execution_count": null,
      "metadata": {
        "colab": {
          "base_uri": "https://localhost:8080/"
        },
        "id": "laB8G9iA5_Ux",
        "outputId": "4456923c-04d7-42b0-a9d5-b3e4036205e2"
      },
      "outputs": [
        {
          "name": "stdout",
          "output_type": "stream",
          "text": [
            "inside function 1234\n"
          ]
        }
      ],
      "source": [
        "def main():\n",
        "    def func(nums):\n",
        "        print(\"inside function\", nums)\n",
        "    func(1234)\n",
        "main()"
      ]
    },
    {
      "cell_type": "code",
      "execution_count": null,
      "metadata": {
        "colab": {
          "base_uri": "https://localhost:8080/"
        },
        "id": "UZzbxXjl5_SI",
        "outputId": "e7ee5fcb-b2f8-47ad-dd95-6aaeccac9424"
      },
      "outputs": [
        {
          "name": "stdout",
          "output_type": "stream",
          "text": [
            "[1, 2, 3, 4, 5, 8, 9]\n"
          ]
        }
      ],
      "source": [
        "# pop index 2, 5 Times\n",
        "a = [1,2,3,4,5,6,7,8,9]\n",
        "for i in range(2):\n",
        "    a.pop(5)\n",
        "print(a)"
      ]
    },
    {
      "cell_type": "markdown",
      "metadata": {
        "id": "lP85_yePVQrn"
      },
      "source": [
        "# Day : 43 **List - 2D** (05-08-2023)"
      ]
    },
    {
      "cell_type": "code",
      "execution_count": null,
      "metadata": {
        "colab": {
          "base_uri": "https://localhost:8080/"
        },
        "id": "ECz-rJSRZLgc",
        "outputId": "2d9fe72a-0c07-407c-a86b-61210bade3fc"
      },
      "outputs": [
        {
          "name": "stdout",
          "output_type": "stream",
          "text": [
            "Find ME!!\n",
            "Find ME!!\n",
            "6\n"
          ]
        }
      ],
      "source": [
        "my_list = [1,2,3,[4,5,[\"hello\",[True, \"Find ME!!\"]],6]]\n",
        "print(my_list[3][2][1][1])\n",
        "print(my_list[-1][-2][-1][-1])\n"
      ]
    },
    {
      "cell_type": "code",
      "execution_count": null,
      "metadata": {
        "colab": {
          "base_uri": "https://localhost:8080/"
        },
        "id": "PHFm2Xbqiq9U",
        "outputId": "e0dfe427-5de0-4f03-a972-21b7eb6b7e45"
      },
      "outputs": [
        {
          "name": "stdout",
          "output_type": "stream",
          "text": [
            "66\n"
          ]
        }
      ],
      "source": [
        "matrix = [\n",
        "[1, 2, 3],\n",
        "[4, 5, 6],\n",
        "[7, 8, 9],\n",
        "[0,10,11]\n",
        "]\n",
        "\n",
        "#Sum of all elements in the matrix\n",
        "\n",
        "total = 0\n",
        "\n",
        "for row in matrix:\n",
        "    for elements in row:\n",
        "        #print(elements)\n",
        "        total+=elements\n",
        "print(total)\n"
      ]
    },
    {
      "cell_type": "code",
      "execution_count": null,
      "metadata": {
        "colab": {
          "base_uri": "https://localhost:8080/"
        },
        "id": "vUArva1BrrNZ",
        "outputId": "6f8a2ba4-7bdb-44e0-b328-62f8f5ee5247"
      },
      "outputs": [
        {
          "name": "stdout",
          "output_type": "stream",
          "text": [
            "[6, 15, 24, 21]\n"
          ]
        }
      ],
      "source": [
        "matrix = [\n",
        "[1, 2, 3],\n",
        "[4, 5, 6],\n",
        "[7, 8, 9],\n",
        "[0,10,11]\n",
        "]\n",
        "\n",
        "# what is the sum of all ements in row wise?\n",
        "#>>>[6,15,24,21]\n",
        "\n",
        "ans=[]\n",
        "\n",
        "for row in matrix:\n",
        "    total=0\n",
        "    for elements in row:\n",
        "        #print(elements)\n",
        "            total+=elements\n",
        "    ans.append(total)\n",
        "print(ans)\n"
      ]
    },
    {
      "cell_type": "code",
      "execution_count": null,
      "metadata": {
        "colab": {
          "base_uri": "https://localhost:8080/"
        },
        "id": "7N3LdIcksYcy",
        "outputId": "604c2858-1de9-4695-af45-95c2e4007a8c"
      },
      "outputs": [
        {
          "name": "stdout",
          "output_type": "stream",
          "text": [
            "[12, 25, 29]\n"
          ]
        }
      ],
      "source": [
        "from prompt_toolkit.styles import named_colors\n",
        "matrix = [\n",
        "[1, 2, 3],\n",
        "[4, 5, 6],\n",
        "[7, 8, 9],\n",
        "[0,10,11]\n",
        "]\n",
        "\n",
        "# what is the sum of all ements in column wise?\n",
        "#>>>[12,25,29]\n",
        "\n",
        "nRows=len(matrix)\n",
        "nCols=len(matrix[0])\n",
        "ans=[]\n",
        "for i in range(nCols):\n",
        "    ans.append(0)\n",
        "for rowIndex in range(nRows):\n",
        "    for colIndex in range(nCols):\n",
        "        elements=matrix[rowIndex][colIndex]\n",
        "        ans[colIndex]+=elements\n",
        "print(ans)"
      ]
    },
    {
      "cell_type": "code",
      "execution_count": null,
      "metadata": {
        "id": "IyA4ivuet_Bx"
      },
      "outputs": [],
      "source": [
        "matrix = [\n",
        "[1, 2, 3],\n",
        "[4, 5, 6],\n",
        "[7, 8, 9]\n",
        "]\n",
        "\n",
        "#what is the sum of the diaginal>> 1+5+9 = 15\n",
        "\n"
      ]
    },
    {
      "cell_type": "markdown",
      "metadata": {
        "id": "laEx0zOtv36K"
      },
      "source": [
        "### ***Day 44 : Strings 1 (08-08-2023) ***"
      ]
    },
    {
      "cell_type": "code",
      "execution_count": null,
      "metadata": {
        "id": "6equWtvVwDo-"
      },
      "outputs": [],
      "source": [
        "## Data Types >> immutable / non-editable\n",
        "#str\n",
        "#int\n",
        "#float\n",
        "#bool\n",
        "#none"
      ]
    },
    {
      "cell_type": "code",
      "source": [
        "a = 4\n",
        "print(a, type(a))\n",
        "a = a-1\n",
        "print(a,type(a))"
      ],
      "metadata": {
        "colab": {
          "base_uri": "https://localhost:8080/"
        },
        "id": "R47Emy7l13iP",
        "outputId": "9a3b835e-3e18-4125-b19f-267b09bd6ee9"
      },
      "execution_count": null,
      "outputs": [
        {
          "output_type": "stream",
          "name": "stdout",
          "text": [
            "4 <class 'int'>\n",
            "3 <class 'int'>\n"
          ]
        }
      ]
    },
    {
      "cell_type": "code",
      "source": [
        "a=[4,4]\n",
        "print(a, type(a))\n",
        "a.append(10)\n",
        "print(a, type(a))"
      ],
      "metadata": {
        "colab": {
          "base_uri": "https://localhost:8080/"
        },
        "id": "2GuQDfxW13fQ",
        "outputId": "034f8972-51c7-45ec-9fcd-2999ed1a891a"
      },
      "execution_count": null,
      "outputs": [
        {
          "output_type": "stream",
          "name": "stdout",
          "text": [
            "[4, 4] <class 'list'>\n",
            "[4, 4, 10] <class 'list'>\n"
          ]
        }
      ]
    },
    {
      "cell_type": "code",
      "source": [
        "print(\"This is string\")\n",
        "print(\"This is also a str\")\n",
        "print(\"\"\"still\n",
        "just a str\"\"\")\n",
        "print(\"\"\"This is definetly\n",
        "the last one\"\"\")"
      ],
      "metadata": {
        "colab": {
          "base_uri": "https://localhost:8080/"
        },
        "id": "zzN80xhF13b9",
        "outputId": "7d3692c8-d98a-4bdd-f1b8-8f0ed77afe6e"
      },
      "execution_count": null,
      "outputs": [
        {
          "output_type": "stream",
          "name": "stdout",
          "text": [
            "This is string\n",
            "This is also a str\n",
            "still \n",
            "just a str\n",
            "This is definetly \n",
            "the last one\n"
          ]
        }
      ]
    },
    {
      "cell_type": "code",
      "source": [
        "print(\"is this \\n a str?\")\n",
        "print(\"creates a new line at \\n\")"
      ],
      "metadata": {
        "colab": {
          "base_uri": "https://localhost:8080/"
        },
        "id": "ur7a6pZ213Y4",
        "outputId": "497378f1-d59d-4222-f7a0-35d82407f3f1"
      },
      "execution_count": null,
      "outputs": [
        {
          "output_type": "stream",
          "name": "stdout",
          "text": [
            "is this \n",
            " a str?\n",
            "creates a new line at \n",
            "\n"
          ]
        }
      ]
    },
    {
      "cell_type": "code",
      "source": [
        "# American standard code for incofmation interachange>> ASCII"
      ],
      "metadata": {
        "id": "SSULJ8OR13Vi"
      },
      "execution_count": null,
      "outputs": []
    },
    {
      "cell_type": "code",
      "source": [
        "print(ord('H'))\n",
        "print(ord(\"e\"))\n",
        "print(ord(\"y\"))"
      ],
      "metadata": {
        "colab": {
          "base_uri": "https://localhost:8080/"
        },
        "id": "4l_QpFUU13SI",
        "outputId": "98ef11c4-04f0-4d2f-d142-77075230bde5"
      },
      "execution_count": null,
      "outputs": [
        {
          "output_type": "stream",
          "name": "stdout",
          "text": [
            "72\n",
            "101\n",
            "121\n"
          ]
        }
      ]
    },
    {
      "cell_type": "code",
      "source": [
        "print(ord('😀'))"
      ],
      "metadata": {
        "colab": {
          "base_uri": "https://localhost:8080/"
        },
        "id": "3bTEFHI813PF",
        "outputId": "dfaa77d9-4469-4467-e0a3-3576f9a7d949"
      },
      "execution_count": null,
      "outputs": [
        {
          "output_type": "stream",
          "name": "stdout",
          "text": [
            "128512\n"
          ]
        }
      ]
    },
    {
      "cell_type": "code",
      "source": [
        "print(chr(72))\n",
        "print(chr(101))\n",
        "print(chr(121))"
      ],
      "metadata": {
        "colab": {
          "base_uri": "https://localhost:8080/"
        },
        "id": "VzMoUp9o13L3",
        "outputId": "e00ccba5-e5b7-47eb-f154-e80144a88e7e"
      },
      "execution_count": null,
      "outputs": [
        {
          "output_type": "stream",
          "name": "stdout",
          "text": [
            "H\n",
            "e\n",
            "y\n"
          ]
        }
      ]
    },
    {
      "cell_type": "code",
      "source": [
        "my_str = \"Hey look at this meme\"\n",
        "for chr in my_str:\n",
        "    print(chr, ord(chr))"
      ],
      "metadata": {
        "colab": {
          "base_uri": "https://localhost:8080/"
        },
        "id": "mlWlWM7Y13Iw",
        "outputId": "dbdea519-200c-4379-9aff-467794d86336"
      },
      "execution_count": null,
      "outputs": [
        {
          "output_type": "stream",
          "name": "stdout",
          "text": [
            "H 72\n",
            "e 101\n",
            "y 121\n",
            "  32\n",
            "l 108\n",
            "o 111\n",
            "o 111\n",
            "k 107\n",
            "  32\n",
            "a 97\n",
            "t 116\n",
            "  32\n",
            "t 116\n",
            "h 104\n",
            "i 105\n",
            "s 115\n",
            "  32\n",
            "m 109\n",
            "e 101\n",
            "m 109\n",
            "e 101\n"
          ]
        }
      ]
    },
    {
      "cell_type": "code",
      "source": [
        "1>1"
      ],
      "metadata": {
        "colab": {
          "base_uri": "https://localhost:8080/"
        },
        "id": "3jQgRMr613Fn",
        "outputId": "db0595a8-05b3-4f97-c5f7-243aef8fe3c7"
      },
      "execution_count": null,
      "outputs": [
        {
          "output_type": "execute_result",
          "data": {
            "text/plain": [
              "False"
            ]
          },
          "metadata": {},
          "execution_count": 19
        }
      ]
    },
    {
      "cell_type": "code",
      "source": [
        "'a'>'a'"
      ],
      "metadata": {
        "colab": {
          "base_uri": "https://localhost:8080/"
        },
        "id": "gQ6fSXN413Cd",
        "outputId": "2be80278-4651-45d2-9f5e-ec1eb7319bad"
      },
      "execution_count": null,
      "outputs": [
        {
          "output_type": "execute_result",
          "data": {
            "text/plain": [
              "False"
            ]
          },
          "metadata": {},
          "execution_count": 20
        }
      ]
    },
    {
      "cell_type": "code",
      "source": [
        "\"a\">'A'"
      ],
      "metadata": {
        "colab": {
          "base_uri": "https://localhost:8080/"
        },
        "id": "VL70uqvi12_i",
        "outputId": "449cd88d-9afb-4430-9531-d9073ff2420e"
      },
      "execution_count": null,
      "outputs": [
        {
          "output_type": "execute_result",
          "data": {
            "text/plain": [
              "True"
            ]
          },
          "metadata": {},
          "execution_count": 21
        }
      ]
    },
    {
      "cell_type": "code",
      "source": [
        "print('a',ord('a'))\n",
        "print('A',ord('A'))\n"
      ],
      "metadata": {
        "colab": {
          "base_uri": "https://localhost:8080/"
        },
        "id": "GEo7y5tm129A",
        "outputId": "2db52b77-96d4-46e8-ca31-9f3ff609dc93"
      },
      "execution_count": null,
      "outputs": [
        {
          "output_type": "stream",
          "name": "stdout",
          "text": [
            "a 97\n",
            "A 65\n"
          ]
        }
      ]
    },
    {
      "cell_type": "code",
      "source": [
        "print('c',ord('c'))\n",
        "print('d',ord('d'))"
      ],
      "metadata": {
        "colab": {
          "base_uri": "https://localhost:8080/"
        },
        "id": "-eXgaGhb125a",
        "outputId": "cdc98fe2-708a-47e0-baa4-7ba22e0fcced"
      },
      "execution_count": null,
      "outputs": [
        {
          "output_type": "stream",
          "name": "stdout",
          "text": [
            "c 99\n",
            "d 100\n"
          ]
        }
      ]
    },
    {
      "cell_type": "code",
      "source": [
        "'abc'>'abd'"
      ],
      "metadata": {
        "colab": {
          "base_uri": "https://localhost:8080/"
        },
        "id": "j89eZMhQ121_",
        "outputId": "a3d3c58a-b3a8-471d-c0ed-e310cb0e5aa5"
      },
      "execution_count": null,
      "outputs": [
        {
          "output_type": "execute_result",
          "data": {
            "text/plain": [
              "False"
            ]
          },
          "metadata": {},
          "execution_count": 27
        }
      ]
    },
    {
      "cell_type": "code",
      "source": [
        "\"abc\">\"abcd\""
      ],
      "metadata": {
        "colab": {
          "base_uri": "https://localhost:8080/"
        },
        "id": "_HQPlATV12y6",
        "outputId": "72fba1b3-0807-426b-ac62-884562699867"
      },
      "execution_count": null,
      "outputs": [
        {
          "output_type": "execute_result",
          "data": {
            "text/plain": [
              "False"
            ]
          },
          "metadata": {},
          "execution_count": 29
        }
      ]
    },
    {
      "cell_type": "code",
      "source": [
        "\"abc\"<\"abcd\""
      ],
      "metadata": {
        "colab": {
          "base_uri": "https://localhost:8080/"
        },
        "id": "-n9cz-gU12vi",
        "outputId": "18ca1f41-3274-41de-d30a-5ab1d02c33f7"
      },
      "execution_count": null,
      "outputs": [
        {
          "output_type": "execute_result",
          "data": {
            "text/plain": [
              "True"
            ]
          },
          "metadata": {},
          "execution_count": 30
        }
      ]
    },
    {
      "cell_type": "code",
      "source": [
        "for i in range(10,200):\n",
        "    print(i, chr(i))"
      ],
      "metadata": {
        "colab": {
          "base_uri": "https://localhost:8080/",
          "height": 192
        },
        "id": "UaBeF4o812sW",
        "outputId": "ef89ec44-913d-4d4a-e07c-f04c7df68df0"
      },
      "execution_count": null,
      "outputs": [
        {
          "output_type": "error",
          "ename": "TypeError",
          "evalue": "ignored",
          "traceback": [
            "\u001b[0;31m---------------------------------------------------------------------------\u001b[0m",
            "\u001b[0;31mTypeError\u001b[0m                                 Traceback (most recent call last)",
            "\u001b[0;32m<ipython-input-35-e36abdaebb6a>\u001b[0m in \u001b[0;36m<cell line: 1>\u001b[0;34m()\u001b[0m\n\u001b[1;32m      1\u001b[0m \u001b[0;32mfor\u001b[0m \u001b[0mi\u001b[0m \u001b[0;32min\u001b[0m \u001b[0mrange\u001b[0m\u001b[0;34m(\u001b[0m\u001b[0;36m10\u001b[0m\u001b[0;34m,\u001b[0m\u001b[0;36m200\u001b[0m\u001b[0;34m)\u001b[0m\u001b[0;34m:\u001b[0m\u001b[0;34m\u001b[0m\u001b[0;34m\u001b[0m\u001b[0m\n\u001b[0;32m----> 2\u001b[0;31m     \u001b[0mprint\u001b[0m\u001b[0;34m(\u001b[0m\u001b[0mi\u001b[0m\u001b[0;34m,\u001b[0m \u001b[0mchr\u001b[0m\u001b[0;34m(\u001b[0m\u001b[0mi\u001b[0m\u001b[0;34m)\u001b[0m\u001b[0;34m)\u001b[0m\u001b[0;34m\u001b[0m\u001b[0;34m\u001b[0m\u001b[0m\n\u001b[0m",
            "\u001b[0;31mTypeError\u001b[0m: 'str' object is not callable"
          ]
        }
      ]
    },
    {
      "cell_type": "code",
      "source": [
        "# maths\n",
        "print(\"cristiano\"+\"Ronaldo\")"
      ],
      "metadata": {
        "colab": {
          "base_uri": "https://localhost:8080/"
        },
        "id": "FHitggXr12o_",
        "outputId": "4bb3cfa5-33aa-4575-868b-e1e7f483c43d"
      },
      "execution_count": null,
      "outputs": [
        {
          "output_type": "stream",
          "name": "stdout",
          "text": [
            "cristianoRonaldo\n"
          ]
        }
      ]
    },
    {
      "cell_type": "code",
      "source": [
        "print(\"cristiano\"-\"Ronaldo\")"
      ],
      "metadata": {
        "colab": {
          "base_uri": "https://localhost:8080/",
          "height": 175
        },
        "id": "6_F0R4Vr12lo",
        "outputId": "9e20df86-4264-43a6-a2af-42368738063a"
      },
      "execution_count": null,
      "outputs": [
        {
          "output_type": "error",
          "ename": "TypeError",
          "evalue": "ignored",
          "traceback": [
            "\u001b[0;31m---------------------------------------------------------------------------\u001b[0m",
            "\u001b[0;31mTypeError\u001b[0m                                 Traceback (most recent call last)",
            "\u001b[0;32m<ipython-input-39-67aebf214dc7>\u001b[0m in \u001b[0;36m<cell line: 1>\u001b[0;34m()\u001b[0m\n\u001b[0;32m----> 1\u001b[0;31m \u001b[0mprint\u001b[0m\u001b[0;34m(\u001b[0m\u001b[0;34m\"cristiano\"\u001b[0m\u001b[0;34m-\u001b[0m\u001b[0;34m\"Ronaldo\"\u001b[0m\u001b[0;34m)\u001b[0m\u001b[0;34m\u001b[0m\u001b[0;34m\u001b[0m\u001b[0m\n\u001b[0m",
            "\u001b[0;31mTypeError\u001b[0m: unsupported operand type(s) for -: 'str' and 'str'"
          ]
        }
      ]
    },
    {
      "cell_type": "code",
      "source": [
        "print(\"cristiano\"/\"Ronaldo\")"
      ],
      "metadata": {
        "colab": {
          "base_uri": "https://localhost:8080/",
          "height": 175
        },
        "id": "xsCQdkNe12ik",
        "outputId": "7c792936-6355-4c0e-db27-e8af4d0c52a7"
      },
      "execution_count": null,
      "outputs": [
        {
          "output_type": "error",
          "ename": "TypeError",
          "evalue": "ignored",
          "traceback": [
            "\u001b[0;31m---------------------------------------------------------------------------\u001b[0m",
            "\u001b[0;31mTypeError\u001b[0m                                 Traceback (most recent call last)",
            "\u001b[0;32m<ipython-input-40-35fccf129de4>\u001b[0m in \u001b[0;36m<cell line: 1>\u001b[0;34m()\u001b[0m\n\u001b[0;32m----> 1\u001b[0;31m \u001b[0mprint\u001b[0m\u001b[0;34m(\u001b[0m\u001b[0;34m\"cristiano\"\u001b[0m\u001b[0;34m/\u001b[0m\u001b[0;34m\"Ronaldo\"\u001b[0m\u001b[0;34m)\u001b[0m\u001b[0;34m\u001b[0m\u001b[0;34m\u001b[0m\u001b[0m\n\u001b[0m",
            "\u001b[0;31mTypeError\u001b[0m: unsupported operand type(s) for /: 'str' and 'str'"
          ]
        }
      ]
    },
    {
      "cell_type": "code",
      "source": [
        "print(\"cristiano\"*5)"
      ],
      "metadata": {
        "colab": {
          "base_uri": "https://localhost:8080/"
        },
        "id": "Vaig7Fzr12fn",
        "outputId": "ef72cf11-cffa-41cc-f389-992791d8c604"
      },
      "execution_count": null,
      "outputs": [
        {
          "output_type": "stream",
          "name": "stdout",
          "text": [
            "cristianocristianocristianocristianocristiano\n"
          ]
        }
      ]
    },
    {
      "cell_type": "code",
      "source": [
        "print(5*\"cristiano\")"
      ],
      "metadata": {
        "colab": {
          "base_uri": "https://localhost:8080/"
        },
        "id": "9S5vwi1J12b8",
        "outputId": "3c580c7d-bcf6-4222-80bd-9810e0b6554c"
      },
      "execution_count": null,
      "outputs": [
        {
          "output_type": "stream",
          "name": "stdout",
          "text": [
            "cristianocristianocristianocristianocristiano\n"
          ]
        }
      ]
    },
    {
      "cell_type": "code",
      "source": [
        "# f string\n",
        "output= \"Age of Ronaldo is 38 year\"\n",
        "print(output)"
      ],
      "metadata": {
        "colab": {
          "base_uri": "https://localhost:8080/"
        },
        "id": "sqGKBjZW12YZ",
        "outputId": "106d8080-dc8f-4fbc-b257-29f5a3a5c486"
      },
      "execution_count": null,
      "outputs": [
        {
          "output_type": "stream",
          "name": "stdout",
          "text": [
            "Age of Ronaldo is 38 year\n"
          ]
        }
      ]
    },
    {
      "cell_type": "code",
      "source": [
        "age = 39\n",
        "output = f\"age of the Ronaldo is {age} years\"\n",
        "print(output)"
      ],
      "metadata": {
        "colab": {
          "base_uri": "https://localhost:8080/"
        },
        "id": "goYPmz4o12VU",
        "outputId": "a8127ff9-fc66-4fa3-cd08-f1593aa8db75"
      },
      "execution_count": null,
      "outputs": [
        {
          "output_type": "stream",
          "name": "stdout",
          "text": [
            "age of the Ronaldo is 39 years\n"
          ]
        }
      ]
    },
    {
      "cell_type": "code",
      "source": [
        "# Replace the data with variable\n",
        "# put the variable in {}\n",
        "# put f in front of the starting quotes"
      ],
      "metadata": {
        "id": "TXmd9WOP12R8"
      },
      "execution_count": null,
      "outputs": []
    },
    {
      "cell_type": "code",
      "source": [
        "age = 39\n",
        "output = f\"age of the Ronaldo is {float(age)} years\"\n",
        "age = 40\n",
        "print(output)"
      ],
      "metadata": {
        "colab": {
          "base_uri": "https://localhost:8080/"
        },
        "id": "Dv0BnmVW12Op",
        "outputId": "0d51cc6b-b47b-4bac-e4b7-92c8e38a6898"
      },
      "execution_count": null,
      "outputs": [
        {
          "output_type": "stream",
          "name": "stdout",
          "text": [
            "age of the Ronaldo is 39.0 years\n"
          ]
        }
      ]
    },
    {
      "cell_type": "code",
      "source": [
        "s = \"Ronaldo-CR7\"\n",
        "print(s.lower())"
      ],
      "metadata": {
        "colab": {
          "base_uri": "https://localhost:8080/"
        },
        "id": "RzDMHBdB12Lk",
        "outputId": "196324d9-3629-46f0-baaa-833b4de3ceaf"
      },
      "execution_count": null,
      "outputs": [
        {
          "output_type": "stream",
          "name": "stdout",
          "text": [
            "ronaldo-cr7\n"
          ]
        }
      ]
    },
    {
      "cell_type": "code",
      "source": [
        "s = \"Ronaldo-CR7\"\n",
        "print(s.upper())"
      ],
      "metadata": {
        "colab": {
          "base_uri": "https://localhost:8080/"
        },
        "id": "GcMvgTRt12IH",
        "outputId": "3b5da5f5-9cd3-4249-ff33-e20f75f0f8f3"
      },
      "execution_count": null,
      "outputs": [
        {
          "output_type": "stream",
          "name": "stdout",
          "text": [
            "RONALDO-CR7\n"
          ]
        }
      ]
    },
    {
      "cell_type": "code",
      "source": [
        "s = \"Ronaldo-CR7\"\n",
        "print(s.capitalize())"
      ],
      "metadata": {
        "colab": {
          "base_uri": "https://localhost:8080/"
        },
        "id": "jVBDQd4C12EJ",
        "outputId": "878e5a0c-498f-4ac4-d858-d5d9d0e56a08"
      },
      "execution_count": null,
      "outputs": [
        {
          "output_type": "stream",
          "name": "stdout",
          "text": [
            "Ronaldo-cr7\n"
          ]
        }
      ]
    },
    {
      "cell_type": "code",
      "source": [
        "s = \"Ronaldo-CR7\"\n",
        "print(s.split('-'))"
      ],
      "metadata": {
        "colab": {
          "base_uri": "https://localhost:8080/"
        },
        "id": "V0pDxddq8k8m",
        "outputId": "5c6164d8-06ab-4012-9dc5-0ecec6d073a8"
      },
      "execution_count": null,
      "outputs": [
        {
          "output_type": "stream",
          "name": "stdout",
          "text": [
            "['Ronaldo', 'CR7']\n"
          ]
        }
      ]
    },
    {
      "cell_type": "code",
      "source": [
        "s = 'CRISTIANO RONALDO'\n",
        "print(s.capitalize()) # sentance of the starting word starting letter capital\n",
        "print(s.title()) # each word capital"
      ],
      "metadata": {
        "colab": {
          "base_uri": "https://localhost:8080/"
        },
        "id": "9p0FimSC8k4R",
        "outputId": "e26486d3-8e37-48ec-eade-0bb162abf77c"
      },
      "execution_count": null,
      "outputs": [
        {
          "output_type": "stream",
          "name": "stdout",
          "text": [
            "Cristiano ronaldo\n",
            "Cristiano Ronaldo\n"
          ]
        }
      ]
    },
    {
      "cell_type": "code",
      "source": [
        "# ask the user for space separated int as input ( do only one input)\n",
        "# store the int in a python list\n",
        "# \"1 -10 2 100\" >> [1, -10 ,2, 100]\n",
        "\n",
        "user_input = input()\n",
        "user_input = user_input.split()\n",
        "for index in range (len(user_input)):\n",
        "    user_input[index] = int(user_input[index])\n",
        "print(user_input)"
      ],
      "metadata": {
        "colab": {
          "base_uri": "https://localhost:8080/"
        },
        "id": "Y0_OiRFe8k2G",
        "outputId": "276195ae-569e-4dac-d5af-3c2228270837"
      },
      "execution_count": null,
      "outputs": [
        {
          "output_type": "stream",
          "name": "stdout",
          "text": [
            "1 -10 2 100\n",
            "[1, -10, 2, 100]\n"
          ]
        }
      ]
    },
    {
      "cell_type": "markdown",
      "source": [
        "Take a string input from user and print that string character by character, with each character in new line.\n",
        "\n",
        "Input:\n",
        "\"INDIA\"\n",
        "\n",
        "Output:\n",
        "\n",
        "I\\\n",
        "N\\\n",
        "D\\\n",
        "I\\\n",
        "A\n",
        "\n",
        "\n"
      ],
      "metadata": {
        "id": "ipWPjpMIA14j"
      }
    },
    {
      "cell_type": "code",
      "source": [
        "Name = input()\n",
        "for i in Name :\n",
        "    print(i)"
      ],
      "metadata": {
        "colab": {
          "base_uri": "https://localhost:8080/",
          "height": 210
        },
        "id": "d34Nnv258kyp",
        "outputId": "6725f2d5-b255-4586-fea1-cc4e4b5842e0"
      },
      "execution_count": null,
      "outputs": [
        {
          "output_type": "error",
          "ename": "TypeError",
          "evalue": "ignored",
          "traceback": [
            "\u001b[0;31m---------------------------------------------------------------------------\u001b[0m",
            "\u001b[0;31mTypeError\u001b[0m                                 Traceback (most recent call last)",
            "\u001b[0;32m<ipython-input-74-dbcc2c29d602>\u001b[0m in \u001b[0;36m<cell line: 1>\u001b[0;34m()\u001b[0m\n\u001b[0;32m----> 1\u001b[0;31m \u001b[0mName\u001b[0m \u001b[0;34m=\u001b[0m \u001b[0minput\u001b[0m\u001b[0;34m(\u001b[0m\u001b[0;34m)\u001b[0m\u001b[0;34m\u001b[0m\u001b[0;34m\u001b[0m\u001b[0m\n\u001b[0m\u001b[1;32m      2\u001b[0m \u001b[0;32mfor\u001b[0m \u001b[0mi\u001b[0m \u001b[0;32min\u001b[0m \u001b[0mName\u001b[0m \u001b[0;34m:\u001b[0m\u001b[0;34m\u001b[0m\u001b[0;34m\u001b[0m\u001b[0m\n\u001b[1;32m      3\u001b[0m     \u001b[0mprint\u001b[0m\u001b[0;34m(\u001b[0m\u001b[0mi\u001b[0m\u001b[0;34m)\u001b[0m\u001b[0;34m\u001b[0m\u001b[0;34m\u001b[0m\u001b[0m\n",
            "\u001b[0;31mTypeError\u001b[0m: 'str' object is not callable"
          ]
        }
      ]
    },
    {
      "cell_type": "code",
      "source": [
        "s = \"India\"\n",
        "print(s[:2]+\"D\"+s[3:])"
      ],
      "metadata": {
        "colab": {
          "base_uri": "https://localhost:8080/"
        },
        "id": "eV4s6nVr8kwN",
        "outputId": "2040dc95-2f14-4b76-98f7-e18108de02dc"
      },
      "execution_count": null,
      "outputs": [
        {
          "output_type": "stream",
          "name": "stdout",
          "text": [
            "InDia\n"
          ]
        }
      ]
    },
    {
      "cell_type": "markdown",
      "source": [
        "\n",
        "\n",
        "*   Take a string input from user\n",
        "*   Print the number of upper case charecters imn that string.\n",
        "\n",
        "Input : \"This is a RANDOM strinG 67890, ^$#@\"\n",
        "\n",
        "Output : : 8"
      ],
      "metadata": {
        "id": "Yvl0SYn-DIIk"
      }
    },
    {
      "cell_type": "code",
      "source": [
        "inp_user = input(str())\n",
        "count = 0\n",
        "for character in inp_user:\n",
        "    if ord(character)>=ord('A') and ord(character)<=ord('Z'):\n",
        "        count+=1\n",
        "print(count)"
      ],
      "metadata": {
        "colab": {
          "base_uri": "https://localhost:8080/",
          "height": 245
        },
        "id": "GugVyvDwDAYB",
        "outputId": "aa9922c1-c17b-4f4a-8fa4-3ad0fe13f490"
      },
      "execution_count": null,
      "outputs": [
        {
          "output_type": "error",
          "ename": "TypeError",
          "evalue": "ignored",
          "traceback": [
            "\u001b[0;31m---------------------------------------------------------------------------\u001b[0m",
            "\u001b[0;31mTypeError\u001b[0m                                 Traceback (most recent call last)",
            "\u001b[0;32m<ipython-input-85-ce863a1b45a3>\u001b[0m in \u001b[0;36m<cell line: 1>\u001b[0;34m()\u001b[0m\n\u001b[0;32m----> 1\u001b[0;31m \u001b[0minp_user\u001b[0m \u001b[0;34m=\u001b[0m \u001b[0minput\u001b[0m\u001b[0;34m(\u001b[0m\u001b[0mstr\u001b[0m\u001b[0;34m(\u001b[0m\u001b[0;34m)\u001b[0m\u001b[0;34m)\u001b[0m\u001b[0;34m\u001b[0m\u001b[0;34m\u001b[0m\u001b[0m\n\u001b[0m\u001b[1;32m      2\u001b[0m \u001b[0mcount\u001b[0m \u001b[0;34m=\u001b[0m \u001b[0;36m0\u001b[0m\u001b[0;34m\u001b[0m\u001b[0;34m\u001b[0m\u001b[0m\n\u001b[1;32m      3\u001b[0m \u001b[0;32mfor\u001b[0m \u001b[0mcharacter\u001b[0m \u001b[0;32min\u001b[0m \u001b[0minp_user\u001b[0m\u001b[0;34m:\u001b[0m\u001b[0;34m\u001b[0m\u001b[0;34m\u001b[0m\u001b[0m\n\u001b[1;32m      4\u001b[0m     \u001b[0;32mif\u001b[0m \u001b[0mord\u001b[0m\u001b[0;34m(\u001b[0m\u001b[0mcharacter\u001b[0m\u001b[0;34m)\u001b[0m\u001b[0;34m>=\u001b[0m\u001b[0mord\u001b[0m\u001b[0;34m(\u001b[0m\u001b[0;34m'A'\u001b[0m\u001b[0;34m)\u001b[0m \u001b[0;32mand\u001b[0m \u001b[0mord\u001b[0m\u001b[0;34m(\u001b[0m\u001b[0mcharacter\u001b[0m\u001b[0;34m)\u001b[0m\u001b[0;34m<=\u001b[0m\u001b[0mord\u001b[0m\u001b[0;34m(\u001b[0m\u001b[0;34m'Z'\u001b[0m\u001b[0;34m)\u001b[0m\u001b[0;34m:\u001b[0m\u001b[0;34m\u001b[0m\u001b[0;34m\u001b[0m\u001b[0m\n\u001b[1;32m      5\u001b[0m         \u001b[0mcount\u001b[0m\u001b[0;34m+=\u001b[0m\u001b[0;36m1\u001b[0m\u001b[0;34m\u001b[0m\u001b[0;34m\u001b[0m\u001b[0m\n",
            "\u001b[0;31mTypeError\u001b[0m: 'str' object is not callable"
          ]
        }
      ]
    },
    {
      "cell_type": "code",
      "source": [
        "inp = input()\n",
        "count = 0\n",
        "for character in inp:\n",
        "    if ord(character)>=ord('A') and ord(character)<=ord('Z'):\n",
        "        # print(character)\n",
        "        count+=1\n",
        "print(count)"
      ],
      "metadata": {
        "colab": {
          "base_uri": "https://localhost:8080/",
          "height": 245
        },
        "id": "w9vKONm78ktw",
        "outputId": "982b4fae-c9de-4575-8ed6-27dc2b9735b5"
      },
      "execution_count": null,
      "outputs": [
        {
          "output_type": "error",
          "ename": "TypeError",
          "evalue": "ignored",
          "traceback": [
            "\u001b[0;31m---------------------------------------------------------------------------\u001b[0m",
            "\u001b[0;31mTypeError\u001b[0m                                 Traceback (most recent call last)",
            "\u001b[0;32m<ipython-input-86-e60af328c408>\u001b[0m in \u001b[0;36m<cell line: 1>\u001b[0;34m()\u001b[0m\n\u001b[0;32m----> 1\u001b[0;31m \u001b[0minp\u001b[0m \u001b[0;34m=\u001b[0m \u001b[0minput\u001b[0m\u001b[0;34m(\u001b[0m\u001b[0;34m)\u001b[0m\u001b[0;34m\u001b[0m\u001b[0;34m\u001b[0m\u001b[0m\n\u001b[0m\u001b[1;32m      2\u001b[0m \u001b[0mcount\u001b[0m \u001b[0;34m=\u001b[0m \u001b[0;36m0\u001b[0m\u001b[0;34m\u001b[0m\u001b[0;34m\u001b[0m\u001b[0m\n\u001b[1;32m      3\u001b[0m \u001b[0;32mfor\u001b[0m \u001b[0mcharacter\u001b[0m \u001b[0;32min\u001b[0m \u001b[0minp\u001b[0m\u001b[0;34m:\u001b[0m\u001b[0;34m\u001b[0m\u001b[0;34m\u001b[0m\u001b[0m\n\u001b[1;32m      4\u001b[0m     \u001b[0;32mif\u001b[0m \u001b[0mord\u001b[0m\u001b[0;34m(\u001b[0m\u001b[0mcharacter\u001b[0m\u001b[0;34m)\u001b[0m\u001b[0;34m>=\u001b[0m\u001b[0mord\u001b[0m\u001b[0;34m(\u001b[0m\u001b[0;34m'A'\u001b[0m\u001b[0;34m)\u001b[0m \u001b[0;32mand\u001b[0m \u001b[0mord\u001b[0m\u001b[0;34m(\u001b[0m\u001b[0mcharacter\u001b[0m\u001b[0;34m)\u001b[0m\u001b[0;34m<=\u001b[0m\u001b[0mord\u001b[0m\u001b[0;34m(\u001b[0m\u001b[0;34m'Z'\u001b[0m\u001b[0;34m)\u001b[0m\u001b[0;34m:\u001b[0m\u001b[0;34m\u001b[0m\u001b[0;34m\u001b[0m\u001b[0m\n\u001b[1;32m      5\u001b[0m         \u001b[0;31m# print(character)\u001b[0m\u001b[0;34m\u001b[0m\u001b[0;34m\u001b[0m\u001b[0m\n",
            "\u001b[0;31mTypeError\u001b[0m: 'str' object is not callable"
          ]
        }
      ]
    },
    {
      "cell_type": "code",
      "source": [],
      "metadata": {
        "id": "bYPnCBzt8krT"
      },
      "execution_count": null,
      "outputs": []
    },
    {
      "cell_type": "code",
      "source": [],
      "metadata": {
        "id": "VYlAyqfr8koH"
      },
      "execution_count": null,
      "outputs": []
    },
    {
      "cell_type": "code",
      "source": [],
      "metadata": {
        "id": "Clh9w_Wv8kly"
      },
      "execution_count": null,
      "outputs": []
    },
    {
      "cell_type": "code",
      "source": [],
      "metadata": {
        "id": "zafMYEw28kjx"
      },
      "execution_count": null,
      "outputs": []
    },
    {
      "cell_type": "code",
      "source": [],
      "metadata": {
        "id": "94vqjvrV8khS"
      },
      "execution_count": null,
      "outputs": []
    },
    {
      "cell_type": "code",
      "source": [],
      "metadata": {
        "id": "s_AkUEM28kfJ"
      },
      "execution_count": null,
      "outputs": []
    },
    {
      "cell_type": "code",
      "source": [],
      "metadata": {
        "id": "0B5QrwZ78kcy"
      },
      "execution_count": null,
      "outputs": []
    },
    {
      "cell_type": "code",
      "source": [],
      "metadata": {
        "id": "l7sj5iTN8kas"
      },
      "execution_count": null,
      "outputs": []
    },
    {
      "cell_type": "code",
      "source": [],
      "metadata": {
        "id": "KcKRLl_N12AQ"
      },
      "execution_count": null,
      "outputs": []
    },
    {
      "cell_type": "code",
      "execution_count": null,
      "metadata": {
        "id": "Wgaahxff5bdz"
      },
      "outputs": [],
      "source": [
        "#Assignments"
      ]
    },
    {
      "cell_type": "code",
      "source": [
        "players = ['Jadeja','Rahul','Rohit']\n",
        "players+='Dhoni Virat'\n",
        "print(players)"
      ],
      "metadata": {
        "colab": {
          "base_uri": "https://localhost:8080/"
        },
        "id": "eiZNYU5Dh3w6",
        "outputId": "2d2fa5ba-0573-4978-8159-983d39d04f71"
      },
      "execution_count": null,
      "outputs": [
        {
          "output_type": "stream",
          "name": "stdout",
          "text": [
            "['Jadeja', 'Rahul', 'Rohit', 'D', 'h', 'o', 'n', 'i', ' ', 'V', 'i', 'r', 'a', 't']\n"
          ]
        }
      ]
    },
    {
      "cell_type": "code",
      "source": [
        "players = ['Jadeja','Rahul','Rohit']\n",
        "players[len(players):] = ['Dhoni', 'Virat']\n",
        "print(players)"
      ],
      "metadata": {
        "colab": {
          "base_uri": "https://localhost:8080/"
        },
        "id": "Hur_uaC9ipI2",
        "outputId": "526726b6-d344-4cf8-8873-67d38c668245"
      },
      "execution_count": null,
      "outputs": [
        {
          "output_type": "stream",
          "name": "stdout",
          "text": [
            "['Jadeja', 'Rahul', 'Rohit', 'Dhoni', 'Virat']\n"
          ]
        }
      ]
    },
    {
      "cell_type": "code",
      "source": [
        "players = ['Jadeja','Rahul','Rohit']\n",
        "players[-1:] = ['Dhoni', 'Virat']\n",
        "print(players)"
      ],
      "metadata": {
        "colab": {
          "base_uri": "https://localhost:8080/"
        },
        "id": "cOTh8eGaiv19",
        "outputId": "8ff7b98e-9568-4d87-8a29-86d3bbf30eea"
      },
      "execution_count": null,
      "outputs": [
        {
          "output_type": "stream",
          "name": "stdout",
          "text": [
            "['Jadeja', 'Rahul', 'Dhoni', 'Virat']\n"
          ]
        }
      ]
    },
    {
      "cell_type": "code",
      "source": [
        "players = ['Jadeja','Rahul','Rohit']\n",
        "players+=['Dhoni', 'Virat']\n",
        "print(players)"
      ],
      "metadata": {
        "colab": {
          "base_uri": "https://localhost:8080/"
        },
        "id": "Ned890Vgi6o0",
        "outputId": "ffc83d37-303c-4067-d0ed-cec2d3c03689"
      },
      "execution_count": null,
      "outputs": [
        {
          "output_type": "stream",
          "name": "stdout",
          "text": [
            "['Jadeja', 'Rahul', 'Rohit', 'Dhoni', 'Virat']\n"
          ]
        }
      ]
    },
    {
      "cell_type": "code",
      "source": [
        "a = 'hello'\n",
        "b = a\n",
        "a = 'yello'\n",
        "\n",
        "print(b)\n",
        "print(a)"
      ],
      "metadata": {
        "colab": {
          "base_uri": "https://localhost:8080/"
        },
        "id": "FCkomaA2bTk1",
        "outputId": "acc68456-5c2b-4cbe-e314-994bccac466c"
      },
      "execution_count": null,
      "outputs": [
        {
          "output_type": "stream",
          "name": "stdout",
          "text": [
            "hello\n",
            "yello\n"
          ]
        }
      ]
    },
    {
      "cell_type": "code",
      "source": [
        "words= ['goOd','mORNing','HOW','are','yoU','todAy']\n",
        "\n",
        "def upper_char(words):\n",
        "  output=[]\n",
        "  for i in range(len(words)):\n",
        "    if words[i][3].isupper() == False:\n",
        "        output.append(words[i])\n",
        "    return output\n",
        "upper_char(words)"
      ],
      "metadata": {
        "colab": {
          "base_uri": "https://localhost:8080/"
        },
        "id": "7fBXIAW-dvyj",
        "outputId": "3c43ed87-5e7f-45fd-faf7-5e2e95102371"
      },
      "execution_count": null,
      "outputs": [
        {
          "output_type": "execute_result",
          "data": {
            "text/plain": [
              "['goOd']"
            ]
          },
          "metadata": {},
          "execution_count": 15
        }
      ]
    },
    {
      "cell_type": "code",
      "source": [
        "words= ['goOd','mORNing','HOW','are','yoU','todAy']\n",
        "\n",
        "def upper_char(words):\n",
        "  output=[]\n",
        "  for i in range(len(words)):\n",
        "    if words[i][2].isupper() == False:\n",
        "        output.append(words[i])\n",
        "    return output\n",
        "upper_char(words)"
      ],
      "metadata": {
        "colab": {
          "base_uri": "https://localhost:8080/"
        },
        "id": "tUlVH6Y4d44R",
        "outputId": "e1d7c203-07a3-4828-db33-79fb75899088"
      },
      "execution_count": null,
      "outputs": [
        {
          "output_type": "execute_result",
          "data": {
            "text/plain": [
              "[]"
            ]
          },
          "metadata": {},
          "execution_count": 16
        }
      ]
    },
    {
      "cell_type": "code",
      "source": [
        "words= ['goOd','mORNing','HOW','are','yoU','todAy']\n",
        "\n",
        "def upper_char(words):\n",
        "  output=[]\n",
        "  for i in range(len(words)):\n",
        "    if words[i][3].islower() == False:\n",
        "        output.append(words[i])\n",
        "    return output\n",
        "upper_char(words)"
      ],
      "metadata": {
        "colab": {
          "base_uri": "https://localhost:8080/"
        },
        "id": "yh4ogOhwd5Rg",
        "outputId": "77d2d11b-1dd1-4bd9-a07c-15e39f469f19"
      },
      "execution_count": null,
      "outputs": [
        {
          "output_type": "execute_result",
          "data": {
            "text/plain": [
              "[]"
            ]
          },
          "metadata": {},
          "execution_count": 18
        }
      ]
    },
    {
      "cell_type": "code",
      "source": [
        "words= ['goOd','mORNing','HOW','are','yoU','todAy']\n",
        "\n",
        "def upper_char(words):\n",
        "  output=[]\n",
        "  for i in range(len(words)):\n",
        "    if words[i][2].isupper() == True:\n",
        "        output.append(words[i])\n",
        "    return output\n",
        "upper_char(words)"
      ],
      "metadata": {
        "colab": {
          "base_uri": "https://localhost:8080/"
        },
        "id": "5zCM5aXnd5tF",
        "outputId": "72d97984-e489-4644-eab6-06fc9744c88c"
      },
      "execution_count": null,
      "outputs": [
        {
          "output_type": "execute_result",
          "data": {
            "text/plain": [
              "['goOd']"
            ]
          },
          "metadata": {},
          "execution_count": 19
        }
      ]
    },
    {
      "cell_type": "code",
      "source": [
        "print(“hello”+1+2+3)"
      ],
      "metadata": {
        "colab": {
          "base_uri": "https://localhost:8080/",
          "height": 140
        },
        "id": "MCr7AGqXe26G",
        "outputId": "0bf2bf28-9db9-4808-8017-e6bbff9a2e21"
      },
      "execution_count": null,
      "outputs": [
        {
          "output_type": "error",
          "ename": "SyntaxError",
          "evalue": "ignored",
          "traceback": [
            "\u001b[0;36m  File \u001b[0;32m\"<ipython-input-20-ced5a2fde0a0>\"\u001b[0;36m, line \u001b[0;32m1\u001b[0m\n\u001b[0;31m    print(“hello”+1+2+3)\u001b[0m\n\u001b[0m          ^\u001b[0m\n\u001b[0;31mSyntaxError\u001b[0m\u001b[0;31m:\u001b[0m invalid character '“' (U+201C)\n"
          ]
        }
      ]
    },
    {
      "cell_type": "code",
      "source": [
        "name_lst = [\"Vijay\", \"Vickey\"]\n",
        "tup = (\"Item_1\", 0.5, name_lst)\n",
        "name_lst.append(\"Vishal\")\n",
        "print(tup)"
      ],
      "metadata": {
        "id": "5zBM_5dZfuJf",
        "colab": {
          "base_uri": "https://localhost:8080/"
        },
        "outputId": "f3528148-abde-428c-99a0-2c9b04dfd65f"
      },
      "execution_count": null,
      "outputs": [
        {
          "output_type": "stream",
          "name": "stdout",
          "text": [
            "('Item_1', 0.5, ['Vijay', 'Vickey', 'Vishal'])\n"
          ]
        }
      ]
    },
    {
      "cell_type": "code",
      "source": [
        "tuple1 = (1150,'sea_level',909)\n",
        "print(max(tuple1))"
      ],
      "metadata": {
        "colab": {
          "base_uri": "https://localhost:8080/",
          "height": 192
        },
        "id": "gO8-PxpZ20cX",
        "outputId": "c4fe239d-fbfe-4ec4-897a-a2f9609c3163"
      },
      "execution_count": null,
      "outputs": [
        {
          "output_type": "error",
          "ename": "TypeError",
          "evalue": "ignored",
          "traceback": [
            "\u001b[0;31m---------------------------------------------------------------------------\u001b[0m",
            "\u001b[0;31mTypeError\u001b[0m                                 Traceback (most recent call last)",
            "\u001b[0;32m<ipython-input-2-67d93edfe35f>\u001b[0m in \u001b[0;36m<cell line: 2>\u001b[0;34m()\u001b[0m\n\u001b[1;32m      1\u001b[0m \u001b[0mtuple1\u001b[0m \u001b[0;34m=\u001b[0m \u001b[0;34m(\u001b[0m\u001b[0;36m1150\u001b[0m\u001b[0;34m,\u001b[0m\u001b[0;34m'sea_level'\u001b[0m\u001b[0;34m,\u001b[0m\u001b[0;36m909\u001b[0m\u001b[0;34m)\u001b[0m\u001b[0;34m\u001b[0m\u001b[0;34m\u001b[0m\u001b[0m\n\u001b[0;32m----> 2\u001b[0;31m \u001b[0mprint\u001b[0m\u001b[0;34m(\u001b[0m\u001b[0mmax\u001b[0m\u001b[0;34m(\u001b[0m\u001b[0mtuple1\u001b[0m\u001b[0;34m)\u001b[0m\u001b[0;34m)\u001b[0m\u001b[0;34m\u001b[0m\u001b[0;34m\u001b[0m\u001b[0m\n\u001b[0m",
            "\u001b[0;31mTypeError\u001b[0m: '>' not supported between instances of 'str' and 'int'"
          ]
        }
      ]
    },
    {
      "cell_type": "code",
      "source": [
        "tuple1 = (1150,877,909)\n",
        "print(max(tuple1))"
      ],
      "metadata": {
        "colab": {
          "base_uri": "https://localhost:8080/"
        },
        "id": "p9efYI1B29X_",
        "outputId": "408860cc-b791-4147-afdc-585079919252"
      },
      "execution_count": null,
      "outputs": [
        {
          "output_type": "stream",
          "name": "stdout",
          "text": [
            "1150\n"
          ]
        }
      ]
    },
    {
      "cell_type": "code",
      "source": [
        "fruits = (\"Orange\", type)"
      ],
      "metadata": {
        "id": "vpWPj-b_3C-R"
      },
      "execution_count": null,
      "outputs": []
    },
    {
      "cell_type": "code",
      "source": [
        "elements = (10, 20, 30, 40, 50, 60, 70, 80)\n",
        "print(elements[2:5], elements[:4], elements[3:100])"
      ],
      "metadata": {
        "colab": {
          "base_uri": "https://localhost:8080/"
        },
        "id": "sOedKG5b3PUO",
        "outputId": "1fae50c1-41b2-402d-fb70-54eab1234e4e"
      },
      "execution_count": null,
      "outputs": [
        {
          "output_type": "stream",
          "name": "stdout",
          "text": [
            "(30, 40, 50) (10, 20, 30, 40) (40, 50, 60, 70, 80)\n"
          ]
        }
      ]
    },
    {
      "cell_type": "markdown",
      "source": [
        "### ***Day 45 : Strings 02 (10-08-2023) ***"
      ],
      "metadata": {
        "id": "IvVD8v8d3g55"
      }
    },
    {
      "cell_type": "code",
      "source": [],
      "metadata": {
        "id": "wJwAPpbI3pxp"
      },
      "execution_count": null,
      "outputs": []
    },
    {
      "cell_type": "markdown",
      "source": [
        "## Day 46 : Tuples + Sets (12-08-2023)"
      ],
      "metadata": {
        "id": "Fjg6tp_QWC7I"
      }
    },
    {
      "cell_type": "code",
      "source": [
        "planets = [\"mercury\", \"venus\", \"earth\", \"mars\", \"jupiter\", \"saturn\", \"urenus\", \"neptune\"]\n",
        "print(planets)\n",
        "print(type(planets))"
      ],
      "metadata": {
        "id": "R8PWnvbhg1zo",
        "colab": {
          "base_uri": "https://localhost:8080/"
        },
        "outputId": "3c996822-27ca-408f-9867-2c20abc8a601"
      },
      "execution_count": null,
      "outputs": [
        {
          "output_type": "stream",
          "name": "stdout",
          "text": [
            "['mercury', 'venus', 'earth', 'mars', 'jupiter', 'saturn', 'urenus', 'neptune']\n",
            "<class 'list'>\n"
          ]
        }
      ]
    },
    {
      "cell_type": "code",
      "source": [],
      "metadata": {
        "id": "mlfu-bpZiAMB"
      },
      "execution_count": null,
      "outputs": []
    },
    {
      "cell_type": "code",
      "source": [],
      "metadata": {
        "id": "NwQyB8d4Xym7"
      },
      "execution_count": null,
      "outputs": []
    },
    {
      "cell_type": "code",
      "source": [],
      "metadata": {
        "id": "Ktfqh4dPLUkZ"
      },
      "execution_count": null,
      "outputs": []
    },
    {
      "cell_type": "code",
      "source": [
        "def multiple_print(s, n = 1):\n",
        "    print(s * n, end='')\n",
        "    print() # this prints new line i.e. \\n\n",
        "\n",
        "multiple_print('Hello', 2)\n",
        "multiple_print('Hello')"
      ],
      "metadata": {
        "colab": {
          "base_uri": "https://localhost:8080/"
        },
        "id": "eY4T7oT2LUgm",
        "outputId": "82bddef7-e16e-4f78-81e9-2d568482c685"
      },
      "execution_count": null,
      "outputs": [
        {
          "output_type": "stream",
          "name": "stdout",
          "text": [
            "HelloHello\n",
            "Hello\n"
          ]
        }
      ]
    },
    {
      "cell_type": "code",
      "source": [
        "def foo():\n",
        "    x = \"hello world\"\n",
        "\n",
        "foo()\n",
        "print(x)"
      ],
      "metadata": {
        "colab": {
          "base_uri": "https://localhost:8080/",
          "height": 210
        },
        "id": "PMpWlh6CMJ0V",
        "outputId": "15c64c43-ea6f-4062-c5e0-cb894517ea91"
      },
      "execution_count": null,
      "outputs": [
        {
          "output_type": "error",
          "ename": "NameError",
          "evalue": "ignored",
          "traceback": [
            "\u001b[0;31m---------------------------------------------------------------------------\u001b[0m",
            "\u001b[0;31mNameError\u001b[0m                                 Traceback (most recent call last)",
            "\u001b[0;32m<ipython-input-2-d20d3433c273>\u001b[0m in \u001b[0;36m<cell line: 5>\u001b[0;34m()\u001b[0m\n\u001b[1;32m      3\u001b[0m \u001b[0;34m\u001b[0m\u001b[0m\n\u001b[1;32m      4\u001b[0m \u001b[0mfoo\u001b[0m\u001b[0;34m(\u001b[0m\u001b[0;34m)\u001b[0m\u001b[0;34m\u001b[0m\u001b[0;34m\u001b[0m\u001b[0m\n\u001b[0;32m----> 5\u001b[0;31m \u001b[0mprint\u001b[0m\u001b[0;34m(\u001b[0m\u001b[0mx\u001b[0m\u001b[0;34m)\u001b[0m\u001b[0;34m\u001b[0m\u001b[0;34m\u001b[0m\u001b[0m\n\u001b[0m",
            "\u001b[0;31mNameError\u001b[0m: name 'x' is not defined"
          ]
        }
      ]
    },
    {
      "cell_type": "code",
      "source": [
        "for i in range(-6, -10, -1):\n",
        "     print(i, end =\" \")"
      ],
      "metadata": {
        "colab": {
          "base_uri": "https://localhost:8080/"
        },
        "id": "ibhnFML8PvAq",
        "outputId": "9eff7ec4-48a5-4911-8857-5d722fcc75de"
      },
      "execution_count": null,
      "outputs": [
        {
          "output_type": "stream",
          "name": "stdout",
          "text": [
            "-6 -7 -8 -9 "
          ]
        }
      ]
    },
    {
      "cell_type": "code",
      "source": [
        "x = [1, 2]\n",
        "y = [2, 3]\n",
        "\n",
        "for i in x:\n",
        "    for j in y:\n",
        "        print(i, j, end= \" \")"
      ],
      "metadata": {
        "colab": {
          "base_uri": "https://localhost:8080/"
        },
        "id": "vOVnzqe_XtUy",
        "outputId": "9a2c72c2-420c-4bde-da42-6c1c1f5426a2"
      },
      "execution_count": null,
      "outputs": [
        {
          "output_type": "stream",
          "name": "stdout",
          "text": [
            "1 2 1 3 2 2 2 3 "
          ]
        }
      ]
    },
    {
      "cell_type": "code",
      "source": [
        "def function_1():\n",
        "    print(\"third\")\n",
        "    function_2()\n",
        "\n",
        "def function_2():\n",
        "    print(\"second\")\n",
        "    function_3()\n",
        "\n",
        "def function_3():\n",
        "    print(\"first\")\n",
        "\n",
        "function_1()\n"
      ],
      "metadata": {
        "id": "6w4tZSoEZ98X",
        "colab": {
          "base_uri": "https://localhost:8080/"
        },
        "outputId": "68a988a6-9e21-4add-e5c7-9c5de4f68f03"
      },
      "execution_count": null,
      "outputs": [
        {
          "output_type": "stream",
          "name": "stdout",
          "text": [
            "third\n",
            "second\n",
            "first\n"
          ]
        }
      ]
    },
    {
      "cell_type": "code",
      "source": [
        "people = [('Alice', 25), ('Bob', 32), ('Charlie', 20), ('David', 35)]\n",
        "\n",
        "oldest_name = \"\"\n",
        "oldest_age = 100\n",
        "\n",
        "for name, age in people:\n",
        "    if age > oldest_age:\n",
        "        oldest_name = name\n",
        "        oldest_age = age\n",
        "print(\"The oldest person is\", oldest_name)"
      ],
      "metadata": {
        "colab": {
          "base_uri": "https://localhost:8080/"
        },
        "id": "lXYGU9DFCgJJ",
        "outputId": "cc96ef47-8374-4863-f86f-da6ef2b84720"
      },
      "execution_count": null,
      "outputs": [
        {
          "output_type": "stream",
          "name": "stdout",
          "text": [
            "The oldest person is \n"
          ]
        }
      ]
    },
    {
      "cell_type": "code",
      "source": [],
      "metadata": {
        "id": "gLzeH6V7EAzm"
      },
      "execution_count": null,
      "outputs": []
    },
    {
      "cell_type": "code",
      "source": [],
      "metadata": {
        "id": "xC-xOYb-8gg_"
      },
      "execution_count": null,
      "outputs": []
    },
    {
      "cell_type": "code",
      "source": [],
      "metadata": {
        "id": "pf5HCb1t8gd-"
      },
      "execution_count": null,
      "outputs": []
    },
    {
      "cell_type": "code",
      "source": [],
      "metadata": {
        "id": "1CPYILbs8gav"
      },
      "execution_count": null,
      "outputs": []
    },
    {
      "cell_type": "code",
      "source": [],
      "metadata": {
        "id": "ZDmYg32Z8gXy"
      },
      "execution_count": null,
      "outputs": []
    },
    {
      "cell_type": "code",
      "source": [
        "str1 = \"quick brown fox word!\"\n",
        "print(str1[12:15], str1[:5], str1[-5:-1], str1[8:110], str1[-4:])"
      ],
      "metadata": {
        "id": "Ef-qUw4x8gU3"
      },
      "execution_count": null,
      "outputs": []
    },
    {
      "cell_type": "code",
      "source": [],
      "metadata": {
        "id": "PAwPkUYx8hSh"
      },
      "execution_count": null,
      "outputs": []
    },
    {
      "cell_type": "code",
      "source": [
        "import numpy as np\n",
        "arr = np.array([[1,2,3],\n",
        "               [4,5,6],\n",
        "               [7,8,9]])\n",
        "np.hstack((arr, arr[:, [0]])).shape= (3, 4)"
      ],
      "metadata": {
        "id": "7l3f57cxFBqK"
      },
      "execution_count": null,
      "outputs": []
    },
    {
      "cell_type": "code",
      "source": [
        "np.hstack((arr, arr[:, 0])).shape = (3, 4)"
      ],
      "metadata": {
        "colab": {
          "base_uri": "https://localhost:8080/",
          "height": 234
        },
        "id": "wQgfIsQyFiO1",
        "outputId": "156e0d1d-e0f5-4de5-b9f8-e00fece01f15"
      },
      "execution_count": null,
      "outputs": [
        {
          "output_type": "error",
          "ename": "ValueError",
          "evalue": "ignored",
          "traceback": [
            "\u001b[0;31m---------------------------------------------------------------------------\u001b[0m",
            "\u001b[0;31mValueError\u001b[0m                                Traceback (most recent call last)",
            "\u001b[0;32m<ipython-input-5-197c68716cca>\u001b[0m in \u001b[0;36m<cell line: 1>\u001b[0;34m()\u001b[0m\n\u001b[0;32m----> 1\u001b[0;31m \u001b[0mnp\u001b[0m\u001b[0;34m.\u001b[0m\u001b[0mhstack\u001b[0m\u001b[0;34m(\u001b[0m\u001b[0;34m(\u001b[0m\u001b[0marr\u001b[0m\u001b[0;34m,\u001b[0m \u001b[0marr\u001b[0m\u001b[0;34m[\u001b[0m\u001b[0;34m:\u001b[0m\u001b[0;34m,\u001b[0m \u001b[0;36m0\u001b[0m\u001b[0;34m]\u001b[0m\u001b[0;34m)\u001b[0m\u001b[0;34m)\u001b[0m\u001b[0;34m.\u001b[0m\u001b[0mshape\u001b[0m \u001b[0;34m=\u001b[0m \u001b[0;34m(\u001b[0m\u001b[0;36m3\u001b[0m\u001b[0;34m,\u001b[0m \u001b[0;36m4\u001b[0m\u001b[0;34m)\u001b[0m\u001b[0;34m\u001b[0m\u001b[0;34m\u001b[0m\u001b[0m\n\u001b[0m",
            "\u001b[0;32m/usr/local/lib/python3.10/dist-packages/numpy/core/overrides.py\u001b[0m in \u001b[0;36mhstack\u001b[0;34m(*args, **kwargs)\u001b[0m\n",
            "\u001b[0;32m/usr/local/lib/python3.10/dist-packages/numpy/core/shape_base.py\u001b[0m in \u001b[0;36mhstack\u001b[0;34m(tup)\u001b[0m\n\u001b[1;32m    343\u001b[0m         \u001b[0;32mreturn\u001b[0m \u001b[0m_nx\u001b[0m\u001b[0;34m.\u001b[0m\u001b[0mconcatenate\u001b[0m\u001b[0;34m(\u001b[0m\u001b[0marrs\u001b[0m\u001b[0;34m,\u001b[0m \u001b[0;36m0\u001b[0m\u001b[0;34m)\u001b[0m\u001b[0;34m\u001b[0m\u001b[0;34m\u001b[0m\u001b[0m\n\u001b[1;32m    344\u001b[0m     \u001b[0;32melse\u001b[0m\u001b[0;34m:\u001b[0m\u001b[0;34m\u001b[0m\u001b[0;34m\u001b[0m\u001b[0m\n\u001b[0;32m--> 345\u001b[0;31m         \u001b[0;32mreturn\u001b[0m \u001b[0m_nx\u001b[0m\u001b[0;34m.\u001b[0m\u001b[0mconcatenate\u001b[0m\u001b[0;34m(\u001b[0m\u001b[0marrs\u001b[0m\u001b[0;34m,\u001b[0m \u001b[0;36m1\u001b[0m\u001b[0;34m)\u001b[0m\u001b[0;34m\u001b[0m\u001b[0;34m\u001b[0m\u001b[0m\n\u001b[0m\u001b[1;32m    346\u001b[0m \u001b[0;34m\u001b[0m\u001b[0m\n\u001b[1;32m    347\u001b[0m \u001b[0;34m\u001b[0m\u001b[0m\n",
            "\u001b[0;32m/usr/local/lib/python3.10/dist-packages/numpy/core/overrides.py\u001b[0m in \u001b[0;36mconcatenate\u001b[0;34m(*args, **kwargs)\u001b[0m\n",
            "\u001b[0;31mValueError\u001b[0m: all the input arrays must have same number of dimensions, but the array at index 0 has 2 dimension(s) and the array at index 1 has 1 dimension(s)"
          ]
        }
      ]
    },
    {
      "cell_type": "code",
      "source": [
        "np.hstack((arr, arr[:, [0]])).shape= (4, 3)"
      ],
      "metadata": {
        "id": "2KCkjFOuFHXb"
      },
      "execution_count": null,
      "outputs": []
    },
    {
      "cell_type": "code",
      "source": [
        "np.hstack((arr,arr[:, 0])) => Throws Error"
      ],
      "metadata": {
        "colab": {
          "base_uri": "https://localhost:8080/",
          "height": 140
        },
        "id": "f25rmqK0FfLA",
        "outputId": "9ea4c4f5-0cc6-4201-8e29-d5ae30560aca"
      },
      "execution_count": null,
      "outputs": [
        {
          "output_type": "error",
          "ename": "SyntaxError",
          "evalue": "ignored",
          "traceback": [
            "\u001b[0;36m  File \u001b[0;32m\"<ipython-input-7-cf09c6855c3d>\"\u001b[0;36m, line \u001b[0;32m1\u001b[0m\n\u001b[0;31m    np.hstack((arr,arr[:, 0])) => Throws Error\u001b[0m\n\u001b[0m    ^\u001b[0m\n\u001b[0;31mSyntaxError\u001b[0m\u001b[0;31m:\u001b[0m cannot assign to function call\n"
          ]
        }
      ]
    },
    {
      "cell_type": "code",
      "source": [
        "arr = np.arange(10)\n",
        "np.split(arr, 3)"
      ],
      "metadata": {
        "colab": {
          "base_uri": "https://localhost:8080/",
          "height": 338
        },
        "id": "yREX48XFFofb",
        "outputId": "31a043b3-940e-4086-f13a-c4978c2a5a4a"
      },
      "execution_count": null,
      "outputs": [
        {
          "output_type": "error",
          "ename": "ValueError",
          "evalue": "ignored",
          "traceback": [
            "\u001b[0;31m---------------------------------------------------------------------------\u001b[0m",
            "\u001b[0;31mValueError\u001b[0m                                Traceback (most recent call last)",
            "\u001b[0;32m<ipython-input-8-7bc4b45e4143>\u001b[0m in \u001b[0;36m<cell line: 2>\u001b[0;34m()\u001b[0m\n\u001b[1;32m      1\u001b[0m \u001b[0marr\u001b[0m \u001b[0;34m=\u001b[0m \u001b[0mnp\u001b[0m\u001b[0;34m.\u001b[0m\u001b[0marange\u001b[0m\u001b[0;34m(\u001b[0m\u001b[0;36m10\u001b[0m\u001b[0;34m)\u001b[0m\u001b[0;34m\u001b[0m\u001b[0;34m\u001b[0m\u001b[0m\n\u001b[0;32m----> 2\u001b[0;31m \u001b[0mnp\u001b[0m\u001b[0;34m.\u001b[0m\u001b[0msplit\u001b[0m\u001b[0;34m(\u001b[0m\u001b[0marr\u001b[0m\u001b[0;34m,\u001b[0m \u001b[0;36m3\u001b[0m\u001b[0;34m)\u001b[0m\u001b[0;34m\u001b[0m\u001b[0;34m\u001b[0m\u001b[0m\n\u001b[0m",
            "\u001b[0;32m/usr/local/lib/python3.10/dist-packages/numpy/core/overrides.py\u001b[0m in \u001b[0;36msplit\u001b[0;34m(*args, **kwargs)\u001b[0m\n",
            "\u001b[0;32m/usr/local/lib/python3.10/dist-packages/numpy/lib/shape_base.py\u001b[0m in \u001b[0;36msplit\u001b[0;34m(ary, indices_or_sections, axis)\u001b[0m\n\u001b[1;32m    870\u001b[0m         \u001b[0mN\u001b[0m \u001b[0;34m=\u001b[0m \u001b[0mary\u001b[0m\u001b[0;34m.\u001b[0m\u001b[0mshape\u001b[0m\u001b[0;34m[\u001b[0m\u001b[0maxis\u001b[0m\u001b[0;34m]\u001b[0m\u001b[0;34m\u001b[0m\u001b[0;34m\u001b[0m\u001b[0m\n\u001b[1;32m    871\u001b[0m         \u001b[0;32mif\u001b[0m \u001b[0mN\u001b[0m \u001b[0;34m%\u001b[0m \u001b[0msections\u001b[0m\u001b[0;34m:\u001b[0m\u001b[0;34m\u001b[0m\u001b[0;34m\u001b[0m\u001b[0m\n\u001b[0;32m--> 872\u001b[0;31m             raise ValueError(\n\u001b[0m\u001b[1;32m    873\u001b[0m                 'array split does not result in an equal division') from None\n\u001b[1;32m    874\u001b[0m     \u001b[0;32mreturn\u001b[0m \u001b[0marray_split\u001b[0m\u001b[0;34m(\u001b[0m\u001b[0mary\u001b[0m\u001b[0;34m,\u001b[0m \u001b[0mindices_or_sections\u001b[0m\u001b[0;34m,\u001b[0m \u001b[0maxis\u001b[0m\u001b[0;34m)\u001b[0m\u001b[0;34m\u001b[0m\u001b[0;34m\u001b[0m\u001b[0m\n",
            "\u001b[0;31mValueError\u001b[0m: array split does not result in an equal division"
          ]
        }
      ]
    },
    {
      "cell_type": "code",
      "source": [
        "arr = np.arange(10)\n",
        "np.split(arr, 5)"
      ],
      "metadata": {
        "colab": {
          "base_uri": "https://localhost:8080/"
        },
        "id": "AnApFftmF7wG",
        "outputId": "8643b102-3a43-4f48-91f0-954552eee69c"
      },
      "execution_count": null,
      "outputs": [
        {
          "output_type": "execute_result",
          "data": {
            "text/plain": [
              "[array([0, 1]), array([2, 3]), array([4, 5]), array([6, 7]), array([8, 9])]"
            ]
          },
          "metadata": {},
          "execution_count": 9
        }
      ]
    },
    {
      "cell_type": "code",
      "source": [
        "arr = np.arange(10)\n",
        "np.split(arr, [5, 12])"
      ],
      "metadata": {
        "colab": {
          "base_uri": "https://localhost:8080/"
        },
        "id": "zDTmrZZBGC55",
        "outputId": "d6c43865-b382-4528-f10b-0064a587c659"
      },
      "execution_count": null,
      "outputs": [
        {
          "output_type": "execute_result",
          "data": {
            "text/plain": [
              "[array([0, 1, 2, 3, 4]), array([5, 6, 7, 8, 9]), array([], dtype=int64)]"
            ]
          },
          "metadata": {},
          "execution_count": 10
        }
      ]
    },
    {
      "cell_type": "code",
      "source": [
        "arr = array([[[0, 1],\n",
        "             [2, 3]],\n",
        "\n",
        "            [[4, 5],\n",
        "             [6, 7]]])"
      ],
      "metadata": {
        "colab": {
          "base_uri": "https://localhost:8080/",
          "height": 245
        },
        "id": "_we7_P1LGHhH",
        "outputId": "c5dd7506-ee53-4467-dfc0-ed2e4f3fdf03"
      },
      "execution_count": null,
      "outputs": [
        {
          "output_type": "error",
          "ename": "TypeError",
          "evalue": "ignored",
          "traceback": [
            "\u001b[0;31m---------------------------------------------------------------------------\u001b[0m",
            "\u001b[0;31mTypeError\u001b[0m                                 Traceback (most recent call last)",
            "\u001b[0;32m<ipython-input-13-3d9aef0962e0>\u001b[0m in \u001b[0;36m<cell line: 1>\u001b[0;34m()\u001b[0m\n\u001b[0;32m----> 1\u001b[0;31m array = arr([[[0, 1], \n\u001b[0m\u001b[1;32m      2\u001b[0m              [2, 3]], \n\u001b[1;32m      3\u001b[0m \u001b[0;34m\u001b[0m\u001b[0m\n\u001b[1;32m      4\u001b[0m             [[4, 5], \n\u001b[1;32m      5\u001b[0m              [6, 7]]])\n",
            "\u001b[0;31mTypeError\u001b[0m: 'numpy.ndarray' object is not callable"
          ]
        }
      ]
    },
    {
      "cell_type": "code",
      "source": [],
      "metadata": {
        "id": "LqiGK3JfIs_J"
      },
      "execution_count": null,
      "outputs": []
    }
  ],
  "metadata": {
    "colab": {
      "provenance": [],
      "authorship_tag": "ABX9TyMPDc3slOiFii1XWyYksvPl",
      "include_colab_link": true
    },
    "kernelspec": {
      "display_name": "Python 3",
      "name": "python3"
    },
    "language_info": {
      "name": "python"
    }
  },
  "nbformat": 4,
  "nbformat_minor": 0
}